{
 "cells": [
  {
   "cell_type": "code",
   "execution_count": 22,
   "id": "952933bd-0c48-4710-b0ea-834ea0c58019",
   "metadata": {},
   "outputs": [],
   "source": [
    "import requests\n",
    "from bs4 import BeautifulSoup\n",
    "from urllib.parse import urljoin, urlparse\n",
    "\n",
    "import time\n",
    "import os\n",
    "import json\n",
    "from tqdm.auto import tqdm\n",
    "import logging\n",
    "\n",
    "from langchain_community.document_loaders import PyPDFLoader"
   ]
  },
  {
   "cell_type": "markdown",
   "id": "2519704b-9295-4ac1-af1d-70f789fee1d6",
   "metadata": {},
   "source": [
    "## Step 1. Extract all sublinks\n",
    "\n",
    "URLs and PDF files  "
   ]
  },
  {
   "cell_type": "code",
   "execution_count": 23,
   "id": "2a7e96d2-6426-4773-b97a-4361c6213784",
   "metadata": {},
   "outputs": [],
   "source": [
    "# Global Parameters \n",
    "faqs_url = 'https://philnat.unibas.ch/de/faqs/' # ground truth dataset\n",
    "\n",
    "main_urls = ['https://philnat.unibas.ch/de/studium/'\n",
    "            'https://philnat.unibas.ch/de/studium/bachelor/',\n",
    "            'https://philnat.unibas.ch/de/studium/master/',\n",
    "            'https://philnat.unibas.ch/de/studium/ausserfakultaere-studienfaecher/',\n",
    "            'https://philnat.unibas.ch/de/examen/',\n",
    "            'https://tales.nmc.unibas.ch/en/von-adam-bis-zoom-25/',\n",
    "            'https://philnat.unibas.ch/de/forschung',\n",
    "            'https://philnat.unibas.ch/de/forschung/habilitation/'\n",
    "            'https://philnat.unibas.ch/de/forschung/promotionphd/',\n",
    "            'https://philnat.unibas.ch/de/forschung/promotionphd/immatrikulation-ab-hs-2016-registered-fall-semester-2016-or-later/',\n",
    "            'https://philnat.unibas.ch/de/forschung/promotionphd/immatrikulation-bis-und-mit-fs-2016-registered-before-fall-semester-2016/',\n",
    "            'https://philnat.unibas.ch/de/forschung/promotionphd/doktoratsprogramme/',\n",
    "            'https://philnat.unibas.ch/de/forschung/qualitaet/',\n",
    "            'https://philnat.unibas.ch/de/forschung/tenure-verfahren/',\n",
    "            'https://philnat.unibas.ch/de/forschung/titularprofessuren/',\n",
    "            'https://philnat.unibas.ch/de/termine-aktuelles/',\n",
    "            'https://philnat.unibas.ch/de/studium/bachelorfeier/',\n",
    "            'https://www.unibas.ch/de/Studium/Studierendenordnung.html',\n",
    "            'https://www.unibas.ch/de/Studium/Im-Studium/Datenabschrift.html',]\n",
    "\n",
    "\n",
    "limit = 300 # how many PDFs and HTML pages will be processed; in total 2*limit\n",
    "\n",
    "filename = 'faculty_of_science' # resulting json file \n",
    "\n",
    "bot_name = 'Unibasel_RAG_bot/1.0'\n",
    "\n",
    "directory_path = '../../../../data'   # for PDFs "
   ]
  },
  {
   "cell_type": "code",
   "execution_count": 24,
   "id": "45d1d6c3-d8cc-4a25-aeb8-4c05b070ab5a",
   "metadata": {},
   "outputs": [],
   "source": [
    "def save_to_json(data, filename):\n",
    "    with open(filename, 'w') as f:\n",
    "        json.dump(data, f, indent=4)\n"
   ]
  },
  {
   "cell_type": "code",
   "execution_count": 25,
   "id": "70a0a3cd-2029-4758-a6c6-4e6d05a8a902",
   "metadata": {},
   "outputs": [],
   "source": [
    "# only for depth = 1\n",
    "\n",
    "def extract_sublinks(url):\n",
    "    sublinks = set()\n",
    "    pdfs = set()\n",
    "    try:\n",
    "        headers = {'User-Agent': bot_name}\n",
    "        response = requests.get(url, headers=headers)\n",
    "    \n",
    "        soup = BeautifulSoup(response.text, 'html.parser')\n",
    "        \n",
    "        base_url = f\"{urlparse(url).scheme}://{urlparse(url).netloc}\"\n",
    "        \n",
    "        a_tags = soup.find_all('a', href=True)\n",
    "        for a_tag in tqdm(a_tags, desc='Processing links', unit='link'):\n",
    "            link = a_tag['href']\n",
    "            if link.startswith('http://') or link.startswith('https://'):\n",
    "                full_url = link\n",
    "            else:\n",
    "                full_url = urljoin(base_url, link)\n",
    "            \n",
    "            if full_url.endswith('.pdf'):\n",
    "                pdfs.add(full_url)\n",
    "            else:\n",
    "                sublinks.add(full_url)\n",
    "\n",
    "            time.sleep(0.5)\n",
    "                \n",
    "    except Exception as e:\n",
    "        print(f\"Error: {e}\")\n",
    "    \n",
    "    return sublinks, pdfs"
   ]
  },
  {
   "cell_type": "code",
   "execution_count": 26,
   "id": "b9ec7d0c-b8e7-4059-aa6c-2ceb4f77c49f",
   "metadata": {},
   "outputs": [
    {
     "data": {
      "application/vnd.jupyter.widget-view+json": {
       "model_id": "ac0d0097f65849869c6549a531373aff",
       "version_major": 2,
       "version_minor": 0
      },
      "text/plain": [
       "Processing links:   0%|          | 0/70 [00:00<?, ?link/s]"
      ]
     },
     "metadata": {},
     "output_type": "display_data"
    },
    {
     "name": "stdout",
     "output_type": "stream",
     "text": [
      "Total sublinks found: 45\n",
      "Total PDFs found: 14\n"
     ]
    }
   ],
   "source": [
    "# Example\n",
    "\n",
    "url = \"https://philnat.unibas.ch/de/studium/\"\n",
    "\n",
    "sublinks, pdfs = extract_sublinks(url)\n",
    "\n",
    "print(f\"Total sublinks found: {len(sublinks)}\")\n",
    "print(f\"Total PDFs found: {len(pdfs)}\")"
   ]
  },
  {
   "cell_type": "code",
   "execution_count": 27,
   "id": "5049ee1f-fe85-4300-9457-fa7f086624f8",
   "metadata": {},
   "outputs": [
    {
     "name": "stdout",
     "output_type": "stream",
     "text": [
      "Extracted 45 sublinks and saved them to sublinks.json\n",
      "Found 14 PDF documents.\n"
     ]
    }
   ],
   "source": [
    "data = {\n",
    "    \"main_url\": url,\n",
    "    \"sublinks\": list(sublinks)\n",
    "}\n",
    "\n",
    "# Save to JSON file\n",
    "save_to_json(data, \"sublinks.json\")\n",
    "\n",
    "print(f\"Extracted {len(sublinks)} sublinks and saved them to sublinks.json\")\n",
    "print(f\"Found {len(pdfs)} PDF documents.\")"
   ]
  },
  {
   "cell_type": "code",
   "execution_count": 28,
   "id": "18b4403a-649e-4533-9065-bc8cbc267384",
   "metadata": {},
   "outputs": [
    {
     "data": {
      "application/vnd.jupyter.widget-view+json": {
       "model_id": "06e6e299be2b45ceb727b9fa63061c92",
       "version_major": 2,
       "version_minor": 0
      },
      "text/plain": [
       "Processing links:   0%|          | 0/36 [00:00<?, ?link/s]"
      ]
     },
     "metadata": {},
     "output_type": "display_data"
    },
    {
     "data": {
      "application/vnd.jupyter.widget-view+json": {
       "model_id": "8150081d32d6419085921b3e5991b6ce",
       "version_major": 2,
       "version_minor": 0
      },
      "text/plain": [
       "Processing links:   0%|          | 0/130 [00:00<?, ?link/s]"
      ]
     },
     "metadata": {},
     "output_type": "display_data"
    },
    {
     "data": {
      "application/vnd.jupyter.widget-view+json": {
       "model_id": "cd2a3088dc9649dca4d46872cdc7037c",
       "version_major": 2,
       "version_minor": 0
      },
      "text/plain": [
       "Processing links:   0%|          | 0/70 [00:00<?, ?link/s]"
      ]
     },
     "metadata": {},
     "output_type": "display_data"
    },
    {
     "data": {
      "application/vnd.jupyter.widget-view+json": {
       "model_id": "965a8143f113446da7b10ea06417d986",
       "version_major": 2,
       "version_minor": 0
      },
      "text/plain": [
       "Processing links:   0%|          | 0/54 [00:00<?, ?link/s]"
      ]
     },
     "metadata": {},
     "output_type": "display_data"
    },
    {
     "data": {
      "application/vnd.jupyter.widget-view+json": {
       "model_id": "2f4998d821eb4d0689a3cb1ef36ec909",
       "version_major": 2,
       "version_minor": 0
      },
      "text/plain": [
       "Processing links:   0%|          | 0/1 [00:00<?, ?link/s]"
      ]
     },
     "metadata": {},
     "output_type": "display_data"
    },
    {
     "data": {
      "application/vnd.jupyter.widget-view+json": {
       "model_id": "e0d251d9133d457fa48a2bc48c31fc59",
       "version_major": 2,
       "version_minor": 0
      },
      "text/plain": [
       "Processing links:   0%|          | 0/50 [00:00<?, ?link/s]"
      ]
     },
     "metadata": {},
     "output_type": "display_data"
    },
    {
     "data": {
      "application/vnd.jupyter.widget-view+json": {
       "model_id": "0889fdec8f43486085554691e1f22fef",
       "version_major": 2,
       "version_minor": 0
      },
      "text/plain": [
       "Processing links:   0%|          | 0/36 [00:00<?, ?link/s]"
      ]
     },
     "metadata": {},
     "output_type": "display_data"
    },
    {
     "data": {
      "application/vnd.jupyter.widget-view+json": {
       "model_id": "8263d70ecd40479eb445c6a77eabfd89",
       "version_major": 2,
       "version_minor": 0
      },
      "text/plain": [
       "Processing links:   0%|          | 0/66 [00:00<?, ?link/s]"
      ]
     },
     "metadata": {},
     "output_type": "display_data"
    },
    {
     "data": {
      "application/vnd.jupyter.widget-view+json": {
       "model_id": "1210766e6de2499380056474d799fa6d",
       "version_major": 2,
       "version_minor": 0
      },
      "text/plain": [
       "Processing links:   0%|          | 0/57 [00:00<?, ?link/s]"
      ]
     },
     "metadata": {},
     "output_type": "display_data"
    },
    {
     "data": {
      "application/vnd.jupyter.widget-view+json": {
       "model_id": "9e1212e859a542a0800da9d948309844",
       "version_major": 2,
       "version_minor": 0
      },
      "text/plain": [
       "Processing links:   0%|          | 0/48 [00:00<?, ?link/s]"
      ]
     },
     "metadata": {},
     "output_type": "display_data"
    },
    {
     "data": {
      "application/vnd.jupyter.widget-view+json": {
       "model_id": "384981d40cc640229d0f4aa9d1b23274",
       "version_major": 2,
       "version_minor": 0
      },
      "text/plain": [
       "Processing links:   0%|          | 0/39 [00:00<?, ?link/s]"
      ]
     },
     "metadata": {},
     "output_type": "display_data"
    },
    {
     "data": {
      "application/vnd.jupyter.widget-view+json": {
       "model_id": "4c3cc5db405e40929d2dd1ca8f139431",
       "version_major": 2,
       "version_minor": 0
      },
      "text/plain": [
       "Processing links:   0%|          | 0/39 [00:00<?, ?link/s]"
      ]
     },
     "metadata": {},
     "output_type": "display_data"
    },
    {
     "data": {
      "application/vnd.jupyter.widget-view+json": {
       "model_id": "8b88ec31af2443aa84955aef9ec4acad",
       "version_major": 2,
       "version_minor": 0
      },
      "text/plain": [
       "Processing links:   0%|          | 0/40 [00:00<?, ?link/s]"
      ]
     },
     "metadata": {},
     "output_type": "display_data"
    },
    {
     "data": {
      "application/vnd.jupyter.widget-view+json": {
       "model_id": "cd52390c1643403f80f7a7ae958b6ee3",
       "version_major": 2,
       "version_minor": 0
      },
      "text/plain": [
       "Processing links:   0%|          | 0/41 [00:00<?, ?link/s]"
      ]
     },
     "metadata": {},
     "output_type": "display_data"
    },
    {
     "data": {
      "application/vnd.jupyter.widget-view+json": {
       "model_id": "f333a67b9fd04414a29869ad8f56017e",
       "version_major": 2,
       "version_minor": 0
      },
      "text/plain": [
       "Processing links:   0%|          | 0/40 [00:00<?, ?link/s]"
      ]
     },
     "metadata": {},
     "output_type": "display_data"
    },
    {
     "data": {
      "application/vnd.jupyter.widget-view+json": {
       "model_id": "7d3d01f2fdc6467d81ccff7f66b56cb6",
       "version_major": 2,
       "version_minor": 0
      },
      "text/plain": [
       "Processing links:   0%|          | 0/129 [00:00<?, ?link/s]"
      ]
     },
     "metadata": {},
     "output_type": "display_data"
    },
    {
     "data": {
      "application/vnd.jupyter.widget-view+json": {
       "model_id": "5e791320d46345178aebcb9e6c03d121",
       "version_major": 2,
       "version_minor": 0
      },
      "text/plain": [
       "Processing links:   0%|          | 0/142 [00:00<?, ?link/s]"
      ]
     },
     "metadata": {},
     "output_type": "display_data"
    }
   ],
   "source": [
    "def get_all_links_and_pdfs(urls):\n",
    "\n",
    "    links = set()\n",
    "    pdfs = set()\n",
    "\n",
    "    for url in urls:\n",
    "\n",
    "        sublinks, subpdfs = extract_sublinks(url)\n",
    "        links.update(sublinks)\n",
    "        pdfs.update(subpdfs)\n",
    "\n",
    "    return list(links), list(pdfs)\n",
    "\n",
    "links, pdfs = get_all_links_and_pdfs(main_urls)"
   ]
  },
  {
   "cell_type": "code",
   "execution_count": 29,
   "id": "0a12af9c-201c-401e-9986-d9aa751fe2f4",
   "metadata": {},
   "outputs": [
    {
     "name": "stdout",
     "output_type": "stream",
     "text": [
      "Extracted 251 sublinks\n",
      "Found 121 PDF documents.\n"
     ]
    }
   ],
   "source": [
    "print(f\"Extracted {len(links)} sublinks\")\n",
    "print(f\"Found {len(pdfs)} PDF documents.\")"
   ]
  },
  {
   "cell_type": "markdown",
   "id": "0bd665b0-9deb-48dd-8ce6-5f1db3fae8ad",
   "metadata": {},
   "source": [
    "## Step 2. Count characters"
   ]
  },
  {
   "cell_type": "code",
   "execution_count": 30,
   "id": "2cfbe3f8-7f9c-4c56-b9ba-aa600f716a1d",
   "metadata": {},
   "outputs": [
    {
     "name": "stdout",
     "output_type": "stream",
     "text": [
      "The URL contains 8810 characters.\n"
     ]
    },
    {
     "data": {
      "text/plain": [
       "8810"
      ]
     },
     "execution_count": 30,
     "metadata": {},
     "output_type": "execute_result"
    }
   ],
   "source": [
    "def count_characters_on_webpage(url):\n",
    " \n",
    "    headers = {'User-Agent': bot_name}\n",
    "    response = requests.get(url, headers=headers)\n",
    "    \n",
    "    if response.status_code == 200:\n",
    "        # Parse the HTML content\n",
    "        soup = BeautifulSoup(response.text, 'html.parser')\n",
    "        \n",
    "        # Extract all text from the webpage\n",
    "        text = soup.get_text()\n",
    "        \n",
    "        # Count the characters\n",
    "        character_count = len(text)\n",
    "        print(f\"The URL contains {character_count} characters.\")\n",
    "        \n",
    "        return character_count\n",
    "    else:\n",
    "        print(f\"Failed to fetch the webpage. Status code: {response.status_code}\")\n",
    "        return None\n",
    "\n",
    "count_characters_on_webpage(url)"
   ]
  },
  {
   "cell_type": "code",
   "execution_count": 31,
   "id": "383e507a-3aff-47eb-801e-ef268dfde5fa",
   "metadata": {},
   "outputs": [
    {
     "name": "stdout",
     "output_type": "stream",
     "text": [
      "The PDF contains 24009 characters.\n"
     ]
    }
   ],
   "source": [
    "# Load the PDF document\n",
    "file_path = 'https://www.unibas.ch/dam/jcr:afdc85dc-b51c-4b7c-bdc4-9e301871d6e0/446_710_10.pdf'\n",
    "\n",
    "def count_characters_in_pdf(file_path, include_whitespace=True, log_level=logging.ERROR):\n",
    "    logging.basicConfig(level=log_level)\n",
    "    total_characters = 0\n",
    "    try:\n",
    "        loader = PyPDFLoader(file_path) #PdfReader(file)\n",
    "        # Load and split the document into pages\n",
    "        pages = loader.load_and_split()\n",
    "        \n",
    "        # Iterate over each page and count characters\n",
    "        for page in pages:\n",
    "            text = page.page_content\n",
    "        \n",
    "            total_characters += len(text)\n",
    "            logging.info(f\"Processed page. Current total: {total_characters}\")\n",
    "\n",
    "        print(f\"The PDF contains {total_characters} characters.\")\n",
    "        return total_characters\n",
    "    \n",
    "    except Exception as e:\n",
    "        logging.error(f\"Error processing PDF: {e}\")\n",
    "        return 0\n",
    "\n",
    "count_1_pdf = count_characters_in_pdf(file_path)"
   ]
  },
  {
   "cell_type": "markdown",
   "id": "1ed08f00-ff83-41a0-b114-95a8e56689a2",
   "metadata": {},
   "source": [
    "## Step 3. Check  "
   ]
  },
  {
   "cell_type": "code",
   "execution_count": 32,
   "id": "1a077c5d-1de2-4282-96b7-553a0567a4f4",
   "metadata": {},
   "outputs": [],
   "source": [
    "def is_pdf_downloadable(url):\n",
    "    try:\n",
    "        headers = {'User-Agent': bot_name}\n",
    "        response = requests.get(url, headers=headers)\n",
    "        \n",
    "        # Send a HEAD request\n",
    "        #response = requests.head(url, headers=headers, allow_redirects=True, timeout=5)\n",
    "        \n",
    "        # Check if the request was successful\n",
    "        if response.status_code == 200:\n",
    "            # Check the Content-Type header\n",
    "            content_type = response.headers.get('Content-Type', '').lower()\n",
    "            if 'application/pdf' in content_type:\n",
    "                # Check if Content-Length header is present\n",
    "                if 'Content-Length' in response.headers:\n",
    "                    return True\n",
    "                else:\n",
    "                    print(\"Warning: Content-Length header is missing\")\n",
    "                    return True\n",
    "            else:\n",
    "                print(f\"Not a PDF file. Content-Type: {content_type}\")\n",
    "                return False\n",
    "        else:\n",
    "            print(f\"Failed to access the URL. Status code: {response.status_code}\")\n",
    "            return False\n",
    "    \n",
    "    except requests.RequestException as e:\n",
    "        print(f\"Error occurred: {e}\")\n",
    "        return False"
   ]
  },
  {
   "cell_type": "code",
   "execution_count": 33,
   "id": "b6aded8f-f473-4475-881b-93bb723270b6",
   "metadata": {},
   "outputs": [
    {
     "name": "stdout",
     "output_type": "stream",
     "text": [
      "Not a PDF file. Content-Type: text/html; charset=utf-8\n"
     ]
    },
    {
     "data": {
      "text/plain": [
       "False"
      ]
     },
     "execution_count": 33,
     "metadata": {},
     "output_type": "execute_result"
    }
   ],
   "source": [
    "is_pdf_downloadable('http://informatik.unibas.ch/fileadmin/downloads/BSc-MSc_Computer_Science_genehmigt_philnat_20160524.pdf')"
   ]
  },
  {
   "cell_type": "code",
   "execution_count": 34,
   "id": "de2811ec-b8b4-4b97-90e1-ecdf4508676f",
   "metadata": {},
   "outputs": [
    {
     "name": "stdout",
     "output_type": "stream",
     "text": [
      "Name: https://philnat.unibas.ch/fileadmin/user_upload/philnat/2_Studium_QP/MSc_Epidemiology.pdf\n",
      "The PDF contains 5616 characters.\n",
      "------------------------------------------------\n",
      "Name: https://philnat.unibas.ch/fileadmin/user_upload/philnat/3_Forschung/Formular_Betreuungszusage_2.pdf\n",
      "The PDF contains 1807 characters.\n",
      "------------------------------------------------\n",
      "Name: https://philnat.unibas.ch/fileadmin/user_upload/philnat/3_Forschung/Formular_Abbruch_der_Doktoratsausbildung_April_2024.pdf\n",
      "The PDF contains 1262 characters.\n",
      "------------------------------------------------\n",
      "Warning: Content-Length header is missing\n",
      "Name: https://www.unibas.ch/dam/jcr:2eb607be-80ab-42c6-876d-fb1acac4d6b9/DA.pdf\n",
      "The PDF contains 1663 characters.\n",
      "------------------------------------------------\n",
      "Warning: Content-Length header is missing\n",
      "Name: https://www.unibas.ch/dam/jcr:81f378a3-1625-4df8-883c-0162768e031f/Anhang%2012_MSG_Oekologie_00.pdf\n",
      "The PDF contains 2600 characters.\n",
      "------------------------------------------------\n",
      "Name: https://philnat.unibas.ch/fileadmin/user_upload/philnat/3_Forschung/PhD_application_March_2024.pdf\n",
      "The PDF contains 1539 characters.\n",
      "------------------------------------------------\n",
      "Warning: Content-Length header is missing\n",
      "Name: https://www.unibas.ch/dam/jcr:4c4e2ac4-a0a3-44a6-9b28-603876c2f06f/MSG_Data%20Science_00.pdf\n",
      "The PDF contains 5644 characters.\n",
      "------------------------------------------------\n",
      "Warning: Content-Length header is missing\n",
      "Name: https://www.unibas.ch/dam/jcr:c67b41e1-b339-4404-91ae-7a60a66a7a28/446_710_11.pdf\n",
      "The PDF contains 23109 characters.\n",
      "------------------------------------------------\n",
      "Name: https://philnat.unibas.ch/fileadmin/user_upload/philnat/3_Forschung/Doktoratsstudium_-_Leitfaden_Version_06.2023_update.pdf\n",
      "The PDF contains 14618 characters.\n",
      "------------------------------------------------\n",
      "Name: https://philnat.unibas.ch/fileadmin/user_upload/philnat/2_Studium_QP/MSc_Chemie.pdf\n",
      "The PDF contains 5421 characters.\n",
      "------------------------------------------------\n",
      "Name: https://philnat.unibas.ch/fileadmin/user_upload/philnat/2_Studium_QP/MSc_Infection_Biology_ab_HS_2024.pdf\n",
      "The PDF contains 6664 characters.\n",
      "------------------------------------------------\n",
      "Name: https://philnat.unibas.ch/fileadmin/user_upload/philnat/2_Studium_QP/MA_Biologie.pdf\n",
      "The PDF contains 5668 characters.\n",
      "------------------------------------------------\n",
      "Name: https://philnat.unibas.ch/fileadmin/user_upload/philnat/2_Studium_QP/MA_ComputerScience.pdf\n",
      "The PDF contains 3866 characters.\n",
      "------------------------------------------------\n",
      "Warning: Content-Length header is missing\n",
      "Name: https://www.unibas.ch/dam/jcr:afcb49f3-a53c-4843-9227-34a2fbb072ad/446_710Mp_00.pdf\n",
      "The PDF contains 7425 characters.\n",
      "------------------------------------------------\n",
      "Name: https://philnat.unibas.ch/fileadmin/user_upload/philnat/3_Forschung/Promotionsfaecher_neue_Ordnung.pdf\n",
      "The PDF contains 1247 characters.\n",
      "------------------------------------------------\n",
      "Name: https://philnat.unibas.ch/fileadmin/user_upload/philnat/2_Studium_QP/MA_Physik.pdf\n",
      "The PDF contains 4980 characters.\n",
      "------------------------------------------------\n",
      "Name: https://philnat.unibas.ch/fileadmin/user_upload/philnat/3_Forschung/Deklaration_Evaluierung_Forschungsleistung_2021.pdf\n",
      "The PDF contains 2107 characters.\n",
      "------------------------------------------------\n",
      "Name: https://philnat.unibas.ch/fileadmin/user_upload/philnat/3_Forschung/Doctoral_studies_-_Guidelines_Version_06.2023_english_update.pdf\n",
      "The PDF contains 15312 characters.\n",
      "------------------------------------------------\n",
      "Name: https://philnat.unibas.ch/fileadmin/user_upload/philnat/2_Studium/wissensch_Redlichkeit_D_09-2023.pdf\n",
      "The PDF contains 2199 characters.\n",
      "------------------------------------------------\n",
      "Warning: Content-Length header is missing\n",
      "Name: https://www.unibas.ch/dam/jcr:60f10279-9d75-4f9c-9031-6ed92cdf017a/Anhang%203_MSG_Chemie_00.pdf\n",
      "The PDF contains 3940 characters.\n",
      "------------------------------------------------\n",
      "Warning: Content-Length header is missing\n",
      "Name: https://www.unibas.ch/dam/jcr:abb2d356-0b9f-4ccd-b911-74b90f210104/Anhang%209_MSG_Mathematik_00.pdf\n",
      "The PDF contains 2707 characters.\n",
      "------------------------------------------------\n",
      "Warning: Content-Length header is missing\n",
      "Name: https://www.unibas.ch/dam/Oeffentliche-Dokumente/Rechtserlasse__LegalRegulations/Phil.-Nat.Fakultaet__FacultyofScience/Promotion__Doctorate/446_730_P_Phil_Nat_00.pdf\n",
      "The PDF contains 23317 characters.\n",
      "------------------------------------------------\n",
      "Warning: Content-Length header is missing\n",
      "Name: https://www.unibas.ch/dam/jcr:a9ec4dd3-7e20-4dea-bed8-0c5898ab8bd6/446_720_00.pdf\n",
      "The PDF contains 21531 characters.\n",
      "------------------------------------------------\n",
      "Name: https://philnat.unibas.ch/fileadmin/user_upload/philnat/2_Studium_QP/MSc_Geowissenschaften_2021_final.pdf\n",
      "The PDF contains 13625 characters.\n",
      "------------------------------------------------\n",
      "Warning: Content-Length header is missing\n",
      "Name: https://www.unibas.ch/dam/jcr:86d9ed69-981a-4a93-9141-0d06e21e4f71/Anhang%206_MSG_Epidemiologie_00.pdf\n",
      "The PDF contains 5253 characters.\n",
      "------------------------------------------------\n",
      "Name: https://philnat.unibas.ch/fileadmin/user_upload/philnat/2_Studium/Form_Masters_Thesis_26.8.19_01.pdf\n",
      "The PDF contains 2778 characters.\n",
      "------------------------------------------------\n",
      "Name: https://philnat.unibas.ch/fileadmin/user_upload/philnat/2_Studium_QP/MSc_ComputerScience_EN.pdf\n",
      "The PDF contains 5157 characters.\n",
      "------------------------------------------------\n",
      "Warning: Content-Length header is missing\n",
      "Name: https://www.unibas.ch/dam/jcr:42b7afe9-590b-4956-9cd0-c77707392acd/446_710_00.pdf\n",
      "The PDF contains 32465 characters.\n",
      "------------------------------------------------\n",
      "Warning: Content-Length header is missing\n",
      "Name: https://www.unibas.ch/dam/jcr:a84ff55a-76bc-4b3d-8075-d7eba0340c52/Anhang%2010_MSG_Molekularbiologie_00.pdf\n",
      "The PDF contains 2684 characters.\n",
      "------------------------------------------------\n",
      "Warning: Content-Length header is missing\n",
      "Name: https://www.unibas.ch/dam/jcr:86ca2535-f01d-484e-9285-36e499de2252/MSG_Physics_of_Life_00.pdf\n",
      "The PDF contains 5881 characters.\n",
      "------------------------------------------------\n",
      "Name: https://philnat.unibas.ch/fileadmin/user_upload/philnat/4_Termine_und_News/Agenda_2024-26_.pdf\n",
      "The PDF contains 1085 characters.\n",
      "------------------------------------------------\n",
      "Not a PDF file. Content-Type: text/html; charset=utf-8\n",
      "Name: http://informatik.unibas.ch/fileadmin/downloads/BSc-MSc_Computer_Science_genehmigt_philnat_20160524.pdf\n",
      "---> Failed to fetch the webpage.\n",
      "------------------------------------------------\n",
      "Name: https://philnat.unibas.ch/fileadmin/user_upload/philnat/3_Forschung/Pflichtexemplare_neue_Ordnung_D_APRIL_23.pdf\n",
      "The PDF contains 6464 characters.\n",
      "------------------------------------------------\n",
      "Name: https://philnat.unibas.ch/fileadmin/user_upload/philnat/3_Forschung/Formular_Abbruch_der_Doktoratsausbildung_E_April_2024.pdf\n",
      "The PDF contains 1246 characters.\n",
      "------------------------------------------------\n",
      "Name: https://philnat.unibas.ch/fileadmin/user_upload/philnat/3_Forschung/2017_Dr_Abschluss_D_neue_Links.pdf\n",
      "The PDF contains 6146 characters.\n",
      "------------------------------------------------\n",
      "Warning: Content-Length header is missing\n",
      "Name: https://www.unibas.ch/dam/jcr:a3ce1908-6577-46bc-8d62-99b8e858c836/446_520BMaSFk_03.pdf\n",
      "The PDF contains 10887 characters.\n",
      "------------------------------------------------\n",
      "Name: https://philnat.unibas.ch/fileadmin/user_upload/philnat/2_Studium_QP/MSc_Pharmazie.pdf\n",
      "The PDF contains 7451 characters.\n",
      "------------------------------------------------\n",
      "Warning: Content-Length header is missing\n",
      "Name: https://www.unibas.ch/dam/jcr:0e9a0318-b926-40f4-a349-b12d1b4f5ec9/441_800_08.pdf\n",
      "The PDF contains 32308 characters.\n",
      "------------------------------------------------\n",
      "Name: https://philnat.unibas.ch/fileadmin/user_upload/philnat/2_Studium_QP/MSc_Molecular_Biology.pdf\n",
      "The PDF contains 6270 characters.\n",
      "------------------------------------------------\n",
      "Name: https://philnat.unibas.ch/fileadmin/user_upload/philnat/2_Studium/Formular_EINE_Masterpruefung_2017.pdf\n",
      "The PDF contains 1830 characters.\n",
      "------------------------------------------------\n",
      "Warning: Content-Length header is missing\n",
      "Name: https://www.unibas.ch/dam/jcr:50f77dc6-f799-4261-8155-14ec1078a952/Anhang%201_Masterordnung%20Phil.-Nat_MSG_00.pdf\n",
      "The PDF contains 1025 characters.\n",
      "------------------------------------------------\n",
      "Name: https://philnat.unibas.ch/fileadmin/user_upload/philnat/3_Forschung/Application_external_expert_June_23.pdf\n",
      "The PDF contains 1966 characters.\n",
      "------------------------------------------------\n",
      "Warning: Content-Length header is missing\n",
      "Name: https://www.unibas.ch/dam/jcr:5779e600-6cb2-4bf4-8c0c-15b69a2bdb2d/Anhang%204_MSG_ComputerScience_00.pdf\n",
      "The PDF contains 5258 characters.\n",
      "------------------------------------------------\n",
      "Name: https://philnat.unibas.ch/fileadmin/user_upload/philnat/3_Forschung/2017_Dr_Abschluss_E_neue_Links.pdf\n",
      "The PDF contains 7271 characters.\n",
      "------------------------------------------------\n",
      "Warning: Content-Length header is missing\n",
      "Name: https://www.unibas.ch/dam/jcr:9f233e7c-b4c7-496d-8f18-000a30c982e2/GA%20DE%20EN.pdf\n",
      "The PDF contains 8478 characters.\n",
      "------------------------------------------------\n",
      "Warning: Content-Length header is missing\n",
      "Name: https://www.unibas.ch/dam/jcr:aa01167f-85e6-4b4a-af3e-ab25347a4a1e/446_520BMaSFj_04.pdf\n",
      "The PDF contains 13184 characters.\n",
      "------------------------------------------------\n",
      "Name: https://philnat.unibas.ch/fileadmin/user_upload/philnat/2_Studium/Merkblatt_Pruefungseinsicht_2021.pdf\n",
      "The PDF contains 3336 characters.\n",
      "------------------------------------------------\n",
      "Name: https://philnat.unibas.ch/fileadmin/user_upload/philnat/3_Forschung/Pflichtexemplare_EDOC_de_April_2023.pdf\n",
      "The PDF contains 6531 characters.\n",
      "------------------------------------------------\n",
      "Name: https://philnat.unibas.ch/fileadmin/user_upload/philnat/2_Studium_QP/MSc_Actuarial_Science.pdf\n",
      "The PDF contains 6979 characters.\n",
      "------------------------------------------------\n",
      "Warning: Content-Length header is missing\n",
      "Name: https://www.unibas.ch/dam/jcr:9501bc6f-a15a-4ec3-aff0-d7c790e639c4/Anhang%2013_MSG_Pharmazie_00.pdf\n",
      "The PDF contains 5844 characters.\n",
      "------------------------------------------------\n",
      "Warning: Content-Length header is missing\n",
      "Name: https://www.unibas.ch/dam/jcr:dbefbe8f-5272-4191-9d88-8ca7d0d29efb/446_910_05.pdf\n",
      "The PDF contains 25335 characters.\n",
      "------------------------------------------------\n",
      "Warning: Content-Length header is missing\n",
      "Name: https://www.unibas.ch/dam/jcr:526a5d4e-b9d6-46c5-bdc5-269925153621/446_520BMaSFe_04.pdf\n",
      "The PDF contains 11254 characters.\n",
      "------------------------------------------------\n",
      "Failed to access the URL. Status code: 404\n",
      "Name: https://chemie.unibas.ch/fileadmin/user_upload/chemie/Studium-Dokumente/Wegleitung_fuer_das_Bachelor-_und_Masterstudium_Chemie_2019__genehmigt_am_19._Februar_2019.pdf\n",
      "---> Failed to fetch the webpage.\n",
      "------------------------------------------------\n",
      "Name: https://philnat.unibas.ch/fileadmin/user_upload/philnat/3_Forschung/Richtlinien_Befoerderungen-Unterlagen_Befoerderung_20211221.pdf\n",
      "The PDF contains 5865 characters.\n",
      "------------------------------------------------\n",
      "Name: https://philnat.unibas.ch/fileadmin/user_upload/philnat/2_Studium_QP/MSc_Mathematik.pdf\n",
      "The PDF contains 5502 characters.\n",
      "------------------------------------------------\n",
      "Name: https://philnat.unibas.ch/fileadmin/user_upload/philnat/2_Studium_QP/MSc_PNA.pdf\n",
      "The PDF contains 6428 characters.\n",
      "------------------------------------------------\n",
      "Name: https://philnat.unibas.ch/fileadmin/user_upload/philnat/2_Studium_QP/MA_Mathematik.pdf\n",
      "The PDF contains 5502 characters.\n",
      "------------------------------------------------\n",
      "Not a PDF file. Content-Type: application/force-download;charset=utf-8\n",
      "Name: https://www.unibas.ch/dam/jcr:425a528a-4dd4-4e7e-80c4-c68353ebb41e/Rektifikat_Musterdokument%202.pdf\n",
      "---> Failed to fetch the webpage.\n",
      "------------------------------------------------\n",
      "Warning: Content-Length header is missing\n",
      "Name: https://www.unibas.ch/dam/jcr:0bc4208d-1f4f-4452-8d9e-5e8de4535e49/GA%20DE.pdf\n",
      "The PDF contains 4127 characters.\n",
      "------------------------------------------------\n",
      "Warning: Content-Length header is missing\n",
      "Name: https://www.unibas.ch/dam/jcr:50dd5d88-92b6-4b01-8c79-af5c2a82d14e/Anhang%2011_MSG_Nanowissenschaften_00.pdf\n",
      "The PDF contains 3611 characters.\n",
      "------------------------------------------------\n",
      "Name: https://www.biozentrum.unibas.ch/fileadmin/redaktion/04_Education/04_Master/2024_04_Wegleitung_DE_MSc_Physics-of-Life.pdf\n",
      "The PDF contains 26232 characters.\n",
      "------------------------------------------------\n",
      "Warning: Content-Length header is missing\n",
      "Name: https://www.unibas.ch/dam/jcr:348ef1d1-f237-4121-87e1-ffb4bba0dd72/Anhang%202_MSG_Biologie-der-Tiere_00.pdf\n",
      "The PDF contains 2660 characters.\n",
      "------------------------------------------------\n",
      "Warning: Content-Length header is missing\n",
      "Name: https://www.unibas.ch/dam/jcr:346c3483-9070-4f79-a198-7ab37dcdc79f/446_520BMaSFh_01.pdf\n",
      "The PDF contains 9384 characters.\n",
      "------------------------------------------------\n",
      "Warning: Content-Length header is missing\n",
      "Name: https://unibas.ch/dam/Oeffentliche-Dokumente/Rechtserlasse__LegalRegulations/Phil.Hist.Fakultaet_FacultyofHumanities/ausserfakultaereStudienfaecher__ExtrafacultySubjects/446_520BMaSFi_01.pdf\n",
      "The PDF contains 9352 characters.\n",
      "------------------------------------------------\n",
      "Warning: Content-Length header is missing\n",
      "Name: https://www.unibas.ch/dam/jcr:99398a25-d3f7-4520-9ef6-859b29c2d635/Anhang%2015_MSG_Pflanzenwissenschaften_00.pdf\n",
      "The PDF contains 2681 characters.\n",
      "------------------------------------------------\n",
      "Name: https://philnat.unibas.ch/fileadmin/user_upload/philnat/2_Studium_QP/MSc_Plant_Science.pdf\n",
      "The PDF contains 4906 characters.\n",
      "------------------------------------------------\n",
      "Name: https://philnat.unibas.ch/fileadmin/user_upload/philnat/3_Forschung/Doktoratskomitee_nach_Ordnung_2016_April2021.pdf\n",
      "The PDF contains 2873 characters.\n",
      "------------------------------------------------\n",
      "Name: https://philnat.unibas.ch/fileadmin/user_upload/philnat/2_Studium_Abschluesse_Bachelorfeier2018/Einladung_Bachelorfeier.pdf\n",
      "The PDF contains 1836 characters.\n",
      "------------------------------------------------\n",
      "Name: https://philnat.unibas.ch/fileadmin/user_upload/philnat/3_Forschung/Doktoratskomitee_nach_Ordnung_2016_E_April2021.pdf\n",
      "The PDF contains 2681 characters.\n",
      "------------------------------------------------\n",
      "Name: https://philnat.unibas.ch/fileadmin/user_upload/philnat/2_Studium_QP/MSc_Nanowissenschaften_2021_final.pdf\n",
      "The PDF contains 10012 characters.\n",
      "------------------------------------------------\n",
      "Name: https://philnat.unibas.ch/fileadmin/user_upload/philnat/3_Forschung/Wegleitung_TitProf.pdf\n",
      "The PDF contains 6768 characters.\n",
      "------------------------------------------------\n",
      "Warning: Content-Length header is missing\n",
      "Name: https://www.unibas.ch/dam/jcr:9e31b5d6-f6ee-4b17-a13b-2003661175a4/Anhang%208_MSG_Infektionsbiologie_00.pdf\n",
      "The PDF contains 4999 characters.\n",
      "------------------------------------------------\n",
      "Name: https://philnat.unibas.ch/fileadmin/user_upload/philnat/Tenure-Evaluation.pdf\n",
      "The PDF contains 6805 characters.\n",
      "------------------------------------------------\n",
      "Warning: Content-Length header is missing\n",
      "Name: https://www.unibas.ch/dam/jcr:ad2becc5-fa93-4589-ab54-d10ebf18826b/MSG_Physik_01.pdf\n",
      "The PDF contains 2959 characters.\n",
      "------------------------------------------------\n",
      "Name: https://philnat.unibas.ch/fileadmin/user_upload/philnat/3_Forschung/Pflichtexemplare_neue_Ordnung_E_September_23.pdf\n",
      "The PDF contains 6654 characters.\n",
      "------------------------------------------------\n",
      "Warning: Content-Length header is missing\n",
      "Name: https://www.unibas.ch/dam/jcr:ff679c42-c759-417e-aee2-a62957574d9c/Anhang%2016_MSG_Praehist.&amp;Naturwiss.Archaeologie_00.pdf\n",
      "The PDF contains 4633 characters.\n",
      "------------------------------------------------\n",
      "Name: https://philnat.unibas.ch/fileadmin/user_upload/philnat/3_Forschung/Promotionsfaecher.pdf\n",
      "The PDF contains 1355 characters.\n",
      "------------------------------------------------\n",
      "Name: https://philnat.unibas.ch/fileadmin/user_upload/philnat/Kriterien_Titularprofessur_praezisiert.pdf\n",
      "The PDF contains 3130 characters.\n",
      "------------------------------------------------\n",
      "Warning: Content-Length header is missing\n",
      "Name: https://www.unibas.ch/dam/jcr:69bcf636-a158-4fd9-a554-5a5308ae9706/MSG_Infektionsbiologie_01.pdf\n",
      "The PDF contains 5264 characters.\n",
      "------------------------------------------------\n",
      "Name: https://philnat.unibas.ch/fileadmin/user_upload/philnat/2_Studium_QP/MSc_Infection_Biology.pdf\n",
      "The PDF contains 6782 characters.\n",
      "------------------------------------------------\n",
      "Name: https://philnat.unibas.ch/fileadmin/user_upload/philnat/2_Studium_QP/MSc_Physik_2021.pdf\n",
      "The PDF contains 5347 characters.\n",
      "------------------------------------------------\n",
      "Name: https://philnat.unibas.ch/fileadmin/user_upload/philnat/2_Studium/Formular_ZWEI_Masterpruefungen_2017.pdf\n",
      "The PDF contains 1984 characters.\n",
      "------------------------------------------------\n",
      "Name: https://physik.unibas.ch/fileadmin/user_upload/physics/04_StudiesPhD/Wegleitung_BSc-MSc_Physik.pdf\n",
      "The PDF contains 35002 characters.\n",
      "------------------------------------------------\n",
      "Name: https://philnat.unibas.ch/fileadmin/user_upload/philnat/2_Studium_QP/BA_Physik.pdf\n",
      "The PDF contains 4926 characters.\n",
      "------------------------------------------------\n",
      "Name: https://philnat.unibas.ch/fileadmin/user_upload/philnat/3_Forschung/Promotionsantrag_Maerz_2024.pdf\n",
      "The PDF contains 1520 characters.\n",
      "------------------------------------------------\n",
      "Name: https://philnat.unibas.ch/fileadmin/user_upload/philnat/Examen/4_Anmeldung_zum_Examen_von_Hauptvorlesungen_DE.pdf\n",
      "The PDF contains 2957 characters.\n",
      "------------------------------------------------\n",
      "Warning: Content-Length header is missing\n",
      "Name: https://www.unibas.ch/dam/jcr:19dae9cb-d5ea-4cb8-a060-b5d08f84cdc4/Formular_Ersatzdokumente_2021_12_DE.pdf\n",
      "The PDF contains 2097 characters.\n",
      "------------------------------------------------\n",
      "Name: https://philnat.unibas.ch/fileadmin/user_upload/philnat/3_Forschung/Pflichtexemplare-EDOC_e_April_2023.pdf\n",
      "The PDF contains 6818 characters.\n",
      "------------------------------------------------\n",
      "Name: https://philnat.unibas.ch/fileadmin/user_upload/philnat/3_Forschung/Antrag_externer_Experte_Juni_23.pdf\n",
      "The PDF contains 2076 characters.\n",
      "------------------------------------------------\n",
      "Name: https://philnat.unibas.ch/fileadmin/user_upload/philnat/3_Forschung/Form_Confirmation_of_Supervision_2.pdf\n",
      "The PDF contains 1728 characters.\n",
      "------------------------------------------------\n",
      "Failed to access the URL. Status code: 404\n",
      "Name: https://www.unibas.ch/dam/jcr:ff96572e-b008-40fa-a38a-1828e527a4ae/WL_Ausstand_01.pdf\n",
      "---> Failed to fetch the webpage.\n",
      "------------------------------------------------\n",
      "Warning: Content-Length header is missing\n",
      "Name: https://www.unibas.ch/dam/jcr:8f43e2a1-664c-4c83-9bff-5bb8a2cc3576/Anhang%205_MSG_DrugSciences_00.pdf\n",
      "The PDF contains 4857 characters.\n",
      "------------------------------------------------\n",
      "Failed to access the URL. Status code: 404\n",
      "Name: https://www.unibas.ch/dam/jcr:a96649a9-b6b9-4cca-b92b-4d9a96976a50/Anhang%2014_MSG_Physik_00.pdf\n",
      "---> Failed to fetch the webpage.\n",
      "------------------------------------------------\n",
      "Warning: Content-Length header is missing\n",
      "Name: https://www.unibas.ch/dam/jcr:b55c4f0a-f2b0-4ec0-8311-05d34a696fd3/446_930_02.pdf\n",
      "The PDF contains 14810 characters.\n",
      "------------------------------------------------\n",
      "Name: https://philnat.unibas.ch/fileadmin/user_upload/philnat/2_Studium_QP/MA_Chemie.pdf\n",
      "The PDF contains 5109 characters.\n",
      "------------------------------------------------\n",
      "Warning: Content-Length header is missing\n",
      "Name: https://www.unibas.ch/dam/jcr:37b55628-6571-41ff-a3b2-17f8a2e41d69/MSG_Geowissenschaften_01.pdf\n",
      "The PDF contains 4774 characters.\n",
      "------------------------------------------------\n",
      "Name: https://philnat.unibas.ch/fileadmin/user_upload/philnat/Examen/ExamenHS24_13092024_prov.pdf\n",
      "The PDF contains 21880 characters.\n",
      "------------------------------------------------\n",
      "Name: https://philnat.unibas.ch/fileadmin/user_upload/philnat/2_Studium_QP/MA_Geographie_2021.pdf\n",
      "The PDF contains 7684 characters.\n",
      "------------------------------------------------\n",
      "Name: https://philnat.unibas.ch/fileadmin/user_upload/philnat/2_Studium_QP/MSc_Drug_Sciences.pdf\n",
      "The PDF contains 6860 characters.\n",
      "------------------------------------------------\n",
      "Name: https://philnat.unibas.ch/fileadmin/user_upload/philnat/2_Studium_QP/BA_Chemie.pdf\n",
      "The PDF contains 4216 characters.\n",
      "------------------------------------------------\n",
      "Name: https://philnat.unibas.ch/fileadmin/user_upload/philnat/3_Forschung/Declaration_on_the_Assessment_of_Research_2021.pdf\n",
      "The PDF contains 1995 characters.\n",
      "------------------------------------------------\n",
      "Warning: Content-Length header is missing\n",
      "Name: https://www.unibas.ch/dam/jcr:7a8e2285-b06b-42dd-8efe-95046e5af272/446_520BaSFa_05.pdf\n",
      "The PDF contains 7094 characters.\n",
      "------------------------------------------------\n",
      "Name: https://philnat.unibas.ch/fileadmin/user_upload/philnat/2_Studium_QP/BA_Biologie.pdf\n",
      "The PDF contains 5489 characters.\n",
      "------------------------------------------------\n",
      "Warning: Content-Length header is missing\n",
      "Name: https://www.unibas.ch/dam/jcr:ff436546-44c5-4523-8758-1df9883858b2/446_530MaSFa_04.pdf\n",
      "The PDF contains 8538 characters.\n",
      "------------------------------------------------\n",
      "Name: https://philnat.unibas.ch/fileadmin/user_upload/philnat/2_Studium_QP/MSc_ComputerScience.pdf\n",
      "The PDF contains 5789 characters.\n",
      "------------------------------------------------\n",
      "Name: https://philnat.unibas.ch/fileadmin/user_upload/philnat/2_Studium_QP/BA_ComputerScience.pdf\n",
      "The PDF contains 5412 characters.\n",
      "------------------------------------------------\n",
      "Name: https://philnat.unibas.ch/fileadmin/user_upload/philnat/2_Studium/wissensch_Redlichkeit_E_09-2023.pdf\n",
      "The PDF contains 1917 characters.\n",
      "------------------------------------------------\n",
      "Name: https://philnat.unibas.ch/fileadmin/user_upload/philnat/2_Studium_QP/MSc_Ecology.pdf\n",
      "The PDF contains 5031 characters.\n",
      "------------------------------------------------\n",
      "Name: https://philnat.unibas.ch/fileadmin/user_upload/philnat/2_Studium/Formular_zur_Abmeldung_2021.pdf\n",
      "The PDF contains 1659 characters.\n",
      "------------------------------------------------\n",
      "Name: https://philnat.unibas.ch/fileadmin/user_upload/philnat/2_Studium_QP/BA_Geographie_2021.pdf\n",
      "The PDF contains 5525 characters.\n",
      "------------------------------------------------\n",
      "Not a PDF file. Content-Type: application/x-pdf;charset=utf-8\n",
      "Name: https://www.unibas.ch/dam/jcr:0b805f45-99a7-4e88-8f08-3939ea1f9f7b/446_730_00.pdf\n",
      "---> Failed to fetch the webpage.\n",
      "------------------------------------------------\n",
      "Name: https://philnat.unibas.ch/fileadmin/user_upload/philnat/3_Forschung/Wegleitung_Leistungsueberpruefung-TP-PD.pdf\n",
      "The PDF contains 4066 characters.\n",
      "------------------------------------------------\n",
      "Name: https://philnat.unibas.ch/fileadmin/user_upload/philnat/2_Studium/Formular_Masterarbeit_26.8.19.pdf\n",
      "The PDF contains 2700 characters.\n",
      "------------------------------------------------\n",
      "Failed to access the URL. Status code: 404\n",
      "Name: https://www.unibas.ch/dam/Oeffentliche-Dokumente/Rechtserlasse__LegalRegulations/Personal__Staff/Reglemente_Regimentation/R_Integritaet_01.pdf\n",
      "---> Failed to fetch the webpage.\n",
      "------------------------------------------------\n",
      "Name: https://philnat.unibas.ch/fileadmin/user_upload/philnat/2_Studium/Form_ONE_masters_examination.pdf\n",
      "The PDF contains 1993 characters.\n",
      "------------------------------------------------\n",
      "Name: https://philnat.unibas.ch/fileadmin/user_upload/philnat/2_Studium_QP/MSc_Animal_Biology.pdf\n",
      "The PDF contains 5161 characters.\n",
      "------------------------------------------------\n",
      "Name: https://philnat.unibas.ch/fileadmin/user_upload/philnat/2_Studium/Form_TWO_masters_examinations.pdf\n",
      "The PDF contains 2258 characters.\n",
      "------------------------------------------------\n",
      "Name: https://philnat.unibas.ch/fileadmin/user_upload/philnat/2_Studium_QP/BA_Mathematik.pdf\n",
      "The PDF contains 3980 characters.\n",
      "------------------------------------------------\n",
      "Name: https://philnat.unibas.ch/fileadmin/user_upload/philnat/3_Forschung/Doctoral_Agreement_Faculty_of_Science_6.2.23.pdf\n",
      "The PDF contains 6549 characters.\n",
      "------------------------------------------------\n",
      "Name: https://philnat.unibas.ch/fileadmin/user_upload/philnat/3_Forschung/Doktoratsvereinbarung_PhilNat_6.2.23.pdf\n",
      "The PDF contains 6472 characters.\n",
      "------------------------------------------------\n",
      "Name: https://philnat.unibas.ch/fileadmin/user_upload/philnat/2_Studium_QP/MSc_Nanosciences.pdf\n",
      "The PDF contains 9118 characters.\n",
      "------------------------------------------------\n",
      "The database contains 780625 characters.\n"
     ]
    }
   ],
   "source": [
    "def find_all_pdf_files_in_web(pdfs_list):\n",
    "  \n",
    "    total_vol = 0\n",
    "    pdfs_checked = []\n",
    "    \n",
    "    for pdf in pdfs_list:\n",
    "\n",
    "        # Fetch the webpage content\n",
    "        if is_pdf_downloadable(pdf):\n",
    "\n",
    "            total_doc = 0\n",
    "\n",
    "            print(f\"Name: {pdf}\")\n",
    "\n",
    "            total_doc = count_characters_in_pdf(pdf)\n",
    "    \n",
    "            total_vol += total_doc\n",
    "            \n",
    "            pdfs_checked.append(pdf)\n",
    "                \n",
    "            print(\"------------------------------------------------\")\n",
    "        else:\n",
    "            print(f\"Name: {pdf}\")\n",
    "            print(f\"---> Failed to fetch the webpage.\")\n",
    "            print(\"------------------------------------------------\")\n",
    "\n",
    "        time.sleep(1)\n",
    "\n",
    "    print(f\"The database contains {total_vol} characters.\")\n",
    "\n",
    "    return total_vol, pdfs_checked\n",
    "    \n",
    "count_web_pdfs, pdfs_checked = find_all_pdf_files_in_web(pdfs)\n"
   ]
  },
  {
   "cell_type": "code",
   "execution_count": 35,
   "id": "6f130cc4-718e-4eda-9eb4-c91efc06518e",
   "metadata": {},
   "outputs": [
    {
     "name": "stdout",
     "output_type": "stream",
     "text": [
      "Total found PDF files: 121\n",
      "Downloadable PDF files: 114\n"
     ]
    }
   ],
   "source": [
    "print(\"Total found PDF files:\", len(pdfs))\n",
    "print(\"Downloadable PDF files:\", len(pdfs_checked))"
   ]
  },
  {
   "cell_type": "code",
   "execution_count": 36,
   "id": "e0ea2257-d82c-4e47-b10e-a51d17104175",
   "metadata": {},
   "outputs": [],
   "source": [
    "def check_url(url, timeout=1):\n",
    "    try:\n",
    "        # Ensure the URL has a scheme\n",
    "        if not urlparse(url).scheme:\n",
    "            url = 'http://' + url\n",
    "\n",
    "        # Send a HEAD request\n",
    "        headers = {'User-Agent': bot_name}\n",
    "        response = requests.head(url, timeout=timeout, headers = headers, allow_redirects=True)\n",
    "        \n",
    "        # Check if the status code indicates success (2xx)\n",
    "        if 200 <= response.status_code < 300:\n",
    "            return True, response.status_code, \"URL is accessible\"\n",
    "        else:\n",
    "            return False, response.status_code, f\"URL returned status code {response.status_code}\"\n",
    "\n",
    "    except requests.ConnectionError:\n",
    "        return False, None, \"Failed to establish a connection\"\n",
    "    except requests.Timeout:\n",
    "        return False, None, \"Request timed out\"\n",
    "    except requests.TooManyRedirects:\n",
    "        return False, None, \"Too many redirects\"\n",
    "    except requests.RequestException as e:\n",
    "        return False, None, f\"An error occurred: {str(e)}\""
   ]
  },
  {
   "cell_type": "markdown",
   "id": "90c4fa29-127c-43ff-a21f-d0596185bdcf",
   "metadata": {},
   "source": [
    "## Step 4. Select "
   ]
  },
  {
   "cell_type": "code",
   "execution_count": 37,
   "id": "b694a8de-c942-4f91-832c-029afc440229",
   "metadata": {},
   "outputs": [
    {
     "name": "stdout",
     "output_type": "stream",
     "text": [
      "Included:  ['https://philnat.unibas.ch/de/studium/', 'https://dmi.unibas.ch/de/studium/computer-science-informatik/organisatorisches/computer-science-als-zweitfach/', 'https://msd.unibas.ch/en/home/', 'http://intranet.unibas.ch', 'https://dmi.unibas.ch/de/studium/actuarial-science/dokumente-links/', 'https://phdschoolqcqt.unibas.ch/en/', 'http://ub.unibas.ch', 'https://chemie.unibas.ch/de/studium/bachelor/', 'https://philnat.unibas.ch/de/forschung/tenure-verfahren/', 'https://evasys.unibas.ch/evasys/online.php?p=UEGED', 'https://philnat.unibas.ch/de/forschung/qualitaet/', 'https://philnat.unibas.ch/de/studium/bachelorfeier/', 'https://www.bio.unibas.ch/de/studium/msc-plant-science/', 'https://www.biozentrum.unibas.ch/education/degree-programms/msc-in-physics-of-life', 'https://philnat.unibas.ch/de/studium/master/', 'https://www.enable-javascript.com/de/', 'https://dmi.unibas.ch/de/studium/mathematik/mathematik-als-zweitfach/', 'https://pharma.unibas.ch/de/education/', 'https://personensuche.unibas.ch', 'https://filesender.switch.ch/', 'https://www.instagram.com/unibasel/', 'https://bio.unibas.ch/de/studium/msc-plant-science/', 'https://www.geo.unibas.ch/de/studiengaenge/studienfach-geographie/ma-geographie-minor-geographie/', 'https://philnat.unibas.ch#active-sub-nav', 'http://its.unibas.ch', 'https://bio.unibas.ch/de/studium/msc-animal-biology/', 'https://philnat.unibas.ch/fileadmin/user_upload/philnat/3_Forschung/Promotionsantrag_de.docx', 'https://philnat.unibas.ch/de/shared-elements/#', 'https://dmi.unibas.ch/de/studium/data-science/dokumente-links', 'https://philnat.unibas.ch/de/forschung/promotionphd/immatrikulation-ab-hs-2016-registered-fall-semester-2016-or-later/terminuebersichtscheduleoverview-1/', 'https://philnat.unibas.ch/de/forschung/habilitation/', 'http://perssearch.unibas.ch', 'https://bio.unibas.ch/de/reglemente/bsf-msf-biologie/', 'https://bio.unibas.ch/de/studium/bsf-biologie/', 'https://bio.unibas.ch/de/studium/msc-infection-biology/', 'https://philnat.unibas.ch/fileadmin/user_upload/philnat/Form_Report_and_Co-report_EN.docx', 'https://philnat.unibas.ch/fileadmin/user_upload/philnat/3_Forschung/Formular_Referat_und_Korreferat.docx', 'https://philnat.unibas.ch/de/studium/abschluesse/', 'https://www.geo.unibas.ch/de/studiengaenge/msc-geowissenschaften/', 'https://philnat.unibas.ch/de/examen/', 'https://philnat.unibas.ch/de/faq/details/wann-kann-man-sich-fuer-examen-pruefung-zu-hauptvorlesung-anmelden/', 'https://philnat.unibas.ch/de/forschung/', 'https://nanoscience.ch/de/studium/masterstudium/', 'https://philnat.unibas.ch/de/fakultaet/kommissionen/', 'https://cbb.ethz.ch/', 'https://philnat.unibas.ch/de/impressum-181/', 'https://philnat.unibas.ch/de/fakultaet/geschichte/', 'https://philnat.unibas.ch/de/forschung/titularprofessuren/', 'https://philnat.unibas.ch/fileadmin/user_upload/philnat/3_Forschung/Form_Report_PhD_April_2024.docx', 'http://www.nccr-qsit.ethz.ch/', 'https://philnat.unibas.ch#desktop-search', 'https://www.biozentrum.unibas.ch/phd/international-phd-program/phd-program/', 'https://philnat.unibas.ch', 'https://philnat.unibas.ch/fileadmin/user_upload/philnat/3_Forschung/Formular_Gutachten_PhD_April_2024.docx', 'https://philnat.unibas.ch/de/fakultaet/', 'https://philnat.unibas.ch/de/fakultaet/dekanat/', 'https://actuarial.unibas.ch/studium/', 'https://chemie.unibas.ch/de/studium/master/', 'https://bio.unibas.ch/de/studium/msc-molecular-biology/', 'https://philnat.unibas.ch/de/faq/details/wie-muss-ich-mich-fuer-ein-examen-pruefung-zu-einer-hauptvorlesung-anmelden/', 'https://philnat.unibas.ch/de/forschung/postdoktorat-postdoc/', 'http://www.swissuniversities.ch', 'https://philnat.smugmug.com/Bachelorfeier-2023', 'https://dmi.unibas.ch/de/studium/mathematik/master/', 'https://nanoscience.unibas.ch/de/forschung/phd-programm/', 'https://nanoscience.ch/de/studium/allgemeine-informationen/reglemente/', 'https://services.unibas.ch', 'https://pharma.unibas.ch/de/education/msc-pharmazie/', 'https://bio.unibas.ch/de/studium/msc-epidemiology/', 'https://msd.unibas.ch/en/study-programs/msd-2017-current-program/', 'https://geo.unibas.ch/de/studiengaenge/studienfach-geographie/ba-geographie-minor-geographie/', 'https://dmi.unibas.ch/de/studium/data-science/', 'https://www.bio.unibas.ch/de/studium/msc-animal-biology/', 'https://ibmb.unibas.ch/en/education/phd-program/', 'https://twitter.com/UniBasel', 'https://www.pna.unibas.ch/de/studiengaenge/msc-praehistorische-und-naturwissenschaftliche-archaeologie/', 'https://geo.unibas.ch/de/studiengaenge/studienfach-geographie/ma-geographie-minor-geographie/', 'https://dmi.unibas.ch/de/studium/computer-science-informatik/', 'https://philnat.unibas.ch/de/studium/studiendekanat/', 'https://philnat.unibas.ch/de/termine-aktuelles/news-events/', 'https://philnat.unibas.ch/de/faq/details/muss-ich-die-wiederholungsmoeglichkeit-von-einem-examen-wahrnehmen/', 'http://math.cuso.ch/home/', 'https://bio.unibas.ch/de/reglemente/msc-infection-biology/', 'https://philnat.unibas.ch/de/forschung/promotionphd/', 'https://physik.unibas.ch/en/study/master/', 'https://philnat.unibas.ch/de/forschung/promotionphd/immatrikulation-ab-hs-2016-registered-fall-semester-2016-or-later/terminuebersichtscheduleoverview/', 'https://www.geo.unibas.ch/de/studiengaenge/studienfach-geographie/ba-geographie-minor-geographie/', 'https://bio.unibas.ch/de/studium/msc-ecology/', 'http://www.cbb.ethz.ch/the-programme.html', 'https://philnat.unibas.ch/de/datenschutzerklaerung/', 'https://philnat.unibas.ch/de/fakultaet/professoren/', 'https://biomedizin.unibas.ch/en/education-careers/phd/', 'https://dmi.unibas.ch/de/studium/computer-science-informatik/doktoratsprogramm-data-analytics/', 'https://pna.unibas.ch/de/studium-pna/', 'https://www.plantsciences.uzh.ch/en/teaching.html', 'https://www.swisstph.ch/de/study-with-us/doctorate/infection-biology-ippib', 'https://tales.nmc.unibas.ch/', 'https://philnat.unibas.ch#subnav-active', 'https://philnat.unibas.ch/de/forschung/promotionphd/immatrikulation-ab-hs-2016-registered-fall-semester-2016-or-later/terminuebersichtscheduleoverview-1/#c4640', 'https://philnat.unibas.ch/de/termine-aktuelles/', 'https://personeninfo.unibas.ch/', 'https://philnat.unibas.ch/de/studium/bachelor/', 'https://www.bio.unibas.ch/de/studium/msc-molecular-biology/', 'https://www.bio.unibas.ch/de/studium/msc-ecology/', 'https://nanoscience.ch/de/', 'https://philnat.unibas.ch/de/faq/details/wie-kann-ich-mich-von-einem-examen-abmelden-1/', 'https://pharma.unibas.ch/de/education/msc-drug-sciences/', 'https://services.unibas.ch/', 'https://philnat.unibas.ch/de/studium/ausserfakultaere-studienfaecher/', 'https://pharma.unibas.ch/de/education/phd/phd-program-for-pharmaceutical-sciences', 'https://philnat.unibas.ch/de/studium/qualitaet/', 'https://philnat.unibas.ch#top', 'https://bio.unibas.ch/de/reglemente/msc-epidemiology/', 'https://sprachenzentrum.unibas.ch/de/proofreading-editing/', 'https://www.youtube.com/channel/UCn2zEkVXe6RZPN8e9ii3vYQ', 'https://dmi.unibas.ch/de/studium/mathematik/', 'https://philnat.unibas.ch#mobile-search', 'https://philnat.unibas.ch/fileadmin/user_upload/philnat/3_Forschung/Promotionsantrag_en.docx', 'https://philnat.unibas.ch/de/']\n",
      "Excluded: ['https://www.unibas.ch/    /de/Innovation.html', 'https://www.unibas.ch/    /de/Forschung.html', 'https://mail.unibas.ch/', 'https://www.unibas.ch/    /de/Studium/Beratung.html', 'https://ch.linkedin.com/school/unibasel/', 'https://www.unibas.ch/de/Studium/Im-Studium/Semesterrechnung.html', 'https://www.unibas.ch/    /de/Aktuell/Social-Media.html', 'https://www.unibas.ch#searchbar', 'https://www.unibas.ch/de/Studium/Im-Studium/Verify.html', 'https://www.unibas.ch/    /de/Notfall-und-Beratung.html', 'https://www.unibas.ch/    /de/Studium/FAQ-Studium.html', 'https://unibas.ch/', 'https://www.unibas.ch/    /de/Aktuell.html', 'https://www.unibas.ch/    /de/Universitaet/Administration-Services/Bereich-Rektorin/Kommunikation-Marketing/Kommunikation/Service-Medien.html', 'https://www.unibas.ch/de/Aktuell/News.html', 'https://www.unibas.ch#main-nav', 'https://www.unibas.ch/de/Zielgruppen/Studieninteressierte.html', 'https://www.unibas.ch/de/Studium/Im-Studium/Rueckmelden.html', 'https://www.unibas.ch/    /de/Aktuell/Uni-Nova.html', 'https://www.unibas.ch/    /de/Weiterbildung.html', 'https://www.unibas.ch/de/Organisationsfinder.html', 'https://www.unibas.ch/de/Studium/Im-Studium/Lernraeume.html', 'https://www.unibas.ch/    /de/Forschung/Core-Facilities-Sammlungen-Editionen.html', 'https://www.unibas.ch/    /de/Weiterbildung/Fuer-Studiengaenge.html', 'https://www.unibas.ch/de/Studium/Im-Studium/Belegen.html', 'https://www.unibas.ch/de/Studium/Bewerbung-Zulassung.html', 'https://www.unibas.ch/    /de/Forschung/Werte-Ethik.html', 'https://www.unibas.ch#page-footer', 'https://www.unibas.ch/    /de/Universitaet/KI-Initiative.html', 'https://www.unibas.ch/de/Studium/Im-Studium/Ersatzdokumente.html', 'https://www.unibas.ch/    /de/Aktuell/News.html', 'https://www.unibas.ch/    /de/Universitaet.html', 'https://www.unibas.ch/    /de/Organisationsfinder.html', 'https://www.unibas.ch/    /de/Forschung/Technologietransfer.html', 'https://www.unibas.ch/    /de/Universitaet/Leitung-Organisation.html', 'https://www.unibas.ch/de/Studium/Termine-Fristen.html', 'https://www.unibas.ch/    /de/Forschung/Beratung-FAQ.html', 'https://www.unibas.ch/    /de/Weiterbildung/Weiterbildung-Wozu.html', 'https://www.unibas.ch/    /de/Forschung/Qualitaetsmanagement-Forschung.html', 'https://www.unibas.ch/    /de/Studium.html', 'https://www.unibas.ch/de/Impressum/Datenschutzerklaerung.html', 'https://www.unibas.ch/    /de/Studium/Im-Studium.html', 'https://www.unibas.ch/    /de/Universitaet/Universitaet-Gesellschaft.html', 'https://www.unibas.ch/de/Studium/Eucor-Epicur.html', 'http://markt.unibas.ch/', 'https://www.unibas.ch/    /de/Aktuell/Medienspiegel.html', 'https://www.unibas.ch/    /de/Studium/Campus-Stories.html', 'https://www.unibas.ch/    /de/Studium/Bewerbung-Zulassung.html', 'https://www.unibas.ch/en/Studies/My-Studies/Transcript-of-Records.html', 'https://www.unibas.ch/    /de/Universitaet/Portraet.html', 'https://www.unibas.ch/    /de/Studium/Veranstaltungen.html', 'https://www.unibas.ch/    /de/Forschung/Kongressfoerderung.html', 'https://www.unibas.ch/    /de/Aktuell/Ukraine.html', 'https://www.unibas.ch/de/Organisationsfinder.html?id=f2c0e3d3-e4c6-41c2-9c5b-17ca8b904e82', 'https://www.unibas.ch/de/Zielgruppen/Foerdernde-und-Alumni.html', 'https://www.unibas.ch/de/Studium/Im-Studium.html', 'https://www.unibas.ch/de/Arbeiten-an-der-Universitaet-Basel/Offene-Stellen.html', 'https://www.unibas.ch/    /de/Forschung/Akademische-Laufbahn.html', 'https://www.unibas.ch/    /de/Weiterbildung/Kursformate-und-Abschluesse.html', 'https://www.unibas.ch/    /de/Universitaet/Merchandise.html', 'https://www.unibas.ch/de/Universitaet/Administration-Services/Vizerektorat-Lehre/Student-Services/Studiensekretariat.html', 'https://www.unibas.ch/de/Studium/Im-Studium/Universitaetsbibliothek-Basel.html', 'https://www.unibas.ch/de/Zielgruppen/Doktorierende.html', 'https://www.unibas.ch/de.html', 'https://www.unibas.ch/de/Dokumente.html', 'https://www.unibas.ch/    /de/Universitaet/Rechtserlasse.html', 'https://www.unibas.ch/de/Aktuell/Uni-Nova/Uni-Nova-143.html', 'https://www.unibas.ch/    /de/Weiterbildung/Publikationen.html', 'https://www.unibas.ch/de/Universitaet/Kontakt-Anfahrt.html', 'https://www.unibas.ch/    /de/Forschung/Personenfoerderung.html', 'https://www.unibas.ch/de/Studium/Vorlesungsverzeichnis.html', 'https://www.unibas.ch/de/Studium/Studienangebot.html', 'https://www.unibas.ch/de/Universitaet/Notfall-Beratung.html', 'https://www.unibas.ch/    /de/Studium/Termine-Fristen.html', 'https://www.unibas.ch/    /de/Weiterbildung/Studienangebot.html', 'https://www.unibas.ch/de/Studium/Veranstaltungen.html', 'https://www.unibas.ch/de/Impressum.html', 'https://www.unibas.ch/    /de/Aktuell/Podcasts.html', 'https://www.unibas.ch/    /de/Studium/Studienangebot.html', 'https://www.unibas.ch/de/Studium/Mobilitaet.html', 'https://www.unibas.ch/de/Universitaet/Administration-Services/Vizerektorat-Lehre/Bildungsangebote/Graduate-Center/Beratung.html', 'https://www.unibas.ch/de/Studium/Im-Studium/Gleichwertigkeitsbescheinigung.html', 'https://www.unibas.ch/de/Universitaet/Administration-Services/Generalsekretariat/Qualitaetsentwicklung/Qualitaetskultur.html', 'https://physik.unibas.ch/de/studium/studienaufbau-bachelor/', 'https://www.unibas.ch/de/Studium/Beratung.html', 'https://www.unibas.ch/de/Aktuell/Newsletter.html', 'https://www.unibas.ch#introduction-links', 'https://physik.unibas.ch/en/studies-phd/', 'https://www.unibas.ch/    /de/Aktuell/Ehrungen-Preise.html', 'https://philnat.unibas.ch/de/faqs/', 'https://www.unibas.ch/de/Zielgruppen/Studierende.html', 'https://www.unibas.ch/    /de/Studium/Eucor-Epicur.html', 'http://www.verify.unibas.ch', 'https://www.unibas.ch/de/Studium/Campus-Stories.html', 'https://www.unibas.ch#top', 'https://www.unibas.ch/    /de/Weiterbildung/Aktuelles-und-Veranstaltungen.html', 'https://www.unibas.ch/de/Studium.html', 'https://www.unibas.ch/    /de/Universitaet/Administration-Services.html', 'http://www.nccr-mse.ch/en/no_cache/home/', 'https://www.unibas.ch/    /de/Aktuell/Newsletter.html', 'https://www.unibas.ch/    /de/Arbeiten-an-der-Universitaet-Basel.html', 'https://www.unibas.ch/de/Zielgruppen/Dozierende.html', 'https://www.unibas.ch/    /de/Weiterbildung/Services-Weiterbildung.html', 'https://www.unibas.ch/de/Mitarbeitendenportal.html', 'https://www.unibas.ch/de/Aktuell/News/Uni-Research/Venture-Kick-foerdert-Spin-off-Translation-X.html', 'https://www.unibas.ch', 'https://www.unibas.ch/    /de/Studium/Mobilitaet.html', 'https://www.unibas.ch/de/Studium/FAQ-Studium.html', 'https://www.unibas.ch#page-content', 'https://www.unibas.ch/en/University/Administration-Services/Vice-President-s-Office-for-Education/Academic-Programs/Graduate-Center/Advisory-Services.html', 'https://www.unibas.ch/    /de/Universitaet/Fundraising.html', 'https://www.unibas.ch/    /de/Universitaet/Netzwerke-Partnerschaften.html', 'https://www.unibas.ch/    /de/Forschung/Forschen-in-Basel.html', 'https://www.unibas.ch/ /de/Studiensekretariat.html', 'https://www.unibas.ch/de/Aktuell/News/Uni-Research/Neuer-Angriffspunkt-f-r-Therapie-gegen-Autoimmunerkrankung-entdeckt.html', 'https://www.unibas.ch/de/Studium/Im-Studium/Studienadministration.html', 'https://www.unibas.ch/    /de/Aktuell/Veranstaltungen.html', 'https://www.unibas.ch/de/Studium/Oeffnungszeiten.html', 'https://www.unibas.ch/de/Studium/Im-Studium/KI-in-Studium-und-Lehre.html', 'https://www.unibas.ch#sharebar', 'https://www.unibas.ch/de/Studium/Student-Life.html', 'https://www.unibas.ch/de/Sitemap.html', 'http://www.unisport.ch/', 'https://www.unibas.ch/    /de/Universitaet/Kontakt-Anfahrt.html', 'https://www.unibas.ch/    /de/Universitaet/Immobilien.html', 'https://www.unibas.ch/    /de/Weiterbildung/Informationen-und-Downloads-f-r-Studierende.html', 'https://www.unibas.ch/    /de/Studium/Student-Life.html', 'https://www.unibas.ch/    /de/Studium/Vorlesungsverzeichnis.html', 'https://www.unibas.ch/en/Studies/Student-Regulations.html', 'https://www.unibas.ch/    /de/Forschung/Projektfoerderung.html', 'https://www.unibas.ch/de/Forschung/Qualitaetsmanagement-Forschung.html', 'https://www.unibas.ch/    /de/Universitaet/Geschichte-der-Universitaet.html']\n"
     ]
    }
   ],
   "source": [
    "def filter_url(url):\n",
    "    return not (url.endswith(\"faqs/\") or url.endswith(\"FAQ-Studium.html\"))\n",
    "\n",
    "def select_links(urls, limit):\n",
    "    not_selected = []\n",
    "    selected = []\n",
    "\n",
    "    for url in urls:\n",
    "        if check_url(url)[0] and filter_url(url):\n",
    "            if len(selected) < limit:\n",
    "                selected.append(url)\n",
    "            else:\n",
    "                not_selected.append(url)\n",
    "        else:\n",
    "            not_selected.append(url)\n",
    "\n",
    "        if len(selected) == limit:\n",
    "            break\n",
    "\n",
    "    return selected, not_selected \n",
    "            \n",
    "selected_urls, not_selected_urls  = select_links(links, limit)\n",
    "\n",
    "print(\"Included: \", selected_urls)\n",
    "print(\"Excluded:\", not_selected_urls)"
   ]
  },
  {
   "cell_type": "code",
   "execution_count": 38,
   "id": "af645403-7d41-4f85-aeb5-750fe51a307f",
   "metadata": {},
   "outputs": [
    {
     "name": "stdout",
     "output_type": "stream",
     "text": [
      "Included:  ['https://philnat.unibas.ch/fileadmin/user_upload/philnat/2_Studium_QP/MSc_Epidemiology.pdf', 'https://philnat.unibas.ch/fileadmin/user_upload/philnat/3_Forschung/Formular_Betreuungszusage_2.pdf', 'https://philnat.unibas.ch/fileadmin/user_upload/philnat/3_Forschung/Formular_Abbruch_der_Doktoratsausbildung_April_2024.pdf', 'https://www.unibas.ch/dam/jcr:2eb607be-80ab-42c6-876d-fb1acac4d6b9/DA.pdf', 'https://www.unibas.ch/dam/jcr:81f378a3-1625-4df8-883c-0162768e031f/Anhang%2012_MSG_Oekologie_00.pdf', 'https://philnat.unibas.ch/fileadmin/user_upload/philnat/3_Forschung/PhD_application_March_2024.pdf', 'https://www.unibas.ch/dam/jcr:4c4e2ac4-a0a3-44a6-9b28-603876c2f06f/MSG_Data%20Science_00.pdf', 'https://www.unibas.ch/dam/jcr:c67b41e1-b339-4404-91ae-7a60a66a7a28/446_710_11.pdf', 'https://philnat.unibas.ch/fileadmin/user_upload/philnat/3_Forschung/Doktoratsstudium_-_Leitfaden_Version_06.2023_update.pdf', 'https://philnat.unibas.ch/fileadmin/user_upload/philnat/2_Studium_QP/MSc_Chemie.pdf', 'https://philnat.unibas.ch/fileadmin/user_upload/philnat/2_Studium_QP/MSc_Infection_Biology_ab_HS_2024.pdf', 'https://philnat.unibas.ch/fileadmin/user_upload/philnat/2_Studium_QP/MA_Biologie.pdf', 'https://philnat.unibas.ch/fileadmin/user_upload/philnat/2_Studium_QP/MA_ComputerScience.pdf', 'https://www.unibas.ch/dam/jcr:afcb49f3-a53c-4843-9227-34a2fbb072ad/446_710Mp_00.pdf', 'https://philnat.unibas.ch/fileadmin/user_upload/philnat/3_Forschung/Promotionsfaecher_neue_Ordnung.pdf', 'https://philnat.unibas.ch/fileadmin/user_upload/philnat/2_Studium_QP/MA_Physik.pdf', 'https://philnat.unibas.ch/fileadmin/user_upload/philnat/3_Forschung/Deklaration_Evaluierung_Forschungsleistung_2021.pdf', 'https://philnat.unibas.ch/fileadmin/user_upload/philnat/3_Forschung/Doctoral_studies_-_Guidelines_Version_06.2023_english_update.pdf', 'https://philnat.unibas.ch/fileadmin/user_upload/philnat/2_Studium/wissensch_Redlichkeit_D_09-2023.pdf', 'https://www.unibas.ch/dam/jcr:60f10279-9d75-4f9c-9031-6ed92cdf017a/Anhang%203_MSG_Chemie_00.pdf', 'https://www.unibas.ch/dam/jcr:abb2d356-0b9f-4ccd-b911-74b90f210104/Anhang%209_MSG_Mathematik_00.pdf', 'https://www.unibas.ch/dam/Oeffentliche-Dokumente/Rechtserlasse__LegalRegulations/Phil.-Nat.Fakultaet__FacultyofScience/Promotion__Doctorate/446_730_P_Phil_Nat_00.pdf', 'https://www.unibas.ch/dam/jcr:a9ec4dd3-7e20-4dea-bed8-0c5898ab8bd6/446_720_00.pdf', 'https://philnat.unibas.ch/fileadmin/user_upload/philnat/2_Studium_QP/MSc_Geowissenschaften_2021_final.pdf', 'https://www.unibas.ch/dam/jcr:86d9ed69-981a-4a93-9141-0d06e21e4f71/Anhang%206_MSG_Epidemiologie_00.pdf', 'https://philnat.unibas.ch/fileadmin/user_upload/philnat/2_Studium/Form_Masters_Thesis_26.8.19_01.pdf', 'https://philnat.unibas.ch/fileadmin/user_upload/philnat/2_Studium_QP/MSc_ComputerScience_EN.pdf', 'https://www.unibas.ch/dam/jcr:42b7afe9-590b-4956-9cd0-c77707392acd/446_710_00.pdf', 'https://www.unibas.ch/dam/jcr:a84ff55a-76bc-4b3d-8075-d7eba0340c52/Anhang%2010_MSG_Molekularbiologie_00.pdf', 'https://www.unibas.ch/dam/jcr:86ca2535-f01d-484e-9285-36e499de2252/MSG_Physics_of_Life_00.pdf', 'https://philnat.unibas.ch/fileadmin/user_upload/philnat/4_Termine_und_News/Agenda_2024-26_.pdf', 'https://philnat.unibas.ch/fileadmin/user_upload/philnat/3_Forschung/Pflichtexemplare_neue_Ordnung_D_APRIL_23.pdf', 'https://philnat.unibas.ch/fileadmin/user_upload/philnat/3_Forschung/Formular_Abbruch_der_Doktoratsausbildung_E_April_2024.pdf', 'https://philnat.unibas.ch/fileadmin/user_upload/philnat/3_Forschung/2017_Dr_Abschluss_D_neue_Links.pdf', 'https://www.unibas.ch/dam/jcr:a3ce1908-6577-46bc-8d62-99b8e858c836/446_520BMaSFk_03.pdf', 'https://philnat.unibas.ch/fileadmin/user_upload/philnat/2_Studium_QP/MSc_Pharmazie.pdf', 'https://www.unibas.ch/dam/jcr:0e9a0318-b926-40f4-a349-b12d1b4f5ec9/441_800_08.pdf', 'https://philnat.unibas.ch/fileadmin/user_upload/philnat/2_Studium_QP/MSc_Molecular_Biology.pdf', 'https://philnat.unibas.ch/fileadmin/user_upload/philnat/2_Studium/Formular_EINE_Masterpruefung_2017.pdf', 'https://www.unibas.ch/dam/jcr:50f77dc6-f799-4261-8155-14ec1078a952/Anhang%201_Masterordnung%20Phil.-Nat_MSG_00.pdf', 'https://philnat.unibas.ch/fileadmin/user_upload/philnat/3_Forschung/Application_external_expert_June_23.pdf', 'https://www.unibas.ch/dam/jcr:5779e600-6cb2-4bf4-8c0c-15b69a2bdb2d/Anhang%204_MSG_ComputerScience_00.pdf', 'https://philnat.unibas.ch/fileadmin/user_upload/philnat/3_Forschung/2017_Dr_Abschluss_E_neue_Links.pdf', 'https://www.unibas.ch/dam/jcr:9f233e7c-b4c7-496d-8f18-000a30c982e2/GA%20DE%20EN.pdf', 'https://www.unibas.ch/dam/jcr:aa01167f-85e6-4b4a-af3e-ab25347a4a1e/446_520BMaSFj_04.pdf', 'https://philnat.unibas.ch/fileadmin/user_upload/philnat/2_Studium/Merkblatt_Pruefungseinsicht_2021.pdf', 'https://philnat.unibas.ch/fileadmin/user_upload/philnat/3_Forschung/Pflichtexemplare_EDOC_de_April_2023.pdf', 'https://philnat.unibas.ch/fileadmin/user_upload/philnat/2_Studium_QP/MSc_Actuarial_Science.pdf', 'https://www.unibas.ch/dam/jcr:9501bc6f-a15a-4ec3-aff0-d7c790e639c4/Anhang%2013_MSG_Pharmazie_00.pdf', 'https://www.unibas.ch/dam/jcr:dbefbe8f-5272-4191-9d88-8ca7d0d29efb/446_910_05.pdf', 'https://www.unibas.ch/dam/jcr:526a5d4e-b9d6-46c5-bdc5-269925153621/446_520BMaSFe_04.pdf', 'https://philnat.unibas.ch/fileadmin/user_upload/philnat/3_Forschung/Richtlinien_Befoerderungen-Unterlagen_Befoerderung_20211221.pdf', 'https://philnat.unibas.ch/fileadmin/user_upload/philnat/2_Studium_QP/MSc_Mathematik.pdf', 'https://philnat.unibas.ch/fileadmin/user_upload/philnat/2_Studium_QP/MSc_PNA.pdf', 'https://philnat.unibas.ch/fileadmin/user_upload/philnat/2_Studium_QP/MA_Mathematik.pdf', 'https://www.unibas.ch/dam/jcr:0bc4208d-1f4f-4452-8d9e-5e8de4535e49/GA%20DE.pdf', 'https://www.unibas.ch/dam/jcr:50dd5d88-92b6-4b01-8c79-af5c2a82d14e/Anhang%2011_MSG_Nanowissenschaften_00.pdf', 'https://www.biozentrum.unibas.ch/fileadmin/redaktion/04_Education/04_Master/2024_04_Wegleitung_DE_MSc_Physics-of-Life.pdf', 'https://www.unibas.ch/dam/jcr:348ef1d1-f237-4121-87e1-ffb4bba0dd72/Anhang%202_MSG_Biologie-der-Tiere_00.pdf', 'https://www.unibas.ch/dam/jcr:346c3483-9070-4f79-a198-7ab37dcdc79f/446_520BMaSFh_01.pdf', 'https://unibas.ch/dam/Oeffentliche-Dokumente/Rechtserlasse__LegalRegulations/Phil.Hist.Fakultaet_FacultyofHumanities/ausserfakultaereStudienfaecher__ExtrafacultySubjects/446_520BMaSFi_01.pdf', 'https://www.unibas.ch/dam/jcr:99398a25-d3f7-4520-9ef6-859b29c2d635/Anhang%2015_MSG_Pflanzenwissenschaften_00.pdf', 'https://philnat.unibas.ch/fileadmin/user_upload/philnat/2_Studium_QP/MSc_Plant_Science.pdf', 'https://philnat.unibas.ch/fileadmin/user_upload/philnat/3_Forschung/Doktoratskomitee_nach_Ordnung_2016_April2021.pdf', 'https://philnat.unibas.ch/fileadmin/user_upload/philnat/2_Studium_Abschluesse_Bachelorfeier2018/Einladung_Bachelorfeier.pdf', 'https://philnat.unibas.ch/fileadmin/user_upload/philnat/3_Forschung/Doktoratskomitee_nach_Ordnung_2016_E_April2021.pdf', 'https://philnat.unibas.ch/fileadmin/user_upload/philnat/2_Studium_QP/MSc_Nanowissenschaften_2021_final.pdf', 'https://philnat.unibas.ch/fileadmin/user_upload/philnat/3_Forschung/Wegleitung_TitProf.pdf', 'https://www.unibas.ch/dam/jcr:9e31b5d6-f6ee-4b17-a13b-2003661175a4/Anhang%208_MSG_Infektionsbiologie_00.pdf', 'https://philnat.unibas.ch/fileadmin/user_upload/philnat/Tenure-Evaluation.pdf', 'https://www.unibas.ch/dam/jcr:ad2becc5-fa93-4589-ab54-d10ebf18826b/MSG_Physik_01.pdf', 'https://philnat.unibas.ch/fileadmin/user_upload/philnat/3_Forschung/Pflichtexemplare_neue_Ordnung_E_September_23.pdf', 'https://www.unibas.ch/dam/jcr:ff679c42-c759-417e-aee2-a62957574d9c/Anhang%2016_MSG_Praehist.&amp;Naturwiss.Archaeologie_00.pdf', 'https://philnat.unibas.ch/fileadmin/user_upload/philnat/3_Forschung/Promotionsfaecher.pdf', 'https://philnat.unibas.ch/fileadmin/user_upload/philnat/Kriterien_Titularprofessur_praezisiert.pdf', 'https://www.unibas.ch/dam/jcr:69bcf636-a158-4fd9-a554-5a5308ae9706/MSG_Infektionsbiologie_01.pdf', 'https://philnat.unibas.ch/fileadmin/user_upload/philnat/2_Studium_QP/MSc_Infection_Biology.pdf', 'https://philnat.unibas.ch/fileadmin/user_upload/philnat/2_Studium_QP/MSc_Physik_2021.pdf', 'https://philnat.unibas.ch/fileadmin/user_upload/philnat/2_Studium/Formular_ZWEI_Masterpruefungen_2017.pdf', 'https://physik.unibas.ch/fileadmin/user_upload/physics/04_StudiesPhD/Wegleitung_BSc-MSc_Physik.pdf', 'https://philnat.unibas.ch/fileadmin/user_upload/philnat/2_Studium_QP/BA_Physik.pdf', 'https://philnat.unibas.ch/fileadmin/user_upload/philnat/3_Forschung/Promotionsantrag_Maerz_2024.pdf', 'https://philnat.unibas.ch/fileadmin/user_upload/philnat/Examen/4_Anmeldung_zum_Examen_von_Hauptvorlesungen_DE.pdf', 'https://www.unibas.ch/dam/jcr:19dae9cb-d5ea-4cb8-a060-b5d08f84cdc4/Formular_Ersatzdokumente_2021_12_DE.pdf', 'https://philnat.unibas.ch/fileadmin/user_upload/philnat/3_Forschung/Pflichtexemplare-EDOC_e_April_2023.pdf', 'https://philnat.unibas.ch/fileadmin/user_upload/philnat/3_Forschung/Antrag_externer_Experte_Juni_23.pdf', 'https://philnat.unibas.ch/fileadmin/user_upload/philnat/3_Forschung/Form_Confirmation_of_Supervision_2.pdf', 'https://www.unibas.ch/dam/jcr:8f43e2a1-664c-4c83-9bff-5bb8a2cc3576/Anhang%205_MSG_DrugSciences_00.pdf', 'https://www.unibas.ch/dam/jcr:b55c4f0a-f2b0-4ec0-8311-05d34a696fd3/446_930_02.pdf', 'https://philnat.unibas.ch/fileadmin/user_upload/philnat/2_Studium_QP/MA_Chemie.pdf', 'https://www.unibas.ch/dam/jcr:37b55628-6571-41ff-a3b2-17f8a2e41d69/MSG_Geowissenschaften_01.pdf', 'https://philnat.unibas.ch/fileadmin/user_upload/philnat/Examen/ExamenHS24_13092024_prov.pdf', 'https://philnat.unibas.ch/fileadmin/user_upload/philnat/2_Studium_QP/MA_Geographie_2021.pdf', 'https://philnat.unibas.ch/fileadmin/user_upload/philnat/2_Studium_QP/MSc_Drug_Sciences.pdf', 'https://philnat.unibas.ch/fileadmin/user_upload/philnat/2_Studium_QP/BA_Chemie.pdf', 'https://philnat.unibas.ch/fileadmin/user_upload/philnat/3_Forschung/Declaration_on_the_Assessment_of_Research_2021.pdf', 'https://www.unibas.ch/dam/jcr:7a8e2285-b06b-42dd-8efe-95046e5af272/446_520BaSFa_05.pdf', 'https://philnat.unibas.ch/fileadmin/user_upload/philnat/2_Studium_QP/BA_Biologie.pdf', 'https://www.unibas.ch/dam/jcr:ff436546-44c5-4523-8758-1df9883858b2/446_530MaSFa_04.pdf', 'https://philnat.unibas.ch/fileadmin/user_upload/philnat/2_Studium_QP/MSc_ComputerScience.pdf', 'https://philnat.unibas.ch/fileadmin/user_upload/philnat/2_Studium_QP/BA_ComputerScience.pdf', 'https://philnat.unibas.ch/fileadmin/user_upload/philnat/2_Studium/wissensch_Redlichkeit_E_09-2023.pdf', 'https://philnat.unibas.ch/fileadmin/user_upload/philnat/2_Studium_QP/MSc_Ecology.pdf', 'https://philnat.unibas.ch/fileadmin/user_upload/philnat/2_Studium/Formular_zur_Abmeldung_2021.pdf', 'https://philnat.unibas.ch/fileadmin/user_upload/philnat/2_Studium_QP/BA_Geographie_2021.pdf', 'https://philnat.unibas.ch/fileadmin/user_upload/philnat/3_Forschung/Wegleitung_Leistungsueberpruefung-TP-PD.pdf', 'https://philnat.unibas.ch/fileadmin/user_upload/philnat/2_Studium/Formular_Masterarbeit_26.8.19.pdf', 'https://philnat.unibas.ch/fileadmin/user_upload/philnat/2_Studium/Form_ONE_masters_examination.pdf', 'https://philnat.unibas.ch/fileadmin/user_upload/philnat/2_Studium_QP/MSc_Animal_Biology.pdf', 'https://philnat.unibas.ch/fileadmin/user_upload/philnat/2_Studium/Form_TWO_masters_examinations.pdf', 'https://philnat.unibas.ch/fileadmin/user_upload/philnat/2_Studium_QP/BA_Mathematik.pdf', 'https://philnat.unibas.ch/fileadmin/user_upload/philnat/3_Forschung/Doctoral_Agreement_Faculty_of_Science_6.2.23.pdf', 'https://philnat.unibas.ch/fileadmin/user_upload/philnat/3_Forschung/Doktoratsvereinbarung_PhilNat_6.2.23.pdf', 'https://philnat.unibas.ch/fileadmin/user_upload/philnat/2_Studium_QP/MSc_Nanosciences.pdf']\n",
      "Excluded: []\n"
     ]
    }
   ],
   "source": [
    "\n",
    "def select_pdfs(pdfs, limit):\n",
    "\n",
    "    not_selected = []\n",
    "    selected = []\n",
    "\n",
    "    for pdf in pdfs:\n",
    "\n",
    "        if len(selected) < limit:\n",
    "            selected.append(pdf)\n",
    "        else:\n",
    "            not_selected.append(pdf)\n",
    "\n",
    "        if len(selected) == limit:\n",
    "            break\n",
    "\n",
    "    return selected, not_selected\n",
    "            \n",
    "selected_pdfs, not_selected_pdfs  = select_pdfs(pdfs_checked, limit)\n",
    "print(\"Included: \", selected_pdfs)\n",
    "print(\"Excluded:\", not_selected_pdfs)"
   ]
  },
  {
   "cell_type": "markdown",
   "id": "fc2881d8-a06f-42fa-af01-77aa755f16bd",
   "metadata": {},
   "source": [
    "## Step 5. Save "
   ]
  },
  {
   "cell_type": "code",
   "execution_count": 39,
   "id": "7de6a051-c327-4e61-92dd-293d7c27105d",
   "metadata": {},
   "outputs": [],
   "source": [
    "def download_pdf(url, directory):\n",
    "\n",
    "    headers = {'User-Agent': bot_name}   \n",
    "    response = requests.get(url, headers=headers, stream=True)\n",
    "\n",
    "    if response.status_code == 200:\n",
    "        # Get the filename from the URL\n",
    "        filename = os.path.basename(urlparse(url).path)\n",
    "        \n",
    "        # Create the full path for saving the file\n",
    "        filepath = os.path.join(directory, filename)\n",
    "        \n",
    "        # Open the file in write-binary mode\n",
    "        with open(filepath, 'wb') as file:\n",
    "            # Write the content to the file\n",
    "            file.write(response.content)\n",
    "\n",
    "        time.sleep(1)\n",
    "        print(f\"Downloaded: {filename}\")\n",
    "        total_doc = count_characters_in_pdf(url)\n",
    "        print(\"------------------------------------------------\")\n",
    "        return True\n",
    "    else:\n",
    "        print(f\"Failed to download: {url}\")\n",
    "        return False\n",
    "\n",
    "def download_pdfs(urls, directory):\n",
    "    \n",
    "    # Create the directory if it doesn't exist\n",
    "    # os.makedirs(directory, exist_ok=True)\n",
    "    \n",
    "    for url in urls:\n",
    "        if url.lower().endswith('.pdf'):\n",
    "            download_pdf(url, directory)\n",
    "        else:\n",
    "            print(f\"Skipped: {url} (not a PDF)\")\n",
    "            "
   ]
  },
  {
   "cell_type": "code",
   "execution_count": 40,
   "id": "91d416e3-115f-483a-8def-ffbe993e0333",
   "metadata": {},
   "outputs": [],
   "source": [
    "# comment out to download docs into /data folder  \n",
    "# download_pdfs(selected_pdfs, directory_path)"
   ]
  },
  {
   "cell_type": "code",
   "execution_count": 41,
   "id": "90a1d66b-c3d9-4464-9970-4c7e300dfb80",
   "metadata": {},
   "outputs": [],
   "source": [
    "def find_all_pdf_files_in_dir(directory_from):\n",
    "    pdf_files = []\n",
    "    total_vol = 0\n",
    "    \n",
    "    for root, dirs, files in os.walk(directory_from):\n",
    "        for file in files:\n",
    "            if file.endswith('.pdf'):\n",
    "                path_to_file = os.path.join(directory_from, file)\n",
    "                pdf_files.append(path_to_file)\n",
    "\n",
    "                total_characters = 0\n",
    "\n",
    "                total_characters = count_characters_in_pdf(path_to_file)\n",
    "\n",
    "                total_vol += total_characters\n",
    "                    \n",
    "                print(f\"Name: {file}\")\n",
    "                print(\"------------------------------------------------\")\n",
    "\n",
    "    print(f\"The database contains {total_vol} characters.\")\n",
    "\n",
    "    return pdf_files\n",
    "\n",
    "def count_urls_size(urls):\n",
    "    total = 0\n",
    "    \n",
    "    for url in urls:\n",
    "        total += count_characters_on_webpage(url)\n",
    "\n",
    "        time.sleep(0.5)\n",
    "        print(f\"Name: {url}\")\n",
    "        print(\"------------------------------------------------\")\n",
    "\n",
    "    print(f\"The database contains {total} characters.\")\n",
    "\n",
    "    return total\n",
    "    "
   ]
  },
  {
   "cell_type": "code",
   "execution_count": 42,
   "id": "14d0c762-d105-4539-8335-41b553a498a1",
   "metadata": {},
   "outputs": [],
   "source": [
    "# comment out to check saved docs\n",
    "# pdf_files_list = find_all_pdf_files_in_dir(directory_path)"
   ]
  },
  {
   "cell_type": "code",
   "execution_count": 43,
   "id": "85474217-bf5e-43ef-b38b-e3712bbadf93",
   "metadata": {},
   "outputs": [
    {
     "name": "stdout",
     "output_type": "stream",
     "text": [
      "The URL contains 8810 characters.\n",
      "Name: https://philnat.unibas.ch/de/studium/\n",
      "------------------------------------------------\n",
      "The URL contains 2942 characters.\n",
      "Name: https://dmi.unibas.ch/de/studium/computer-science-informatik/organisatorisches/computer-science-als-zweitfach/\n",
      "------------------------------------------------\n",
      "The URL contains 3174 characters.\n",
      "Name: https://msd.unibas.ch/en/home/\n",
      "------------------------------------------------\n",
      "The URL contains 2127 characters.\n",
      "Name: http://intranet.unibas.ch\n",
      "------------------------------------------------\n",
      "The URL contains 8572 characters.\n",
      "Name: https://dmi.unibas.ch/de/studium/actuarial-science/dokumente-links/\n",
      "------------------------------------------------\n",
      "The URL contains 2900 characters.\n",
      "Name: https://phdschoolqcqt.unibas.ch/en/\n",
      "------------------------------------------------\n",
      "The URL contains 5693 characters.\n",
      "Name: http://ub.unibas.ch\n",
      "------------------------------------------------\n",
      "The URL contains 6819 characters.\n",
      "Name: https://chemie.unibas.ch/de/studium/bachelor/\n",
      "------------------------------------------------\n",
      "The URL contains 2670 characters.\n",
      "Name: https://philnat.unibas.ch/de/forschung/tenure-verfahren/\n",
      "------------------------------------------------\n",
      "The URL contains 4190 characters.\n",
      "Name: https://evasys.unibas.ch/evasys/online.php?p=UEGED\n",
      "------------------------------------------------\n",
      "The URL contains 1840 characters.\n",
      "Name: https://philnat.unibas.ch/de/forschung/qualitaet/\n",
      "------------------------------------------------\n",
      "The URL contains 2750 characters.\n",
      "Name: https://philnat.unibas.ch/de/studium/bachelorfeier/\n",
      "------------------------------------------------\n",
      "The URL contains 7094 characters.\n",
      "Name: https://www.bio.unibas.ch/de/studium/msc-plant-science/\n",
      "------------------------------------------------\n",
      "The URL contains 24814 characters.\n",
      "Name: https://www.biozentrum.unibas.ch/education/degree-programms/msc-in-physics-of-life\n",
      "------------------------------------------------\n",
      "The URL contains 6554 characters.\n",
      "Name: https://philnat.unibas.ch/de/studium/master/\n",
      "------------------------------------------------\n",
      "The URL contains 6085 characters.\n",
      "Name: https://www.enable-javascript.com/de/\n",
      "------------------------------------------------\n",
      "The URL contains 5639 characters.\n",
      "Name: https://dmi.unibas.ch/de/studium/mathematik/mathematik-als-zweitfach/\n",
      "------------------------------------------------\n",
      "The URL contains 3228 characters.\n",
      "Name: https://pharma.unibas.ch/de/education/\n",
      "------------------------------------------------\n",
      "The URL contains 13 characters.\n",
      "Name: https://personensuche.unibas.ch\n",
      "------------------------------------------------\n",
      "The URL contains 601 characters.\n",
      "Name: https://filesender.switch.ch/\n",
      "------------------------------------------------\n",
      "The URL contains 110 characters.\n",
      "Name: https://www.instagram.com/unibasel/\n",
      "------------------------------------------------\n",
      "The URL contains 7094 characters.\n",
      "Name: https://bio.unibas.ch/de/studium/msc-plant-science/\n",
      "------------------------------------------------\n",
      "The URL contains 7707 characters.\n",
      "Name: https://www.geo.unibas.ch/de/studiengaenge/studienfach-geographie/ma-geographie-minor-geographie/\n",
      "------------------------------------------------\n",
      "The URL contains 3628 characters.\n",
      "Name: https://philnat.unibas.ch#active-sub-nav\n",
      "------------------------------------------------\n",
      "The URL contains 8552 characters.\n",
      "Name: http://its.unibas.ch\n",
      "------------------------------------------------\n",
      "The URL contains 6181 characters.\n",
      "Name: https://bio.unibas.ch/de/studium/msc-animal-biology/\n",
      "------------------------------------------------\n",
      "The URL contains 17395 characters.\n",
      "Name: https://philnat.unibas.ch/fileadmin/user_upload/philnat/3_Forschung/Promotionsantrag_de.docx\n",
      "------------------------------------------------\n",
      "The URL contains 2472 characters.\n",
      "Name: https://philnat.unibas.ch/de/shared-elements/#\n",
      "------------------------------------------------\n",
      "The URL contains 10368 characters.\n",
      "Name: https://dmi.unibas.ch/de/studium/data-science/dokumente-links\n",
      "------------------------------------------------\n",
      "The URL contains 3214 characters.\n",
      "Name: https://philnat.unibas.ch/de/forschung/promotionphd/immatrikulation-ab-hs-2016-registered-fall-semester-2016-or-later/terminuebersichtscheduleoverview-1/\n",
      "------------------------------------------------\n",
      "The URL contains 2941 characters.\n",
      "Name: https://philnat.unibas.ch/de/forschung/habilitation/\n",
      "------------------------------------------------\n",
      "The URL contains 13 characters.\n",
      "Name: http://perssearch.unibas.ch\n",
      "------------------------------------------------\n",
      "The URL contains 4801 characters.\n",
      "Name: https://bio.unibas.ch/de/reglemente/bsf-msf-biologie/\n",
      "------------------------------------------------\n",
      "The URL contains 6297 characters.\n",
      "Name: https://bio.unibas.ch/de/studium/bsf-biologie/\n",
      "------------------------------------------------\n",
      "The URL contains 5256 characters.\n",
      "Name: https://bio.unibas.ch/de/studium/msc-infection-biology/\n",
      "------------------------------------------------\n",
      "The URL contains 22187 characters.\n",
      "Name: https://philnat.unibas.ch/fileadmin/user_upload/philnat/Form_Report_and_Co-report_EN.docx\n",
      "------------------------------------------------\n",
      "The URL contains 22449 characters.\n",
      "Name: https://philnat.unibas.ch/fileadmin/user_upload/philnat/3_Forschung/Formular_Referat_und_Korreferat.docx\n",
      "------------------------------------------------\n",
      "The URL contains 1935 characters.\n",
      "Name: https://philnat.unibas.ch/de/studium/abschluesse/\n",
      "------------------------------------------------\n",
      "The URL contains 13352 characters.\n",
      "Name: https://www.geo.unibas.ch/de/studiengaenge/msc-geowissenschaften/\n",
      "------------------------------------------------\n",
      "The URL contains 8661 characters.\n",
      "Name: https://philnat.unibas.ch/de/examen/\n",
      "------------------------------------------------\n",
      "The URL contains 1651 characters.\n",
      "Name: https://philnat.unibas.ch/de/faq/details/wann-kann-man-sich-fuer-examen-pruefung-zu-hauptvorlesung-anmelden/\n",
      "------------------------------------------------\n",
      "The URL contains 3614 characters.\n",
      "Name: https://philnat.unibas.ch/de/forschung/\n",
      "------------------------------------------------\n",
      "The URL contains 3531 characters.\n",
      "Name: https://nanoscience.ch/de/studium/masterstudium/\n",
      "------------------------------------------------\n",
      "The URL contains 3089 characters.\n",
      "Name: https://philnat.unibas.ch/de/fakultaet/kommissionen/\n",
      "------------------------------------------------\n",
      "The URL contains 2317 characters.\n",
      "Name: https://cbb.ethz.ch/\n",
      "------------------------------------------------\n",
      "The URL contains 3351 characters.\n",
      "Name: https://philnat.unibas.ch/de/impressum-181/\n",
      "------------------------------------------------\n",
      "The URL contains 9904 characters.\n",
      "Name: https://philnat.unibas.ch/de/fakultaet/geschichte/\n",
      "------------------------------------------------\n",
      "The URL contains 2914 characters.\n",
      "Name: https://philnat.unibas.ch/de/forschung/titularprofessuren/\n",
      "------------------------------------------------\n",
      "The URL contains 22741 characters.\n",
      "Name: https://philnat.unibas.ch/fileadmin/user_upload/philnat/3_Forschung/Form_Report_PhD_April_2024.docx\n",
      "------------------------------------------------\n",
      "The URL contains 5735 characters.\n",
      "Name: http://www.nccr-qsit.ethz.ch/\n",
      "------------------------------------------------\n",
      "The URL contains 3628 characters.\n",
      "Name: https://philnat.unibas.ch#desktop-search\n",
      "------------------------------------------------\n",
      "The URL contains 21347 characters.\n",
      "Name: https://www.biozentrum.unibas.ch/phd/international-phd-program/phd-program/\n",
      "------------------------------------------------\n",
      "The URL contains 3628 characters.\n",
      "Name: https://philnat.unibas.ch\n",
      "------------------------------------------------\n",
      "The URL contains 23573 characters.\n",
      "Name: https://philnat.unibas.ch/fileadmin/user_upload/philnat/3_Forschung/Formular_Gutachten_PhD_April_2024.docx\n",
      "------------------------------------------------\n",
      "The URL contains 2400 characters.\n",
      "Name: https://philnat.unibas.ch/de/fakultaet/\n",
      "------------------------------------------------\n",
      "The URL contains 2969 characters.\n",
      "Name: https://philnat.unibas.ch/de/fakultaet/dekanat/\n",
      "------------------------------------------------\n",
      "The URL contains 3283 characters.\n",
      "Name: https://actuarial.unibas.ch/studium/\n",
      "------------------------------------------------\n",
      "The URL contains 5833 characters.\n",
      "Name: https://chemie.unibas.ch/de/studium/master/\n",
      "------------------------------------------------\n",
      "The URL contains 6968 characters.\n",
      "Name: https://bio.unibas.ch/de/studium/msc-molecular-biology/\n",
      "------------------------------------------------\n",
      "The URL contains 1814 characters.\n",
      "Name: https://philnat.unibas.ch/de/faq/details/wie-muss-ich-mich-fuer-ein-examen-pruefung-zu-einer-hauptvorlesung-anmelden/\n",
      "------------------------------------------------\n",
      "The URL contains 4246 characters.\n",
      "Name: https://philnat.unibas.ch/de/forschung/postdoktorat-postdoc/\n",
      "------------------------------------------------\n",
      "The URL contains 3110 characters.\n",
      "Name: http://www.swissuniversities.ch\n",
      "------------------------------------------------\n",
      "The URL contains 273 characters.\n",
      "Name: https://philnat.smugmug.com/Bachelorfeier-2023\n",
      "------------------------------------------------\n",
      "The URL contains 4848 characters.\n",
      "Name: https://dmi.unibas.ch/de/studium/mathematik/master/\n",
      "------------------------------------------------\n",
      "The URL contains 5180 characters.\n",
      "Name: https://nanoscience.unibas.ch/de/forschung/phd-programm/\n",
      "------------------------------------------------\n",
      "The URL contains 2433 characters.\n",
      "Name: https://nanoscience.ch/de/studium/allgemeine-informationen/reglemente/\n",
      "------------------------------------------------\n",
      "The URL contains 94 characters.\n",
      "Name: https://services.unibas.ch\n",
      "------------------------------------------------\n",
      "The URL contains 4484 characters.\n",
      "Name: https://pharma.unibas.ch/de/education/msc-pharmazie/\n",
      "------------------------------------------------\n",
      "The URL contains 5397 characters.\n",
      "Name: https://bio.unibas.ch/de/studium/msc-epidemiology/\n",
      "------------------------------------------------\n",
      "The URL contains 4150 characters.\n",
      "Name: https://msd.unibas.ch/en/study-programs/msd-2017-current-program/\n",
      "------------------------------------------------\n",
      "The URL contains 8433 characters.\n",
      "Name: https://geo.unibas.ch/de/studiengaenge/studienfach-geographie/ba-geographie-minor-geographie/\n",
      "------------------------------------------------\n",
      "The URL contains 3472 characters.\n",
      "Name: https://dmi.unibas.ch/de/studium/data-science/\n",
      "------------------------------------------------\n",
      "The URL contains 6181 characters.\n",
      "Name: https://www.bio.unibas.ch/de/studium/msc-animal-biology/\n",
      "------------------------------------------------\n",
      "The URL contains 3959 characters.\n",
      "Name: https://ibmb.unibas.ch/en/education/phd-program/\n",
      "------------------------------------------------\n",
      "The URL contains 0 characters.\n",
      "Name: https://twitter.com/UniBasel\n",
      "------------------------------------------------\n",
      "The URL contains 2309 characters.\n",
      "Name: https://www.pna.unibas.ch/de/studiengaenge/msc-praehistorische-und-naturwissenschaftliche-archaeologie/\n",
      "------------------------------------------------\n",
      "The URL contains 7707 characters.\n",
      "Name: https://geo.unibas.ch/de/studiengaenge/studienfach-geographie/ma-geographie-minor-geographie/\n",
      "------------------------------------------------\n",
      "The URL contains 3175 characters.\n",
      "Name: https://dmi.unibas.ch/de/studium/computer-science-informatik/\n",
      "------------------------------------------------\n",
      "The URL contains 2391 characters.\n",
      "Name: https://philnat.unibas.ch/de/studium/studiendekanat/\n",
      "------------------------------------------------\n",
      "The URL contains 1513 characters.\n",
      "Name: https://philnat.unibas.ch/de/termine-aktuelles/news-events/\n",
      "------------------------------------------------\n",
      "The URL contains 1830 characters.\n",
      "Name: https://philnat.unibas.ch/de/faq/details/muss-ich-die-wiederholungsmoeglichkeit-von-einem-examen-wahrnehmen/\n",
      "------------------------------------------------\n",
      "The URL contains 5488 characters.\n",
      "Name: http://math.cuso.ch/home/\n",
      "------------------------------------------------\n",
      "The URL contains 4815 characters.\n",
      "Name: https://bio.unibas.ch/de/reglemente/msc-infection-biology/\n",
      "------------------------------------------------\n",
      "The URL contains 3565 characters.\n",
      "Name: https://philnat.unibas.ch/de/forschung/promotionphd/\n",
      "------------------------------------------------\n",
      "The URL contains 11171 characters.\n",
      "Name: https://physik.unibas.ch/en/study/master/\n",
      "------------------------------------------------\n",
      "The URL contains 3410 characters.\n",
      "Name: https://philnat.unibas.ch/de/forschung/promotionphd/immatrikulation-ab-hs-2016-registered-fall-semester-2016-or-later/terminuebersichtscheduleoverview/\n",
      "------------------------------------------------\n",
      "The URL contains 8433 characters.\n",
      "Name: https://www.geo.unibas.ch/de/studiengaenge/studienfach-geographie/ba-geographie-minor-geographie/\n",
      "------------------------------------------------\n",
      "The URL contains 6038 characters.\n",
      "Name: https://bio.unibas.ch/de/studium/msc-ecology/\n",
      "------------------------------------------------\n",
      "The URL contains 6160 characters.\n",
      "Name: http://www.cbb.ethz.ch/the-programme.html\n",
      "------------------------------------------------\n",
      "The URL contains 11237 characters.\n",
      "Name: https://philnat.unibas.ch/de/datenschutzerklaerung/\n",
      "------------------------------------------------\n",
      "The URL contains 1345 characters.\n",
      "Name: https://philnat.unibas.ch/de/fakultaet/professoren/\n",
      "------------------------------------------------\n",
      "The URL contains 3732 characters.\n",
      "Name: https://biomedizin.unibas.ch/en/education-careers/phd/\n",
      "------------------------------------------------\n",
      "The URL contains 3459 characters.\n",
      "Name: https://dmi.unibas.ch/de/studium/computer-science-informatik/doktoratsprogramm-data-analytics/\n",
      "------------------------------------------------\n",
      "The URL contains 5002 characters.\n",
      "Name: https://pna.unibas.ch/de/studium-pna/\n",
      "------------------------------------------------\n",
      "The URL contains 6675 characters.\n",
      "Name: https://www.plantsciences.uzh.ch/en/teaching.html\n",
      "------------------------------------------------\n",
      "The URL contains 7180 characters.\n",
      "Name: https://www.swisstph.ch/de/study-with-us/doctorate/infection-biology-ippib\n",
      "------------------------------------------------\n",
      "The URL contains 2560 characters.\n",
      "Name: https://tales.nmc.unibas.ch/\n",
      "------------------------------------------------\n",
      "The URL contains 3628 characters.\n",
      "Name: https://philnat.unibas.ch#subnav-active\n",
      "------------------------------------------------\n",
      "The URL contains 3214 characters.\n",
      "Name: https://philnat.unibas.ch/de/forschung/promotionphd/immatrikulation-ab-hs-2016-registered-fall-semester-2016-or-later/terminuebersichtscheduleoverview-1/#c4640\n",
      "------------------------------------------------\n",
      "The URL contains 3351 characters.\n",
      "Name: https://philnat.unibas.ch/de/termine-aktuelles/\n",
      "------------------------------------------------\n",
      "The URL contains 2680 characters.\n",
      "Name: https://personeninfo.unibas.ch/\n",
      "------------------------------------------------\n",
      "The URL contains 4502 characters.\n",
      "Name: https://philnat.unibas.ch/de/studium/bachelor/\n",
      "------------------------------------------------\n",
      "The URL contains 6968 characters.\n",
      "Name: https://www.bio.unibas.ch/de/studium/msc-molecular-biology/\n",
      "------------------------------------------------\n",
      "The URL contains 6038 characters.\n",
      "Name: https://www.bio.unibas.ch/de/studium/msc-ecology/\n",
      "------------------------------------------------\n",
      "The URL contains 9307 characters.\n",
      "Name: https://nanoscience.ch/de/\n",
      "------------------------------------------------\n",
      "The URL contains 2820 characters.\n",
      "Name: https://philnat.unibas.ch/de/faq/details/wie-kann-ich-mich-von-einem-examen-abmelden-1/\n",
      "------------------------------------------------\n",
      "The URL contains 6186 characters.\n",
      "Name: https://pharma.unibas.ch/de/education/msc-drug-sciences/\n",
      "------------------------------------------------\n",
      "The URL contains 94 characters.\n",
      "Name: https://services.unibas.ch/\n",
      "------------------------------------------------\n",
      "The URL contains 2040 characters.\n",
      "Name: https://philnat.unibas.ch/de/studium/ausserfakultaere-studienfaecher/\n",
      "------------------------------------------------\n",
      "The URL contains 2475 characters.\n",
      "Name: https://pharma.unibas.ch/de/education/phd/phd-program-for-pharmaceutical-sciences\n",
      "------------------------------------------------\n",
      "The URL contains 1986 characters.\n",
      "Name: https://philnat.unibas.ch/de/studium/qualitaet/\n",
      "------------------------------------------------\n",
      "The URL contains 3628 characters.\n",
      "Name: https://philnat.unibas.ch#top\n",
      "------------------------------------------------\n",
      "The URL contains 4019 characters.\n",
      "Name: https://bio.unibas.ch/de/reglemente/msc-epidemiology/\n",
      "------------------------------------------------\n",
      "The URL contains 2711 characters.\n",
      "Name: https://sprachenzentrum.unibas.ch/de/proofreading-editing/\n",
      "------------------------------------------------\n",
      "The URL contains 2312 characters.\n",
      "Name: https://www.youtube.com/channel/UCn2zEkVXe6RZPN8e9ii3vYQ\n",
      "------------------------------------------------\n",
      "The URL contains 4669 characters.\n",
      "Name: https://dmi.unibas.ch/de/studium/mathematik/\n",
      "------------------------------------------------\n",
      "The URL contains 3628 characters.\n",
      "Name: https://philnat.unibas.ch#mobile-search\n",
      "------------------------------------------------\n",
      "The URL contains 16182 characters.\n",
      "Name: https://philnat.unibas.ch/fileadmin/user_upload/philnat/3_Forschung/Promotionsantrag_en.docx\n",
      "------------------------------------------------\n",
      "The URL contains 3628 characters.\n",
      "Name: https://philnat.unibas.ch/de/\n",
      "------------------------------------------------\n",
      "The database contains 656939 characters.\n"
     ]
    },
    {
     "data": {
      "text/plain": [
       "656939"
      ]
     },
     "execution_count": 43,
     "metadata": {},
     "output_type": "execute_result"
    }
   ],
   "source": [
    "count_urls_size(selected_urls) "
   ]
  },
  {
   "cell_type": "markdown",
   "id": "4c190bb7-527d-4064-8b60-dbae04a476f5",
   "metadata": {},
   "source": [
    "### Evaluate the number of chunks \n",
    "\n",
    "The exact number of chunks can be found in MongoDB Compass after ingestion."
   ]
  },
  {
   "cell_type": "code",
   "execution_count": 44,
   "id": "098176e3-1740-4d16-9513-b3cb78174af8",
   "metadata": {},
   "outputs": [
    {
     "name": "stdout",
     "output_type": "stream",
     "text": [
      " Input size: 1437564 \n",
      " Expected RAG size: 1796955\n",
      " Number of chunks: 599\n"
     ]
    }
   ],
   "source": [
    "import math\n",
    "# chunk_size < N\n",
    "N = 656939  + 780625 \n",
    "\n",
    "chunk_size = 3000\n",
    "overlap_char = 600 \n",
    "# 10-20% is usually recommended\n",
    "overlap = overlap_char/chunk_size\n",
    " \n",
    "rag_input_char = N/(1-overlap)\n",
    "print(\" Input size:\", N, \"\\n Expected RAG size:\", round(rag_input_char))\n",
    "print(\" Number of chunks:\", math.ceil(rag_input_char/chunk_size))"
   ]
  },
  {
   "cell_type": "code",
   "execution_count": 45,
   "id": "98da46ef-3961-4065-a102-1bc7a9b2fe47",
   "metadata": {},
   "outputs": [
    {
     "name": "stdout",
     "output_type": "stream",
     "text": [
      "Extracted 119 sublinks and saved them to faculty_of_science_links.json\n",
      "Saved 114 PDF documents.\n"
     ]
    }
   ],
   "source": [
    "# Create a dictionary with URLs\n",
    "# PDF files have been already saved and will be processed later in get_config.py\n",
    "data = {\n",
    "        \"urls\": selected_urls,\n",
    "        \"pdfs\": selected_pdfs\n",
    "\n",
    "}\n",
    "\n",
    "# Save to JSON file\n",
    "save_to_json(data, f\"../{filename}_links.json\")\n",
    "\n",
    "print(f\"Extracted {len(selected_urls)} sublinks and saved them to {filename}_links.json\")\n",
    "print(f\"Saved {len(selected_pdfs)} PDF documents.\")\n"
   ]
  },
  {
   "cell_type": "markdown",
   "id": "66336164-f8d2-4de9-94f7-79e5f7e4ef33",
   "metadata": {},
   "source": [
    "---\n",
    "* Author: Anastasiia Popova\n",
    "* Email: anastasiia.popova@stud.unibas.ch\n",
    "\n",
    "[Perplexity AI](https://www.perplexity.ai/) assisted in code writing, editing, and more effective information searches. The generated output underwent critical evaluation. The author is solely responsible for the content.\n"
   ]
  }
 ],
 "metadata": {
  "kernelspec": {
   "display_name": "rag_v2",
   "language": "python",
   "name": "rag_v2"
  },
  "language_info": {
   "codemirror_mode": {
    "name": "ipython",
    "version": 3
   },
   "file_extension": ".py",
   "mimetype": "text/x-python",
   "name": "python",
   "nbconvert_exporter": "python",
   "pygments_lexer": "ipython3",
   "version": "3.9.6"
  }
 },
 "nbformat": 4,
 "nbformat_minor": 5
}
