{
 "cells": [
  {
   "cell_type": "code",
   "execution_count": 1,
   "id": "dfdfbcf2-47e2-4fdb-bd3c-1d139e9a5057",
   "metadata": {},
   "outputs": [],
   "source": [
    "import json\n",
    "import os\n",
    "import yaml\n",
    "import getpass"
   ]
  },
  {
   "cell_type": "code",
   "execution_count": 2,
   "id": "f02923df-3f7a-4130-b2ce-dc19ab2092c9",
   "metadata": {},
   "outputs": [],
   "source": [
    "# == True shows a connection sting\n",
    "check_system = False\n",
    "\n",
    "chunk_size_web = 5000\n",
    "chunk_overlap_web = 500\n",
    "\n",
    "chunk_size_pdf = 6000\n",
    "chunk_overlap_web = 600"
   ]
  },
  {
   "cell_type": "code",
   "execution_count": 3,
   "id": "b9c38658-a81f-42ed-9b42-ef9dc7a4d149",
   "metadata": {},
   "outputs": [
    {
     "name": "stdin",
     "output_type": "stream",
     "text": [
      "Enter connection string from MongoDB ········\n"
     ]
    },
    {
     "name": "stdout",
     "output_type": "stream",
     "text": [
      "Connection string entered correctly.\n"
     ]
    }
   ],
   "source": [
    "try:\n",
    "    connection_string = getpass.getpass(prompt='Enter connection string from MongoDB')\n",
    "except Exception as error:\n",
    "    print('ERROR', error)\n",
    "else:\n",
    "    if connection_string.startswith('mongodb+srv:') and connection_string.endswith('.mongodb.net/'):\n",
    "        print('Connection string entered correctly.')\n",
    "        if check_system==True:\n",
    "            print('Connection string entered:', connection_string)\n",
    "    else: \n",
    "        print('Wrong connection string!')\n"
   ]
  },
  {
   "cell_type": "code",
   "execution_count": 4,
   "id": "6a128cfb-2b80-4ec1-82c9-0aa05ca3ef22",
   "metadata": {},
   "outputs": [
    {
     "name": "stdout",
     "output_type": "stream",
     "text": [
      "JSON file imported successfully.\n"
     ]
    }
   ],
   "source": [
    "with open('../faculty_of_science_links.json', 'r') as file:\n",
    "    data_web = json.load(file)\n",
    "\n",
    "print(\"JSON file imported successfully.\")"
   ]
  },
  {
   "cell_type": "code",
   "execution_count": 5,
   "id": "d77e8842-102d-45f1-bdc5-612b056f6827",
   "metadata": {},
   "outputs": [],
   "source": [
    "# because config.yaml cannot take just links on pdfs\n",
    "def find_pdf_files(directory_from, directory_to ):\n",
    "    pdf_files = []\n",
    "    for root, dirs, files in os.walk(directory_from):\n",
    "        for file in files:\n",
    "            if file.endswith('.pdf'):\n",
    "                pdf_files.append(os.path.join(directory_to, file))\n",
    "    return pdf_files"
   ]
  },
  {
   "cell_type": "code",
   "execution_count": 6,
   "id": "0a370ed7-4de1-4c73-9926-83437ed36bc7",
   "metadata": {},
   "outputs": [],
   "source": [
    "# Replace with your directory path\n",
    "directory_path = '../../../../data'  \n",
    "pdf_files_list = find_pdf_files(directory_path, '../../data')\n",
    "\n",
    "#print(pdf_files_list)"
   ]
  },
  {
   "cell_type": "code",
   "execution_count": 25,
   "id": "558121da-3fd3-4f79-9335-23e13de0506c",
   "metadata": {
    "jupyter": {
     "source_hidden": true
    }
   },
   "outputs": [],
   "source": [
    "# the same as in get_json.ipynb in case you want to download files specified from .json\n",
    "# import requests\n",
    "# from bs4 import BeautifulSoup\n",
    "# from urllib.parse import urljoin, urlparse\n",
    "# import time\n",
    "# import os\n",
    "\n",
    "# def download_pdf(url, directory):\n",
    "#     bot_name = 'Unibasel_RAG_bot/1.0'\n",
    "\n",
    "#     headers = {'User-Agent': bot_name}   \n",
    "#     response = requests.get(url, headers=headers, stream=True)\n",
    "\n",
    "#     if response.status_code == 200:\n",
    "#         # Get the filename from the URL\n",
    "#         filename = os.path.basename(urlparse(url).path)\n",
    "        \n",
    "#         # Create the full path for saving the file\n",
    "#         filepath = os.path.join(directory, filename)\n",
    "        \n",
    "#         # Open the file in write-binary mode\n",
    "#         with open(filepath, 'wb') as file:\n",
    "#             # Write the content to the file\n",
    "#             file.write(response.content)\n",
    "\n",
    "#         time.sleep(0.5)\n",
    "#         print(f\"Downloaded: {filename}\")\n",
    "#         print(\"------------------------------------------------\")\n",
    "#         return True\n",
    "#     else:\n",
    "#         print(f\"Failed to download: {url}\")\n",
    "#         return False\n",
    "        \n",
    "# def download_pdfs(urls, directory):\n",
    "    \n",
    "#     # Create the directory if it doesn't exist\n",
    "#     # os.makedirs(directory, exist_ok=True)\n",
    "    \n",
    "#     for url in urls:\n",
    "#         if url.lower().endswith('.pdf'):\n",
    "#             download_pdf(url, directory)\n",
    "#         else:\n",
    "#             print(f\"Skipped: {url} (not a PDF)\")\n",
    "# download_pdfs(data_web['pdfs'], directory_path)"
   ]
  },
  {
   "cell_type": "code",
   "execution_count": 7,
   "id": "15de8763-c43d-470d-a32b-6db51649e5c5",
   "metadata": {},
   "outputs": [],
   "source": [
    "\n",
    "data = {\n",
    "    'ingest':  []\n",
    "}\n",
    "\n",
    "for rec in data_web['urls']:\n",
    "    case =  {\n",
    "        'source': 'web',\n",
    "        'source_path': rec,\n",
    "        'chunk_size': chunk_size_web,\n",
    "        'chunk_overlap': chunk_overlap_web\n",
    "    }\n",
    "\n",
    "    data['ingest'].append(case)\n",
    "\n",
    "for rec in pdf_files_list:\n",
    "    case =  {\n",
    "        'source': 'pdf',\n",
    "        'source_path': rec,\n",
    "        'chunk_size': chunk_size_pdf,\n",
    "        'chunk_overlap': chunk_overlap_web\n",
    "    }\n",
    "\n",
    "    data['ingest'].append(case)\n",
    "\n",
    "\n",
    "data_config = {\n",
    "    \"embedding\": {\n",
    "        \"class_name\": \"AdaEmbeddings\" # AdaEmbeddings is just a code name for openai embeddings;\n",
    "        # to change the model go to rag-workshop/src/embeddings/ada-embeddings.ts \n",
    "        # now it is 'text-embedding-ada-002', but also can be 'text-embedding-3-small' (cheaper)\n",
    "        # \"class_name\": \"Nomic-v1.5\"  # This line is commented out from the original config\n",
    "    },\n",
    "    \"vector_store\": {\n",
    "        \"connectionString\": connection_string,\n",
    "        \"dbName\": \"chatter\",\n",
    "        \"collectionName\": \"embedded_content\",\n",
    "        \"embeddingKey\": \"embedding\",\n",
    "        \"textKey\": \"text\",\n",
    "        \"numCandidates\": 150,\n",
    "        \"minScore\": 0.4, # min score of vector search: bigger score -> less retrieved docs \n",
    "        \"vectorSearchIndexName\": \"vector_index\"\n",
    "    },\n",
    "    \"llms\": {\n",
    "        \"class_name\": \"OpenAI\",  # \"Fireworks\" is commented out\n",
    "        \"model_name\": \"gpt-4o-mini\" , # \"'accounts/fireworks/models/mixtral-8x22b-instruct'\" is commented out\n",
    "        \"temperature\": \"\",\n",
    "        \"top_p\": \"\",\n",
    "        \"top_k\": \"\"\n",
    "    }\n",
    "}\n",
    "\n",
    "data.update(data_config)"
   ]
  },
  {
   "cell_type": "code",
   "execution_count": 8,
   "id": "2c2ce6c7-c91f-4f12-a878-1e39732d987e",
   "metadata": {},
   "outputs": [],
   "source": [
    "if check_system:\n",
    "    print(json.dumps(data, indent=1))"
   ]
  },
  {
   "cell_type": "code",
   "execution_count": 9,
   "id": "88b493d1-146f-46bc-9b0c-2e1a41c9b5e7",
   "metadata": {},
   "outputs": [
    {
     "name": "stdout",
     "output_type": "stream",
     "text": [
      "YAML file created successfully.\n"
     ]
    }
   ],
   "source": [
    "# Write the data to a YAML file\n",
    "with open('../config.yaml', 'w') as file:\n",
    "    yaml.dump(data, file, default_flow_style=False, sort_keys=False)\n",
    "\n",
    "print(\"YAML file created successfully.\")"
   ]
  },
  {
   "cell_type": "markdown",
   "id": "e3cbd67d-ba70-4af5-8cf8-73c81f408bc5",
   "metadata": {},
   "source": [
    "---\n",
    "* Author: Anastasiia Popova\n",
    "* Email: anastasiia.popova@stud.unibas.ch\n",
    "\n",
    "[Perplexity AI](https://www.perplexity.ai/) assisted in code writing, editing, and more effective information searches. The generated output underwent critical evaluation. The author is solely responsible for the content."
   ]
  }
 ],
 "metadata": {
  "kernelspec": {
   "display_name": "rag_v2",
   "language": "python",
   "name": "rag_v2"
  },
  "language_info": {
   "codemirror_mode": {
    "name": "ipython",
    "version": 3
   },
   "file_extension": ".py",
   "mimetype": "text/x-python",
   "name": "python",
   "nbconvert_exporter": "python",
   "pygments_lexer": "ipython3",
   "version": "3.9.6"
  }
 },
 "nbformat": 4,
 "nbformat_minor": 5
}
