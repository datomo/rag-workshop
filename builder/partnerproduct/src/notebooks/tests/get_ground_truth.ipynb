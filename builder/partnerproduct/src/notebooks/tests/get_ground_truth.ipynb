{
 "cells": [
  {
   "cell_type": "markdown",
   "id": "91aa5980-605e-45c9-bbb4-1d3182f7e91d",
   "metadata": {},
   "source": [
    "## Ground Truth dataset "
   ]
  },
  {
   "cell_type": "code",
   "execution_count": 2,
   "id": "2d64d8ed-8dcd-43db-930a-3211feef6294",
   "metadata": {},
   "outputs": [],
   "source": [
    "import requests\n",
    "from bs4 import BeautifulSoup\n",
    "from urllib.parse import urljoin, urlparse\n",
    "\n",
    "import time\n",
    "import os\n",
    "import json\n",
    "import re"
   ]
  },
  {
   "cell_type": "code",
   "execution_count": 3,
   "id": "19a9dcf7-88cd-4e54-af96-037a9077eb3f",
   "metadata": {},
   "outputs": [],
   "source": [
    "faqs_url = 'https://philnat.unibas.ch/de/faqs/'\n",
    "bot_name = 'Unibasel_RAG_bot/1.0'"
   ]
  },
  {
   "cell_type": "code",
   "execution_count": 4,
   "id": "d57f6af3-ec1a-4c83-9a0b-6be1b74a128d",
   "metadata": {},
   "outputs": [],
   "source": [
    "def count_characters_on_webpage(url):\n",
    " \n",
    "    headers = {'User-Agent': bot_name}\n",
    "    response = requests.get(url, headers=headers)\n",
    "    \n",
    "    if response.status_code == 200:\n",
    "        # Parse the HTML content\n",
    "        soup = BeautifulSoup(response.text, 'html.parser')\n",
    "        \n",
    "        # Extract all text from the webpage\n",
    "        text = soup.get_text()\n",
    "        \n",
    "        # Count the characters\n",
    "        character_count = len(text)\n",
    "        print(f\"The URL contains {character_count} characters.\")\n",
    "        \n",
    "        return character_count\n",
    "    else:\n",
    "        print(f\"Failed to fetch the webpage. Status code: {response.status_code}\")\n",
    "        return None"
   ]
  },
  {
   "cell_type": "code",
   "execution_count": 5,
   "id": "0d57df47-6c3a-4d23-8758-2eb11015010c",
   "metadata": {},
   "outputs": [
    {
     "name": "stdout",
     "output_type": "stream",
     "text": [
      "The URL contains 12786 characters.\n"
     ]
    },
    {
     "data": {
      "text/plain": [
       "12786"
      ]
     },
     "execution_count": 5,
     "metadata": {},
     "output_type": "execute_result"
    }
   ],
   "source": [
    "count_characters_on_webpage(faqs_url)"
   ]
  },
  {
   "cell_type": "code",
   "execution_count": 6,
   "id": "52e4eb7e-5549-4e98-a8ec-9494699f2d8b",
   "metadata": {},
   "outputs": [],
   "source": [
    "def extract_text_from_webpage(url):\n",
    " \n",
    "    headers = {'User-Agent': bot_name}\n",
    "    response = requests.get(url, headers=headers)\n",
    "    \n",
    "    if response.status_code == 200:\n",
    "        # Parse the HTML content\n",
    "        soup = BeautifulSoup(response.text, 'html.parser')\n",
    "        \n",
    "        # Extract all text from the webpage\n",
    "        text = soup.get_text()\n",
    "    \n",
    "        \n",
    "        return text\n",
    "    else:\n",
    "        print(f\"Failed to fetch the webpage. Status code: {response.status_code}\")\n",
    "        return None\n",
    "        "
   ]
  },
  {
   "cell_type": "code",
   "execution_count": 6,
   "id": "78db76f7-c15d-4537-8fb3-d7e305a6a36f",
   "metadata": {},
   "outputs": [],
   "source": [
    "text = extract_text_from_webpage(faqs_url)"
   ]
  },
  {
   "cell_type": "code",
   "execution_count": 7,
   "id": "32a51446-0312-414c-bc04-bffe28574e90",
   "metadata": {
    "scrolled": true
   },
   "outputs": [
    {
     "data": {
      "text/plain": [
       "'\\n\\n\\n\\n\\nFAQs | Philosophisch-Naturwissenschaftliche \\r\\nFakultät | Universität Basel\\n\\n\\n\\n\\n\\n\\n\\n\\n\\n\\n\\n\\n\\n \\n\\n\\n\\n\\n\\n\\n\\n\\n\\n\\n\\n\\nDiese Webseite benötigt JavaScript, um richtig zu funktionieren.\\nWie aktiviere ich JavaScript in diesem Browser?\\n\\n\\n\\n\\n\\n\\n\\nSuche\\n\\n\\n\\n\\n\\n\\n\\n\\nSuche\\n\\n\\nSuche\\n\\n\\n\\n\\n\\n\\n\\n\\n\\n\\n\\nPhilosophisch-Naturwissenschaftliche \\r\\nFakultät\\n\\n\\n\\n\\n\\n\\n\\n\\n\\nSuche\\n\\n\\n\\n\\nSuche\\n\\n\\nSuche\\n\\n\\n\\n\\n\\n\\n\\n\\n\\n\\n                                Fakultät\\n                            \\n\\n\\n\\n                                Studium\\n                            \\n\\n\\n\\n                                Forschung\\n                            \\n\\n\\n\\n                                Termine & Aktuelles\\n                            \\n\\n\\n\\n\\n\\n\\n\\n\\n\\n\\n\\n\\nDekanat\\n\\n\\nKommissionen\\n\\n\\nProfessoren\\n\\n\\nGeschichte\\n\\n\\n\\n\\nBachelorstudiengänge\\n\\n\\nMasterstudiengänge\\n\\n\\nausserfakultäre Studienfächer\\n\\n\\nExamen\\n\\n\\nAbschlüsse\\n\\n\\nStudiendekanat\\n\\n\\nBachelor-Feier\\n\\n\\nFAQs\\n\\n\\nQualität\\n\\n\\n\\n\\nPromotion / PhD\\n\\n\\nPostdoktorat / Postdoc\\n\\n\\nHabilitation\\n\\n\\nTenure-Verfahren\\n\\n\\nTitularprofessuren\\n\\n\\nQualität\\n\\n\\n\\n\\nNews & Events\\n\\n\\n\\n\\n\\n\\n\\n\\n\\nWebsite Root\\n\\n\\nStudium\\n\\n\\n                    \\n                            FAQs\\n                        \\n                \\n\\n\\n\\n\\n\\n\\n\\n\\n                            Studium allgemein\\n                        Was sind die rechtlichen Grundlagen meines Studiums?Alle generellen Fragen rund um das Studium an der Universität Basel werden in den folgenden Ordnungen geregelt:-\\xa0\\xa0\\xa0\\xa0 Studierendenordnung (gilt für alle Studierenden der Uni Basel): https://www.unibas.ch/de/Studium/Studierendenordnung.html-\\xa0\\xa0\\xa0\\xa0 Bachelorstudium: Ordnung der Philosophisch Naturwissenschaftlichen Fakultät der Universität Basel für das Bachelorstudium-\\xa0\\xa0 \\xa0 Masterstudium: Ordnung der Philosophisch-Naturwissenschaftlichen Fakultät der Universität Basel für das MasterstudiumDiese Ordnungen gelten für alle Studierenden, \\xa0die entweder an der Phil.-Nat. Fakultät immatrikuliert sind, oder eine Lehrveranstaltung besuchen, die von der Phil.-Nat. Fakultät angeboten wird): https://philnat.unibas.ch/de/studium/\\xa0\\n        ANTWORT EINBLENDEN\\n    \\n        FRAGE EINBLENDEN\\n    Was ist eine Datenabschrift?Eine Datenabschrift ist die offizielle Bescheinigung Ihrer an der Universität Basel absolvierten Studienleistungen mit dem Ausweis der erworbenen Kreditpunkte. Sie wird jeweils 2x im Jahr verschickt. Bitte beachten Sie, dass nur Leistungen aufgeführt sind, die im angegebenen Zeitraum bewertet wurden (siehe auch Begleitbrief). Die Datenabschriften sind sorgfältig aufzubewahren, da sie als Nachweise der an der Universität Basel erbrachten Leistungen dienen, aber auch für Bewerbungen an anderen Universitäten erforderlich sind. Falls Sie eine neue Datenabschrift benötigen, einen Gesamtauszug bestellen möchten oder sonstige Fragen bezüglich der Datenabschrift haben, wenden Sie sich bitte an das Studiensekretariat der Universität Basel (Petersplatz 1, Basel). Weitere Informationen finden Sie auch hier: https://www.unibas.ch/de/Studium/Im-Studium/Datenabschrift.html. \\n        ANTWORT EINBLENDEN\\n    \\n        FRAGE EINBLENDEN\\n    Wie reiche ich einen Antrag im Studiendekanat ein?Seit dem FS 21 können alle Anträge und die entsprechenden Belege elektronisch eingereicht werden. Bitte senden Sie Ihre elektronischen Unterlagen an studiendekanat-philnat@clutterunibas.ch.Antrag auf Anerkennung von Studienleistungen: Formloses Anschreiben, Leistungsnachweis / Belege in Kopie und kurze Inhaltsangaben.Härtefallantrag: Detaillierte Beschreibung Ihrer Situation, Begründung, Belege.Nachbelegung: Fordern Sie bitte beim Studiendekanat das entsprechende Formular an und senden es ausgefüllt und unterschrieben wieder zurück (Details siehe oben).Bitte beachten Sie allfällige Fristen.\\n        ANTWORT EINBLENDEN\\n    \\n        FRAGE EINBLENDEN\\n    Ich habe vergessen, eine Lehrveranstaltung zu belegen und die Belegfrist ist abgelaufen.Es ist obligatorisch, jede Lehrveranstaltung zu belegen. Wurde nicht belegt, können die KP für diese Veranstaltung nicht gutgeschrieben werden, auch wenn die Prüfung / Übung / Exkursion etc. bestanden wurde. Sie können per Email an studiendekanat-philnat@clutterunibas.ch einen Antrag auf nachträgliche Belegung stellen. Falls diesem Antrag vom Studiendekan stattgegeben wird, kostet die Nachbelegung in der Regel CHF 100.--.\\n        ANTWORT EINBLENDEN\\n    \\n        FRAGE EINBLENDEN\\n    Was ist der Unterschied zwischen einer Vorlesung und einer Hauptvorlesung?Eine Hauptvorlesung hat bei ungenügender Note nur eine Wiederholungsmöglichkeit, die innerhalb eines Jahres wahrgenommen werden muss. Die Prüfung zu einer Hauptvorlesung bezeichnen wir als Examen (§ 11 der Ordnung der Philosophisch-Naturwissenschaftlichen Fakultät der Universität Basel für das Bachelorstudium).Jede andere lehrveranstaltungsbegleitende Leistungsüberprüfung kann bei ungenügender Note bis zum Bestehen beliebig oft wiederholt werden (§ 12 der Ordnung für das Bachelorstudium).Bitte beachten Sie diese Unterscheidung unbedingt, da ein endgültiges Nichtbestehen eines obligatorischen Examens unter Umständen zum Ausschluss vom Studium führen kann. \\n        ANTWORT EINBLENDEN\\n    \\n        FRAGE EINBLENDEN\\n    Für eine Lehrveranstaltung habe ich zwar eine genügende Note erhalten, aber ich würde diese gern verbessern – ist das möglich?Nein, dies ist grundsätzlich nicht möglich. Gemäss § 8 der Ordnung der Philosophisch-Naturwissenschaftlichen Fakultät der Universität Basel für das Bachelorstudium, gilt:„Kreditpunkte werden durch studentische Leistungen mit genügender Bewertung erworben, wobei für gleiche und ähnliche Studienleistungen nur einmal Kreditpunkte vergeben werden.“Eine Lehrveranstaltung zu bestehen bedeutet also, dass die KP erworben wurden und eine Wiederholung nicht möglich ist.\\n        ANTWORT EINBLENDEN\\n    \\n        FRAGE EINBLENDEN\\n    \\n                            Prüfungen zu Hauptvorlesungen\\n                        Wie muss ich mich für ein Examen (Prüfung zu einer Hauptvorlesung) anmelden?Während der Anmeldefrist werden in den Services unter «Belegungen» entsprechende Anmeldeknöpfe eingeblendet. Bei Erstversuchen finden Sie diesen bei der aktuellsten Belegung, bei Wiederholversuchen finden Sie diesen bei der ursprünglichen Belegung, zu welcher der Erstversuch absolviert wurde. Alle wichtigen Informationen dazu finden Sie auf https://philnat.unibas.ch/de/examen\\n        ANTWORT EINBLENDEN\\n    \\n        FRAGE EINBLENDEN\\n    Muss ich die Wiederholungsmöglichkeit von einem Examen wahrnehmen?Wenn Sie nicht bestandene Studienleistungen gemäss Ihrem Studienplan kompensieren können, müssen Sie die Wiederholung nicht zwingend wahrnehmen. Falls Sie das betreffende Examen dennoch wiederholen möchten bzw. müssen, müssen Sie dies innerhalb eines Jahres tun. Wenn Sie diese Jahresfrist verstreichen lassen, gilt dies als Verzicht auf die Wiederholung. Dies wird mit einem \"nicht erschienen\" vermerkt.\\n        ANTWORT EINBLENDEN\\n    \\n        FRAGE EINBLENDEN\\n    Wie kann ich mich von einem Examen abmelden?Verwenden Sie hierfür das Abmeldeformular, welches Sie auf https://philnat.unibas.ch/de/examen/ finden. Dieses kann uns ausgefüllt und unterschrieben als Scan per Email (studiendekanat-philnat@unibas.ch) geschickt werden. Eine Abmeldung ohne Angabe von Gründen kann bis zu drei Wochen (= 21 Wochentage, dabei zählt Montag bis Sonntag) vor Examenstermin erfolgen (Post- bzw. Eingangsstempel falls die Abmeldung per Post geschickt wurde). Weniger als drei Wochen vor Examenstermin ist eine schriftliche Abmeldung gemäss § 20 Abs. 1 und 2 der Ordnung für das Bachelorstudium nur unter Geltendmachung triftiger Gründe, welche belegt werden müssen, möglich. Bitte fügen Sie Ihrem schriftlichen Antrag entsprechende Belege bei. Bei Verhinderung aus gesundheitlichen Gründen ist innerhalb von 5 Tagen nach der Prüfung zusätzlich zum Formular zur Abmeldung ein ärztliches Zeugnis beim Studiendekanat vorzulegen.WICHTIG: Bei unbegründetem Nichterscheinen gilt das Examen gemäss § 20 Abs. 3 der Ordnung für das Bachelorstudium als nicht bestanden und wird mit der Note 1,0 bewertet.Bitte beachten Sie zudem, dass grundsätzlich keine Bestätigungen für erfolgte Abmeldungen versandt werden. Bei Abmeldung von Erstversuchen können Sie auf den Online Services unter Belegungen den Status der betreffenden Lehrveranstaltung überprüfen. Bei regelkonformer Abmeldung erscheint dort \"Sie haben sich nicht für das Examen angemeldet\".\\xa0\\n        ANTWORT EINBLENDEN\\n    \\n        FRAGE EINBLENDEN\\n    \\n                            Prüfungen zu Lehrveranstaltungen\\n                        Wie melde ich mich zu Prüfungen von Lehrveranstaltungen an, die keine Hauptvorlesungen sind (Lehrveranstaltungen gemäss § 12 der oben genannten Ordnungen, z.B. Vorlesungen, Übungen, Exkursionen, Praktika usw.)?In der Regel ist man durch die Belegung einer Lehrveranstaltung gemäss § 12 der genannten Ordnungen auch zur Prüfung angemeldet. Ausnahmen bilden evtl. Praktika, Blockkurse sowie Lehrveranstaltungen, zu denen man sich zusätzlich auf anderen Wegen bzw. Portalen anmelden muss. Bitte beachten Sie immer die Angaben im Vorlesungsverzeichnis.\\n        ANTWORT EINBLENDEN\\n    \\n        FRAGE EINBLENDEN\\n    Wie kann ich mich von einer Prüfung zu Lehrveranstaltungen gemäss § 12 der Ordnung für das Bachelorstudium und § 12 der Ordnung für das Masterstudium (z.B. Vorlesungen, Übungen, Exkursionen, Praktika usw.) abmelden?Die Abmeldung ist direkt an die Dozierenden zu richten (siehe jeweilige Veranstaltung im Vorlesungsverzeichnis).\\n        ANTWORT EINBLENDEN\\n    \\n        FRAGE EINBLENDEN\\n    \\n                            Noten und Bewertungen\\n                        Ich bin mit einer Note nicht einverstanden – was kann ich tun?Bitte wenden Sie sich innerhalb von 30 Tagen nach der per Email verschickten Notenmitteilung als erstes an die jeweiligen Dozierenden und vereinbaren Sie eine Prüfungseinsicht.Falls Sie nach der Prüfungseinsicht immer noch nicht mit der Note einverstanden sind, wenden Sie sich an das Studiendekanat: studiendekanat-philnat@clutterunibas.chSiehe auch Merkblatt Prüfungseinsicht: https://philnat.unibas.ch/de/studium/ (unter Bachelorstudium).\\xa0\\n        ANTWORT EINBLENDEN\\n    \\n        FRAGE EINBLENDEN\\n    Ich kann gemäss meinem Studienplan Studienleistungen kompensieren. Wann werden mir diese Kreditpunkte gut geschrieben?Kompensationen werden erst am Ende des Studiums bei der Zeugniserstellung vorgenommen und sind nicht auf Online Services ersichtlich.\\xa0\\n        ANTWORT EINBLENDEN\\n    \\n        FRAGE EINBLENDEN\\n    \\n                            Studienabschluss\\n                        Ich möchte mein Bachelorstudium nach diesem Semester beenden, was muss ich tun und wann erhalte ich mein Bachelorzeugnis?Bitte füllen Sie die Absichtserklärung aus und reichen Sie sie möglichst innerhalb der dort angegebenen Fristen im Studiendekanat ein. Neben Ihren persönlichen Angaben ist besonders die Angabe des gewünschten Masterstudiengangs wichtig, den Sie anschliessend beginnen möchten.\\n        ANTWORT EINBLENDEN\\n    \\n        FRAGE EINBLENDEN\\n    Wie kann ich überzählige KP vom Bachelorstudium ins Masterstudium übernehmen?Sie können uns dies in der Absichtserklärung mitteilen. Bitte führen Sie unbedingt die Vorlesungsnummern der zu übernehmenden Lehrveranstaltung auf. Beachten Sie zudem, dass eine Übernahme nur möglich ist, bevor Ihr Zeugnis erstellt wurde.\\xa0\\n        ANTWORT EINBLENDEN\\n    \\n        FRAGE EINBLENDEN\\n    BachelorfeierJedes Jahr im Herbst findet die Bachelorfeier der Phil.-Nat. Fakultät statt. Alle Absolventinnen und Absolventen des jeweiligen Jahres (HS und FS) erhalten zu diesem festlichen Anlass eine Vorinformation sowie eine Einladung.\\n        ANTWORT EINBLENDEN\\n    \\n        FRAGE EINBLENDEN\\n    Wie kann ich mich für das Masterstudium zurückmelden?Aus administrativen Gründen können Sie dies nach dem abgeschlossenen Bachelorstudium nicht selbst tun. Bitte melden Sie sich zunächst per Online Services wie gewohnt in Ihr Bachelorstudium zurück. Sobald Ihr Bachelorzeugnis erstellt und geprüft wurde, meldet das Studiendekanat Ihren Abschluss an das Studiensekretariat. Daraufhin werden Sie in den gewünschten Masterstudiengang umgeschrieben. Bitte daher unbedingt auf der Absichtserklärung angeben, welchen Masterstudiengang Sie an der Universität Basel wählen.\\n        ANTWORT EINBLENDEN\\n    \\n        FRAGE EINBLENDEN\\n    Wann erhalte ich mein Masterzeugnis?Masterzeugnisse werden ausgestellt, sobald alle erforderlichen Studienleistungen erbracht und bewertet wurden (meist ist die Bewertung der Masterarbeit und/oder der Masterprüfung die letzte Note). Bitte beachten Sie, dass die Ausstellung und Prüfung der Abschlussunterlagen 2 - 3 Wochen in Anspruch nehmen kann.\\n        ANTWORT EINBLENDEN\\n    \\n        FRAGE EINBLENDEN\\n    \\n\\n\\n\\n\\n\\n\\nNach oben\\n\\n\\n\\n\\n\\n\\n\\n\\n\\n\\n\\n\\n\\n\\n\\n\\n\\n\\n\\n\\n© Universität Basel\\n\\n\\nDatenschutzerklärung\\n\\n\\nImpressum\\n\\n\\n\\n\\n\\n\\n\\n\\n\\n\\n\\n\\n\\n\\n\\n\\n'"
      ]
     },
     "execution_count": 7,
     "metadata": {},
     "output_type": "execute_result"
    }
   ],
   "source": [
    "text"
   ]
  },
  {
   "cell_type": "code",
   "execution_count": 7,
   "id": "70f38e5b-57a8-436b-b09c-2e51804057a4",
   "metadata": {},
   "outputs": [],
   "source": [
    "# module for regular expressions\n",
    "import re\n",
    "\n",
    "\n",
    "def extract_faqs(text):\n",
    "\n",
    "    pattern_1 = r'(Studium allgemein\\n.*?\\?)(.*?)(?=\\n\\s*ANTWORT EINBLENDEN)'\n",
    "    #  r'(.*?)\\?([^?]+)(?=ANTWORT EINBLENDEN|$)'\n",
    "    pattern_2 = r'(\\n.*?\\?)(.*?)(?=\\n\\s*ANTWORT EINBLENDEN)'\n",
    "    \n",
    "    # finds all matches\n",
    "    matches_1 = re.findall(pattern_1, text, re.DOTALL)\n",
    "    matches_2 = re.findall(pattern_2, text, re.DOTALL)\n",
    "\n",
    "    # except the first (pattern_1)\n",
    "    folders = [\"Prüfungen zu Hauptvorlesungen\", \"Prüfungen zu Lehrveranstaltungen\", \"Noten und Bewertungen\", \"Studienabschluss\"] \n",
    "\n",
    "    cleaned_faqs = [{'question': q.replace(\"Studium allgemein\", \"\").strip(), 'answer': a.replace(\"-\\xa0\\xa0\\xa0\\xa0\", \"\").strip()} for q, a in matches_1]\n",
    "\n",
    "    for q, a in matches_2:\n",
    "        q_exl = []\n",
    "        for f in folders:\n",
    "            \n",
    "            if q.replace(\"ANTWORT EINBLENDEN\\n    \\n        FRAGE EINBLENDEN\\n\", \"\").strip().startswith(f):\n",
    "                cleaned_faqs.append({'question': q.replace(\"ANTWORT EINBLENDEN\\n    \\n        FRAGE EINBLENDEN\\n\", \"\").strip().replace(f, \"\").strip(), 'answer': a.strip()})\n",
    "                q_exl.append(q)\n",
    "                \n",
    "        if  not q in q_exl:\n",
    "            cleaned_faqs.append({'question': q.replace(\"ANTWORT EINBLENDEN\\n    \\n        FRAGE EINBLENDEN\\n\", \"\").strip(), 'answer': a.strip()})\n",
    "\n",
    "    cleaned_faqs = [x for x in cleaned_faqs if not x['question'].startswith(\"FAQs\")]\n",
    "\n",
    "\n",
    "    return cleaned_faqs\n",
    "    "
   ]
  },
  {
   "cell_type": "code",
   "execution_count": 180,
   "id": "22ff80c8-9b79-4784-8df6-5f878cec6d45",
   "metadata": {},
   "outputs": [
    {
     "data": {
      "text/plain": [
       "16"
      ]
     },
     "execution_count": 180,
     "metadata": {},
     "output_type": "execute_result"
    }
   ],
   "source": [
    "cleaned_docs = extract_faqs(text)\n",
    "# 6 + 3 + 2 + 2 + 5\n",
    "len(cleaned_docs)"
   ]
  },
  {
   "cell_type": "code",
   "execution_count": 181,
   "id": "b57df4ad-c38f-4a4b-a207-5e2a1ed23434",
   "metadata": {},
   "outputs": [
    {
     "data": {
      "text/plain": [
       "18"
      ]
     },
     "execution_count": 181,
     "metadata": {},
     "output_type": "execute_result"
    }
   ],
   "source": [
    "# Actually, we have 6 + 3 + 2 + 2 + 5 = 18 \n",
    "# the problem is that they aren’t questions... So I decided to reformulate them into questions and add them manually\n",
    "# 'Bachelorfeier' ->  Wann und für wen findet die Bachelorfeier?\n",
    "# 'Ich habe vergessen, eine Lehrveranstaltung zu belegen und die Belegfrist ist abgelaufen.' -> Welche Konsequenzen könnte es haben, wenn man vergisst, eine Lehrveranstaltung zu belegen und die Belegfrist verstreichen lässt?\n",
    "add_docs = [{'question': 'Welche Konsequenzen könnte es haben, wenn man vergisst, eine Lehrveranstaltung zu belegen und die Belegfrist verstreichen lässt?', 'answer': 'Es ist obligatorisch, jede Lehrveranstaltung zu belegen. Wurde nicht belegt, können die KP für diese Veranstaltung nicht gutgeschrieben werden, auch wenn die Prüfung / Übung / Exkursion etc. bestanden wurde. Sie können per Email an studiendekanat-philnat@clutterunibas.ch einen Antrag auf nachträgliche Belegung stellen. Falls diesem Antrag vom Studiendekan stattgegeben wird, kostet die Nachbelegung in der Regel CHF 100.'},\n",
    "{'question': 'Wann und für wen findet die Bachelorfeier?', 'answer': 'Jedes Jahr im Herbst findet die Bachelorfeier der Phil.-Nat. Fakultät statt. Alle Absolventinnen und Absolventen des jeweiligen Jahres (HS und FS) erhalten zu diesem festlichen Anlass eine Vorinformation sowie eine Einladung.' }]\n",
    "\n",
    "\n",
    "cleaned_docs = cleaned_docs + add_docs \n",
    "len(cleaned_docs)"
   ]
  },
  {
   "cell_type": "code",
   "execution_count": 182,
   "id": "edb080ab-b596-47e4-851a-29d70272b659",
   "metadata": {},
   "outputs": [
    {
     "data": {
      "text/plain": [
       "[{'question': 'Was sind die rechtlichen Grundlagen meines Studiums?',\n",
       "  'answer': 'Alle generellen Fragen rund um das Studium an der Universität Basel werden in den folgenden Ordnungen geregelt: Studierendenordnung (gilt für alle Studierenden der Uni Basel): https://www.unibas.ch/de/Studium/Studierendenordnung.html Bachelorstudium: Ordnung der Philosophisch Naturwissenschaftlichen Fakultät der Universität Basel für das Bachelorstudium-\\xa0\\xa0 \\xa0 Masterstudium: Ordnung der Philosophisch-Naturwissenschaftlichen Fakultät der Universität Basel für das MasterstudiumDiese Ordnungen gelten für alle Studierenden, \\xa0die entweder an der Phil.-Nat. Fakultät immatrikuliert sind, oder eine Lehrveranstaltung besuchen, die von der Phil.-Nat. Fakultät angeboten wird): https://philnat.unibas.ch/de/studium/'},\n",
       " {'question': 'Was ist eine Datenabschrift?',\n",
       "  'answer': 'Eine Datenabschrift ist die offizielle Bescheinigung Ihrer an der Universität Basel absolvierten Studienleistungen mit dem Ausweis der erworbenen Kreditpunkte. Sie wird jeweils 2x im Jahr verschickt. Bitte beachten Sie, dass nur Leistungen aufgeführt sind, die im angegebenen Zeitraum bewertet wurden (siehe auch Begleitbrief). Die Datenabschriften sind sorgfältig aufzubewahren, da sie als Nachweise der an der Universität Basel erbrachten Leistungen dienen, aber auch für Bewerbungen an anderen Universitäten erforderlich sind. Falls Sie eine neue Datenabschrift benötigen, einen Gesamtauszug bestellen möchten oder sonstige Fragen bezüglich der Datenabschrift haben, wenden Sie sich bitte an das Studiensekretariat der Universität Basel (Petersplatz 1, Basel). Weitere Informationen finden Sie auch hier: https://www.unibas.ch/de/Studium/Im-Studium/Datenabschrift.html.'},\n",
       " {'question': 'Wie reiche ich einen Antrag im Studiendekanat ein?',\n",
       "  'answer': 'Seit dem FS 21 können alle Anträge und die entsprechenden Belege elektronisch eingereicht werden. Bitte senden Sie Ihre elektronischen Unterlagen an studiendekanat-philnat@clutterunibas.ch.Antrag auf Anerkennung von Studienleistungen: Formloses Anschreiben, Leistungsnachweis / Belege in Kopie und kurze Inhaltsangaben.Härtefallantrag: Detaillierte Beschreibung Ihrer Situation, Begründung, Belege.Nachbelegung: Fordern Sie bitte beim Studiendekanat das entsprechende Formular an und senden es ausgefüllt und unterschrieben wieder zurück (Details siehe oben).Bitte beachten Sie allfällige Fristen.'},\n",
       " {'question': 'Ich habe vergessen, eine Lehrveranstaltung zu belegen und die Belegfrist ist abgelaufen.Es ist obligatorisch, jede Lehrveranstaltung zu belegen. Wurde nicht belegt, können die KP für diese Veranstaltung nicht gutgeschrieben werden, auch wenn die Prüfung / Übung / Exkursion etc. bestanden wurde. Sie können per Email an studiendekanat-philnat@clutterunibas.ch einen Antrag auf nachträgliche Belegung stellen. Falls diesem Antrag vom Studiendekan stattgegeben wird, kostet die Nachbelegung in der Regel CHF 100.--.\\n            Was ist der Unterschied zwischen einer Vorlesung und einer Hauptvorlesung?',\n",
       "  'answer': 'Eine Hauptvorlesung hat bei ungenügender Note nur eine Wiederholungsmöglichkeit, die innerhalb eines Jahres wahrgenommen werden muss. Die Prüfung zu einer Hauptvorlesung bezeichnen wir als Examen (§ 11 der Ordnung der Philosophisch-Naturwissenschaftlichen Fakultät der Universität Basel für das Bachelorstudium).Jede andere lehrveranstaltungsbegleitende Leistungsüberprüfung kann bei ungenügender Note bis zum Bestehen beliebig oft wiederholt werden (§ 12 der Ordnung für das Bachelorstudium).Bitte beachten Sie diese Unterscheidung unbedingt, da ein endgültiges Nichtbestehen eines obligatorischen Examens unter Umständen zum Ausschluss vom Studium führen kann.'},\n",
       " {'question': 'Für eine Lehrveranstaltung habe ich zwar eine genügende Note erhalten, aber ich würde diese gern verbessern – ist das möglich?',\n",
       "  'answer': 'Nein, dies ist grundsätzlich nicht möglich. Gemäss § 8 der Ordnung der Philosophisch-Naturwissenschaftlichen Fakultät der Universität Basel für das Bachelorstudium, gilt:„Kreditpunkte werden durch studentische Leistungen mit genügender Bewertung erworben, wobei für gleiche und ähnliche Studienleistungen nur einmal Kreditpunkte vergeben werden.“Eine Lehrveranstaltung zu bestehen bedeutet also, dass die KP erworben wurden und eine Wiederholung nicht möglich ist.'},\n",
       " {'question': 'Wie muss ich mich für ein Examen (Prüfung zu einer Hauptvorlesung) anmelden?',\n",
       "  'answer': 'Während der Anmeldefrist werden in den Services unter «Belegungen» entsprechende Anmeldeknöpfe eingeblendet. Bei Erstversuchen finden Sie diesen bei der aktuellsten Belegung, bei Wiederholversuchen finden Sie diesen bei der ursprünglichen Belegung, zu welcher der Erstversuch absolviert wurde. Alle wichtigen Informationen dazu finden Sie auf https://philnat.unibas.ch/de/examen'},\n",
       " {'question': 'Muss ich die Wiederholungsmöglichkeit von einem Examen wahrnehmen?',\n",
       "  'answer': 'Wenn Sie nicht bestandene Studienleistungen gemäss Ihrem Studienplan kompensieren können, müssen Sie die Wiederholung nicht zwingend wahrnehmen. Falls Sie das betreffende Examen dennoch wiederholen möchten bzw. müssen, müssen Sie dies innerhalb eines Jahres tun. Wenn Sie diese Jahresfrist verstreichen lassen, gilt dies als Verzicht auf die Wiederholung. Dies wird mit einem \"nicht erschienen\" vermerkt.'},\n",
       " {'question': 'Wie kann ich mich von einem Examen abmelden?',\n",
       "  'answer': 'Verwenden Sie hierfür das Abmeldeformular, welches Sie auf https://philnat.unibas.ch/de/examen/ finden. Dieses kann uns ausgefüllt und unterschrieben als Scan per Email (studiendekanat-philnat@unibas.ch) geschickt werden. Eine Abmeldung ohne Angabe von Gründen kann bis zu drei Wochen (= 21 Wochentage, dabei zählt Montag bis Sonntag) vor Examenstermin erfolgen (Post- bzw. Eingangsstempel falls die Abmeldung per Post geschickt wurde). Weniger als drei Wochen vor Examenstermin ist eine schriftliche Abmeldung gemäss § 20 Abs. 1 und 2 der Ordnung für das Bachelorstudium nur unter Geltendmachung triftiger Gründe, welche belegt werden müssen, möglich. Bitte fügen Sie Ihrem schriftlichen Antrag entsprechende Belege bei. Bei Verhinderung aus gesundheitlichen Gründen ist innerhalb von 5 Tagen nach der Prüfung zusätzlich zum Formular zur Abmeldung ein ärztliches Zeugnis beim Studiendekanat vorzulegen.WICHTIG: Bei unbegründetem Nichterscheinen gilt das Examen gemäss § 20 Abs. 3 der Ordnung für das Bachelorstudium als nicht bestanden und wird mit der Note 1,0 bewertet.Bitte beachten Sie zudem, dass grundsätzlich keine Bestätigungen für erfolgte Abmeldungen versandt werden. Bei Abmeldung von Erstversuchen können Sie auf den Online Services unter Belegungen den Status der betreffenden Lehrveranstaltung überprüfen. Bei regelkonformer Abmeldung erscheint dort \"Sie haben sich nicht für das Examen angemeldet\".'},\n",
       " {'question': 'Wie melde ich mich zu Prüfungen von Lehrveranstaltungen an, die keine Hauptvorlesungen sind (Lehrveranstaltungen gemäss § 12 der oben genannten Ordnungen, z.B. Vorlesungen, Übungen, Exkursionen, Praktika usw.)?',\n",
       "  'answer': 'In der Regel ist man durch die Belegung einer Lehrveranstaltung gemäss § 12 der genannten Ordnungen auch zur Prüfung angemeldet. Ausnahmen bilden evtl. Praktika, Blockkurse sowie Lehrveranstaltungen, zu denen man sich zusätzlich auf anderen Wegen bzw. Portalen anmelden muss. Bitte beachten Sie immer die Angaben im Vorlesungsverzeichnis.'},\n",
       " {'question': 'Wie kann ich mich von einer Prüfung zu Lehrveranstaltungen gemäss § 12 der Ordnung für das Bachelorstudium und § 12 der Ordnung für das Masterstudium (z.B. Vorlesungen, Übungen, Exkursionen, Praktika usw.) abmelden?',\n",
       "  'answer': 'Die Abmeldung ist direkt an die Dozierenden zu richten (siehe jeweilige Veranstaltung im Vorlesungsverzeichnis).'},\n",
       " {'question': 'Ich bin mit einer Note nicht einverstanden – was kann ich tun?',\n",
       "  'answer': 'Bitte wenden Sie sich innerhalb von 30 Tagen nach der per Email verschickten Notenmitteilung als erstes an die jeweiligen Dozierenden und vereinbaren Sie eine Prüfungseinsicht.Falls Sie nach der Prüfungseinsicht immer noch nicht mit der Note einverstanden sind, wenden Sie sich an das Studiendekanat: studiendekanat-philnat@clutterunibas.chSiehe auch Merkblatt Prüfungseinsicht: https://philnat.unibas.ch/de/studium/ (unter Bachelorstudium).'},\n",
       " {'question': 'Ich kann gemäss meinem Studienplan Studienleistungen kompensieren. Wann werden mir diese Kreditpunkte gut geschrieben?',\n",
       "  'answer': 'Kompensationen werden erst am Ende des Studiums bei der Zeugniserstellung vorgenommen und sind nicht auf Online Services ersichtlich.'},\n",
       " {'question': 'Ich möchte mein Bachelorstudium nach diesem Semester beenden, was muss ich tun und wann erhalte ich mein Bachelorzeugnis?',\n",
       "  'answer': 'Bitte füllen Sie die Absichtserklärung aus und reichen Sie sie möglichst innerhalb der dort angegebenen Fristen im Studiendekanat ein. Neben Ihren persönlichen Angaben ist besonders die Angabe des gewünschten Masterstudiengangs wichtig, den Sie anschliessend beginnen möchten.'},\n",
       " {'question': 'Wie kann ich überzählige KP vom Bachelorstudium ins Masterstudium übernehmen?',\n",
       "  'answer': 'Sie können uns dies in der Absichtserklärung mitteilen. Bitte führen Sie unbedingt die Vorlesungsnummern der zu übernehmenden Lehrveranstaltung auf. Beachten Sie zudem, dass eine Übernahme nur möglich ist, bevor Ihr Zeugnis erstellt wurde.'},\n",
       " {'question': 'BachelorfeierJedes Jahr im Herbst findet die Bachelorfeier der Phil.-Nat. Fakultät statt. Alle Absolventinnen und Absolventen des jeweiligen Jahres (HS und FS) erhalten zu diesem festlichen Anlass eine Vorinformation sowie eine Einladung.\\n            Wie kann ich mich für das Masterstudium zurückmelden?',\n",
       "  'answer': 'Aus administrativen Gründen können Sie dies nach dem abgeschlossenen Bachelorstudium nicht selbst tun. Bitte melden Sie sich zunächst per Online Services wie gewohnt in Ihr Bachelorstudium zurück. Sobald Ihr Bachelorzeugnis erstellt und geprüft wurde, meldet das Studiendekanat Ihren Abschluss an das Studiensekretariat. Daraufhin werden Sie in den gewünschten Masterstudiengang umgeschrieben. Bitte daher unbedingt auf der Absichtserklärung angeben, welchen Masterstudiengang Sie an der Universität Basel wählen.'},\n",
       " {'question': 'Wann erhalte ich mein Masterzeugnis?',\n",
       "  'answer': 'Masterzeugnisse werden ausgestellt, sobald alle erforderlichen Studienleistungen erbracht und bewertet wurden (meist ist die Bewertung der Masterarbeit und/oder der Masterprüfung die letzte Note). Bitte beachten Sie, dass die Ausstellung und Prüfung der Abschlussunterlagen 2 - 3 Wochen in Anspruch nehmen kann.'},\n",
       " {'question': 'Welche Konsequenzen könnte es haben, wenn man vergisst, eine Lehrveranstaltung zu belegen und die Belegfrist verstreichen lässt?',\n",
       "  'answer': 'Es ist obligatorisch, jede Lehrveranstaltung zu belegen. Wurde nicht belegt, können die KP für diese Veranstaltung nicht gutgeschrieben werden, auch wenn die Prüfung / Übung / Exkursion etc. bestanden wurde. Sie können per Email an studiendekanat-philnat@clutterunibas.ch einen Antrag auf nachträgliche Belegung stellen. Falls diesem Antrag vom Studiendekan stattgegeben wird, kostet die Nachbelegung in der Regel CHF 100.'},\n",
       " {'question': 'Wann und für wen findet die Bachelorfeier?',\n",
       "  'answer': 'Jedes Jahr im Herbst findet die Bachelorfeier der Phil.-Nat. Fakultät statt. Alle Absolventinnen und Absolventen des jeweiligen Jahres (HS und FS) erhalten zu diesem festlichen Anlass eine Vorinformation sowie eine Einladung.'}]"
      ]
     },
     "execution_count": 182,
     "metadata": {},
     "output_type": "execute_result"
    }
   ],
   "source": [
    "cleaned_docs"
   ]
  },
  {
   "cell_type": "code",
   "execution_count": 326,
   "id": "9a3adffa-eca3-4da1-8c09-f799e6f4a660",
   "metadata": {},
   "outputs": [],
   "source": [
    "# filename = 'FAQs.json'\n",
    "# with open(filename, 'w') as f:\n",
    "#     json.dump(cleaned_docs, f, indent=4)"
   ]
  },
  {
   "cell_type": "code",
   "execution_count": 19,
   "id": "349a16ce-737b-45ee-b442-f017112d57ac",
   "metadata": {},
   "outputs": [
    {
     "data": {
      "text/plain": [
       "[('Was kann ich an der Universität Basel alles studieren?',\n",
       "  'Die Website zum Studienangebot gibt Ihnen einen Überblick, was Sie an der Universität Basel auf Bachelor- und Masterstufe studieren können. '),\n",
       " ('Wie viele Fächer kann ich gleichzeitig studieren?',\n",
       "  'Das hängt von der gewählten Fakultät (und Ihren Zeitressourcen) ab: In Theologie, Rechtswissenschaft, Medizin, Psychologie, Wirtschaftswissenschaften und in der Regel in den Naturwissenschaften gibt es jeweils einen geschlossenen Studiengang mit Teilfächern und Schwerpunkten sowie einen zusätzlichen Wahlbereich. In den Geistes- und Sozialwissenschaften werden in der Regel zwei Bachelor- und Masterstudienfächer miteinander kombiniert; hinzu kommt ein Wahlbereich, in dem frei belegt werden kann. Die genauen Bestimmungen zur Fächerkombination finden Sie unter www.unibas.ch/anmeldung Die gleichzeitige Einschreibung in mehreren Studiengängen ist in der Regel nicht möglich. Über Ausnahmen entscheidet das Rektorat.  Ich schwanke zwischen verschiedenen Möglichkeiten und kann mich nicht entscheiden. In der Infothek der Studienberatung Basel können Sie ohne Voranmeldung jeden Nachmittag individuelle Fragen stellen. Im persönlichen Gespräch mit einem Studienberater oder einer Studienberaterin kann nach einer Terminvereinbarung die individuelle Entscheidungssituation geklärt werden. '),\n",
       " ('Wie viel kostet ein Studium?',\n",
       "  'An der Universität Basel werden pro Semester zurzeit CHF 850.– an Studiengebühren erhoben; dazu kommen CHF 10.– für die studentische Körperschaft. Hinzu kommen Auslagen für Bücher und natürlich die persönlichen Lebenshaltungskosten. Die monatlichen Kosten für das Leben ausserhalb des Elternhauses betragen im Minimum CHF 1500.– und durchschnittlich rund CHF 2100.–. '),\n",
       " ('Kann ich Stipendien oder andere Finanzierungshilfen beanspruchen?',\n",
       "  'Für die Gewährung von Stipendien und Darlehen ist grundsätzlich der Kanton zuständig, in dem die Eltern ihren steuerrechtlichen Wohnsitz haben. Eine Liste der Stipendienstellen finden Sie unter www.ausbildungsbeitraege.ch. Mit Stipendienfragen und für die Rückerstattung von Semestergebühren können Sie sich an die Sozialberatung wenden: Tel. +41 61 267 30 38/20 E-Mail: sozialberatung@unibas.ch  Ich weiss nicht, ob ich zu einem Studium an der Universität Basel zugelassen werde. Die Zulassung zu den Studiengängen auf allen drei Stufen (Bachelor, Master und Doktorat) erfolgt gemäss den Bestimmungen, wie sie in der Studierendenordnung, den Zulassungsrichtlinien sowie den einzelnen Studienordnungen festgelegt sind. Für das Studium auf allen drei Stufen ist eine fristgerechte Anmeldung erforderlich. Fragen zur Anmeldung und Zulassung können Sie über ein Supportformular an das Studiensekretariat richten. '),\n",
       " ('Wie muss ich mich für mein Studium anmelden und was sind dann die weiteren Schritte?',\n",
       "  'Die Aufnahme eines Studiums erfolgt in drei Schritten: Anmeldung: Für das Studium auf Bachelor-, Master- und Doktoratsstufen ist eine fristgerechte Anmeldung erforderlich. Nach erfolgter Anmeldung erhalten Sie eine Eingangsbestätigung per E-Mail sowie einen Einzahlungsschein für die Anmeldegebühr per Post. Zulassung: Sind die Voraussetzungen für eine Zulassung erfüllt, die Anmeldegebühr bezahlt und liegen alle erforderlichen Unterlagen vor, wird ein Zulassungsentscheid mit Informationen zur Immatrikulation sowie ein Einzahlungsschein für die Semestergebühr verschickt. Immatrikulation: Ist die Semestergebühr bezahlt, kann die Immatrikulation erfolgen. Die Immatrikulation – das heisst die eigentliche Aufnahme als Studentin oder Student beziehungsweise als Doktorandin oder Doktorand an der Universität – schliesst den Anmelde- und Zulassungsprozess ab. Mit der Immatrikulation erhalten Sie dann den Studierendenausweis sowie zwei Studienbescheinigungen. '),\n",
       " ('Kann ich meine Anmeldung für eine Studienrichtung noch ändern?',\n",
       "  'Haben Sie sich, nachdem Sie Ihre Anmeldung bereits eingereicht haben, für ein anderes Studium an der Universität Basel entschieden, so können Sie noch bis zum Vorlesungsbeginn einen entsprechenden Antrag einreichen. Das entsprechende Formular erhalten Sie im Studiensekretariat. Es wird in diesem Fall noch einmal die Anmeldegebühr von CHF 100.– erhoben. Nicht möglich ist ein solcher nachträglicher Antrag bei Studiengängen mit Zulassungsbeschränkung wie Bachelorstudien Medizin (Human- und Zahnmedizin) sowie «Sport, Bewegung und Gesundheit». '),\n",
       " ('Ich weiss nicht, wie ich meinen Stundenplan an der Universität Basel zusammenstellen soll. Wer hilft mir dabei?',\n",
       "  'Fragen zum Studienaufbau, zur Studiengestaltung sowie zu Vertiefungs- und Kombinationsvarianten beantworten gerne die Studienfachberatungen der einzelnen Fachbereiche. '),\n",
       " ('Ich habe gemerkt, dass mich eine andere Studienrichtung mehr interessiert. Wie kann ich wechseln?',\n",
       "  'Anträge für den Wechsel eines Studienfachs oder -gangs sind während der Rückmeldefrist auf einem speziellen Formular beim Studiensekretariat zu beantragen. Weitere Informationen finden Sie auf der Seite Antrag auf Wechsel des Studiengangs. Bei Fächern mit Zulassungsbeschränkung (Medizin; Zahnmedizin; Sport, Bewegung und Gesundheit; Pflegewissenschaft) gelten besondere Bestimmungen. '),\n",
       " ('Ich möchte für ein oder zwei Semester an einer anderen Universität studieren. Wie geht das?',\n",
       "  'Verschiedene Programme ermöglichen es, einen Studienaufenthalt an einer schweizerischen oder ausländischen Universität ohne grossen administrativen Aufwand zu absolvieren. Nähere Informationen finden Sie auf den Seiten zur Mobilität. Der definitive Wechsel an eine andere Universität erfordert die fristgerechte Anmeldung an der aufnehmenden Hochschule. '),\n",
       " ('Ich stehe vor dem Studienabschluss oder habe ihn schon geschafft. Wer kann mich beim Berufseinstieg unterstützen?',\n",
       "  'Das Career Service Center bietet eine individuelle Laufbahnberatung, einen Check-up der Bewerbungsunterlagen sowie Workshops an, die sie bei der Laufbahnplanung, der Stellensuche und beim Berufseinstieg unterstützen. Kontakt: Birgit Helga Müller, Leiterin Career Service Center Petersplatz 1, Büro 022 4051 Basel Tel. +41 61 267 08 67 E-Mail: csc@unibas.ch ')]"
      ]
     },
     "execution_count": 19,
     "metadata": {},
     "output_type": "execute_result"
    }
   ],
   "source": [
    "faqs_url_2 = 'https://www.unibas.ch/de/Studium/FAQ-Studium.html'\n",
    "text_2 = extract_text_from_webpage(faqs_url_2)\n",
    "import re\n",
    "\n",
    "def extract_qa(text):\n",
    "    # Pattern to match questions and answers\n",
    "    pattern = r'(\\n\\n[^\\n]+\\?\\n\\n\\n\\n)([^?]+?)(?=\\n\\n[^\\n]+\\?\\n\\n|\\Z)'\n",
    "    \n",
    "    # Find all matches\n",
    "    matches = re.findall(pattern, text, re.DOTALL)\n",
    "    \n",
    "    # Process matches to clean up the text\n",
    "    qa_pairs = []\n",
    "    for match in matches:\n",
    "        question = match[0].strip()\n",
    "        answer = match[1].strip()\n",
    "        \n",
    "        # Remove any extra newlines and spaces\n",
    "        question = re.sub(r'\\s+', ' ', question)\n",
    "        answer = re.sub(r'\\s+', ' ', answer)\n",
    "        \n",
    "        qa_pairs.append((question, answer.replace('Antwort einblenden Frage einblenden', '')))\n",
    "    \n",
    "    return qa_pairs\n",
    "\n",
    "extract_qa(text_2)"
   ]
  },
  {
   "cell_type": "code",
   "execution_count": 17,
   "id": "5606fd8a-f8a8-43c3-a6ae-a765c2f3d4bb",
   "metadata": {},
   "outputs": [
    {
     "data": {
      "text/plain": [
       "10"
      ]
     },
     "execution_count": 17,
     "metadata": {},
     "output_type": "execute_result"
    }
   ],
   "source": [
    "# must be 12 \n",
    "# again, because 2 of them are not questions :/ \n",
    "len(extract_qa(text_2))"
   ]
  },
  {
   "cell_type": "markdown",
   "id": "8cbca6c2-adbc-4874-8dba-bef4fe3a86d4",
   "metadata": {},
   "source": [
    "*I didn't add the last one to the test dataset. These questions will not help test the system we want to build; it is more helpful to have this as a source.*"
   ]
  },
  {
   "cell_type": "markdown",
   "id": "45648e00-a55d-4190-9d4b-b604229539f2",
   "metadata": {},
   "source": [
    "## Update FAQs using .docx file"
   ]
  },
  {
   "cell_type": "code",
   "execution_count": 3,
   "id": "3af9cb7f-1444-42c7-bce1-019b00635e8e",
   "metadata": {},
   "outputs": [
    {
     "name": "stdout",
     "output_type": "stream",
     "text": [
      "JSON file imported successfully.\n"
     ]
    }
   ],
   "source": [
    "filename = 'FAQs.json'\n",
    "\n",
    "with open(filename, 'r') as file:\n",
    "    faqs_data = json.load(file)\n",
    "\n",
    "print(\"JSON file imported successfully.\")"
   ]
  },
  {
   "cell_type": "code",
   "execution_count": 4,
   "id": "e0cff981-b954-4480-8f2e-72e1740ce00c",
   "metadata": {},
   "outputs": [],
   "source": [
    "import docx"
   ]
  },
  {
   "cell_type": "code",
   "execution_count": 5,
   "id": "95d678fd-60ea-4b35-bcf6-2f29325f4588",
   "metadata": {},
   "outputs": [],
   "source": [
    "doc_file = \"faqs_new.docx\"\n",
    "\n",
    "def extract_qa(file_path):\n",
    "    doc = docx.Document(file_path)\n",
    "    qa_pairs = []\n",
    "    current_question = None\n",
    "    current_answer = None\n",
    "\n",
    "    for paragraph in doc.paragraphs:\n",
    "        text = paragraph.text.strip()\n",
    "        if text.startswith(\"Frage:\"):\n",
    "            if current_question and current_answer:\n",
    "                qa_pairs.append((current_question, current_answer))\n",
    "            current_question = text[6:].strip()\n",
    "            current_answer = None\n",
    "        elif text.startswith(\"Antwort:\"):\n",
    "            current_answer = text[8:].strip()\n",
    "    \n",
    "    if current_question and current_answer:\n",
    "        qa_pairs.append((current_question, current_answer))\n",
    "    \n",
    "    return qa_pairs\n",
    "\n",
    "        \n",
    "    \n",
    "qa_pairs = extract_qa(doc_file)"
   ]
  },
  {
   "cell_type": "code",
   "execution_count": 6,
   "id": "d01537c7-0d45-4b33-ae6c-41f345168f13",
   "metadata": {},
   "outputs": [
    {
     "data": {
      "text/plain": [
       "'Wie melde ich mich zu den Examen an?'"
      ]
     },
     "execution_count": 6,
     "metadata": {},
     "output_type": "execute_result"
    }
   ],
   "source": [
    "qa_pairs[0][0]"
   ]
  },
  {
   "cell_type": "code",
   "execution_count": 7,
   "id": "cb0c8c52-f097-4300-a17a-312945ceafb0",
   "metadata": {},
   "outputs": [
    {
     "data": {
      "text/plain": [
       "16"
      ]
     },
     "execution_count": 7,
     "metadata": {},
     "output_type": "execute_result"
    }
   ],
   "source": [
    "len(qa_pairs)"
   ]
  },
  {
   "cell_type": "code",
   "execution_count": 8,
   "id": "6e4e61b4-3072-4287-aea6-ff7f4e023347",
   "metadata": {},
   "outputs": [
    {
     "data": {
      "text/plain": [
       "[{'question': 'Wie melde ich mich zu den Examen an?',\n",
       "  'answer': 'Die Anmeldung zu Examen von Hauptvorlesungen der Phil.-Nat. Fakultät erfolgt online in den Services. Eine Anleitung dazu finden Sie auf https://philnat.unibas.ch/de/examen unter \"Informationen & Downloads\". Die Anmeldung kann nur während der Anmeldefrist durchgeführt werden, welche auch auf unserer Examenswebseite bekanntgegeben wird unter \"Fristen\". Ausserhalb der Anmeldefrist ist keine Wiederholung möglich.'},\n",
       " {'question': 'Muss ich die Hauptvorlesung erneut belegen, um mich zum Wiederholversuch anzumelden?',\n",
       "  'answer': 'Nein, die Anmeldung zum Wiederholversuch erfolgt online in den Services auf der Belegung, auf welcher der Erstversuch nicht bestanden wurde. Eine erneute Belegung ist nur notwendig, um einen ADAM Zugang zu den Vorlesungsmaterialien zu erhalten.'},\n",
       " {'question': 'Ich möchte das Examen noch nicht machen, kann ich es hinausschieben? Wenn ja wie lange?',\n",
       "  'answer': 'Es gibt keine Frist, innerhalb welcher der Erstversuch wahrgenommen werden muss. Jedoch empfehlen wir die Examen nicht zu weit hinauszuschieben, da dies zur Verlängerung der Studienzeit führt. Sollte der Erstversuch so lange hinausgeschoben werden, bis die Hauptvorlesung erneut angeboten wird, muss diese erneut belegt werden, um sich zum Examen anmelden zu können.'},\n",
       " {'question': 'Ich kann die ungenügende Note zur Hauptvorlesung X im Modul Y kompensieren, jedoch stehen immer noch 0 KP in der Leistungsübersicht und auf meinem Leistungskonto. Stimmt etwas nicht?',\n",
       "  'answer': 'Die Kreditpunkte zu nichtbestandenen Hauptvorlesungen, welche jedoch durch Kompensation erworben werden können, werden ausschliesslich im Abschlusszeugnis ausgewiesen. Auf der Leistungsübersicht, dem Leistungskonto und in den Datenabschriften, werden dafür weiterhin 0 KP ausgewiesen.'},\n",
       " {'question': 'Wie melde ich mich von Examen (Prüfungen zu Hauptvorlesungen) ab?',\n",
       "  'answer': 'Eine Abmeldung von Examen ist nur schriftlich möglich. Sie kann ohne Angabe von Gründen bis zu drei Wochen vor Examenstermin erfolgen.'},\n",
       " {'question': 'Wie kann ich eine Prüfungseinsicht beantragen?',\n",
       "  'answer': 'Bitte wenden Sie sich für Prüfungseinsichten grundsätzlich an die jeweils zuständigen Dozierenden. Dabei ist entscheidend, dass Sie sich innerhalb von 30 Tagen nach erfolgter Bewertung dort melden, die Einsicht selbst kann auch später stattfinden. Das Studiendekanat bietet keine Prüfungseinsichten an.'},\n",
       " {'question': 'Wann bekomme ich meine Abschlussunterlagen (Bachelor):',\n",
       "  'answer': 'Abschluss nach dem Frühjahrsemester zum 31.07.: Die Abschlussunterlagen Bachelor werden nur auf ausdrücklichen Wunsch den Absolvent*innen per A+ Post zugeschickt (z.B. bei Wechsel an eine andere Universität). In der Regel werden sie bei der Bachelorfeier im Oktober übergeben.'},\n",
       " {'question': 'Wer wird zur Bachelorfeier eingeladen?',\n",
       "  'answer': 'Alle Absolvent*innen eines Jahres (Abschluss im HS und im darauffolgenden FS) erhalten die Einladung zu unserer jährlichen Bachelorfeier im Oktober. Sollten die Originaldokumente bereits ausgegeben worden sein, enthält die Dokumentenmappe bei der Bachelorfeier die Kopie der Bachelorurkunde.'},\n",
       " {'question': 'Wann bekomme ich meine Abschlussunterlagen (Master):',\n",
       "  'answer': 'Masterabschlüsse werden direkt nach Eingang der letzten Bewertung (Datum des Abschlusses) auch während des Semesters erstellt. Sie werden in der Regel möglichst innerhalb von 3 Wochen per A+ Post versandt. Masterfeiern werden individuell von einzelnen Departementen organisiert, evtl. werden die Original-Abschlussunterlagen bei dieser Gelegenheit vergeben.'},\n",
       " {'question': 'Wann sehe ich die Kreditpunkte in meiner Leistungsübersicht, die ich gemäss Absichtserklärung in das Masterstudium übertragen lassen habe?',\n",
       "  'answer': 'Bei allen Fragen zu Ihren individuellen Auflagen wenden Sie sich bitte direkt an das Studiendekanat.'},\n",
       " {'question': 'Wie beanstande ich ein Prüfungsergebnis?',\n",
       "  'answer': 'Sollten Sie Fragen oder Unklarheiten bzgl. Ihres Prüfungsergebnisses haben, sollten Sie unbedingt das Angebot zur Prüfungseinsicht wahrnehmen. Dazu müssen Sie sich innerhalb von 30 Tagen nach der Bewertung bei der zuständigen Fachperson für die Prüfungseinsicht melden, dann gilt die Frist als gewahrt, auch wenn die Prüfungseinsicht später stattfinden sollte.'},\n",
       " {'question': 'Kann ich KP, die ich an einer anderen Universität erworben habe, für mein Doktoratstudium verwenden?',\n",
       "  'answer': 'Für Leistungen, die während des Doktoratsstudiums an einer anderen Universität erbracht werden, ist eine Bestätigung über die erfolgreiche Absolvierung im Dekanat einzureichen inkl. Unterschrift vom Erstbetreuer*in'},\n",
       " {'question': 'Was sind die Termine für die Einreichung der Dokumente für den Promotionsantrag?',\n",
       "  'answer': 'Link von unserer Webseite: https://philnat.unibas.ch/de/forschung/promotionphd/immatrikulation-ab-hs-2016-registered-fall-semester-2016-or-later/terminuebersichtscheduleoverview/'},\n",
       " {'question': 'Schickt das Dekanat die Formulare für die Gutachten an mein Komitee?',\n",
       "  'answer': 'Der Doktorand*in informiert das Komitee über die Formulare sowie die Einreichungsfrist'},\n",
       " {'question': 'Können die Gutachten nach Ablauf der Frist eingereicht werden?',\n",
       "  'answer': 'Die publizierten Fristen sind einzuhalten. Andernfalls wird der Promotionsantrag auf die nächste Fakultätssitzung verschoben. Fristen siehe Webseite:'},\n",
       " {'question': 'Kann ich mich nach dem Doktoratsexamen exmatrikulieren?',\n",
       "  'answer': 'Die Exmatrikulation soll nach bestandenem Doktoratsexamen erfolgen.'}]"
      ]
     },
     "execution_count": 8,
     "metadata": {},
     "output_type": "execute_result"
    }
   ],
   "source": [
    "def create_dict(qa_pairs):\n",
    "    data_full = []\n",
    "    \n",
    "    for idx in range(len(qa_pairs)):\n",
    "        data = {}\n",
    "        data[\"question\"] = qa_pairs[idx][0]\n",
    "        data[\"answer\"] = qa_pairs[idx][1]\n",
    "        data_full.append(data)\n",
    "\n",
    "    return data_full\n",
    "\n",
    "qa_pairs_dict = create_dict(qa_pairs)\n",
    "\n",
    "qa_pairs_dict"
   ]
  },
  {
   "cell_type": "code",
   "execution_count": 9,
   "id": "88f8472f-9423-4d01-acc0-6e1639a0ad76",
   "metadata": {},
   "outputs": [
    {
     "data": {
      "text/plain": [
       "34"
      ]
     },
     "execution_count": 9,
     "metadata": {},
     "output_type": "execute_result"
    }
   ],
   "source": [
    "faqs_data_new = faqs_data + qa_pairs_dict\n",
    "len(faqs_data_new)"
   ]
  },
  {
   "cell_type": "code",
   "execution_count": 10,
   "id": "efc590b8-0f3d-4381-98c9-03c11a416299",
   "metadata": {},
   "outputs": [],
   "source": [
    "# filename = 'FAQs_updated.json'\n",
    "# with open(filename, 'w') as f:\n",
    "#     json.dump(faqs_data_new, f, indent=4)"
   ]
  },
  {
   "cell_type": "markdown",
   "id": "9b0013e2-0700-44a0-8451-f817a3118aab",
   "metadata": {},
   "source": [
    "## Separate answers and links\n",
    "\n",
    "It is necessary to separate links and text to compute more precise scores. \n"
   ]
  },
  {
   "cell_type": "code",
   "execution_count": 13,
   "id": "aa2887b7-ed4d-4bd5-b9a4-e1ce2dcbf015",
   "metadata": {},
   "outputs": [
    {
     "name": "stdout",
     "output_type": "stream",
     "text": [
      "Original text:  Alle generellen Fragen rund um das Studium an der Universität Basel werden in den folgenden Ordnungen geregelt: Studierendenordnung (gilt für alle Studierenden der Uni Basel): https://www.unibas.ch/de/Studium/Studierendenordnung.html Bachelorstudium: Ordnung der Philosophisch Naturwissenschaftlichen Fakultät der Universität Basel für das Bachelorstudium-     Masterstudium: Ordnung der Philosophisch-Naturwissenschaftlichen Fakultät der Universität Basel für das MasterstudiumDiese Ordnungen gelten für alle Studierenden,  die entweder an der Phil.-Nat. Fakultät immatrikuliert sind, oder eine Lehrveranstaltung besuchen, die von der Phil.-Nat. Fakultät angeboten wird): https://philnat.unibas.ch/de/studium/\n",
      "--------------------------------------------------\n",
      "Links:  ['https://www.unibas.ch/de/Studium/Studierendenordnung.html', 'https://philnat.unibas.ch/de/studium/']\n",
      "Cleaned text:  Alle generellen Fragen rund um das Studium an der Universität Basel werden in den folgenden Ordnungen geregelt: Studierendenordnung (gilt für alle Studierenden der Uni Basel):   Bachelorstudium: Ordnung der Philosophisch Naturwissenschaftlichen Fakultät der Universität Basel für das Bachelorstudium-     Masterstudium: Ordnung der Philosophisch-Naturwissenschaftlichen Fakultät der Universität Basel für das MasterstudiumDiese Ordnungen gelten für alle Studierenden,  die entweder an der Phil.-Nat. Fakultät immatrikuliert sind, oder eine Lehrveranstaltung besuchen, die von der Phil.-Nat. Fakultät angeboten wird):  \n"
     ]
    }
   ],
   "source": [
    "def extract_replace_urls(text):\n",
    "    # Regular expression for URLs\n",
    "    url_pattern = r'http[s]?://[^\\s]+'  # Matches http or https URLs\n",
    "\n",
    "    links = re.findall(url_pattern, text)\n",
    "    \n",
    "    replaced_text = re.sub(url_pattern, ' ', text)\n",
    "    return links, replaced_text\n",
    "\n",
    "text = faqs_data_new[0]['answer']\n",
    "\n",
    "links, cleaned_text = extract_replace_urls(text) \n",
    "\n",
    "print(\"Original text: \", text)\n",
    "\n",
    "print(\"--------------------------------------------------\")\n",
    "\n",
    "print(\"Links: \", links)\n",
    "\n",
    "print(\"Cleaned text: \", cleaned_text)"
   ]
  },
  {
   "cell_type": "code",
   "execution_count": 15,
   "id": "6594c71a-7a3b-4f77-a66e-2802b80f6ab0",
   "metadata": {},
   "outputs": [],
   "source": [
    "faqs_data_cleaned = []\n",
    "\n",
    "for i in range(len(faqs_data_new)):\n",
    "    text = faqs_data_new[i]['answer']\n",
    "    links, cleaned_text = extract_replace_urls(text) \n",
    "\n",
    "    record = {\n",
    "        \"question\": faqs_data_new[i]['question'],\n",
    "        \"answer\": cleaned_text,\n",
    "        \"links\": links\n",
    "    }\n",
    "\n",
    "    faqs_data_cleaned.append(record)\n",
    "    "
   ]
  },
  {
   "cell_type": "code",
   "execution_count": 16,
   "id": "969ce8ad-e56d-4cac-86e5-6887032e33a6",
   "metadata": {},
   "outputs": [],
   "source": [
    "filename = 'FAQs_cleaned.json'\n",
    "with open(filename, 'w') as f:\n",
    "    json.dump(faqs_data_cleaned, f, indent=4)"
   ]
  },
  {
   "cell_type": "markdown",
   "id": "c127385d-2d33-4f69-9625-12359da3aa93",
   "metadata": {},
   "source": [
    "---\n",
    "* Author: Anastasiia Popova\n",
    "* Email: anastasiia.popova@stud.unibas.ch\n",
    "\n",
    "[Perplexity AI](https://www.perplexity.ai/) assisted in code writing, editing, and more effective information searches. The generated output underwent critical evaluation. The author is solely responsible for the content.\n"
   ]
  },
  {
   "cell_type": "code",
   "execution_count": null,
   "id": "ce629169-1654-46f6-ba68-e9ab16e313fb",
   "metadata": {},
   "outputs": [],
   "source": []
  }
 ],
 "metadata": {
  "kernelspec": {
   "display_name": "hackathon_rags",
   "language": "python",
   "name": "hackathon_rags"
  },
  "language_info": {
   "codemirror_mode": {
    "name": "ipython",
    "version": 3
   },
   "file_extension": ".py",
   "mimetype": "text/x-python",
   "name": "python",
   "nbconvert_exporter": "python",
   "pygments_lexer": "ipython3",
   "version": "3.12.5"
  }
 },
 "nbformat": 4,
 "nbformat_minor": 5
}
