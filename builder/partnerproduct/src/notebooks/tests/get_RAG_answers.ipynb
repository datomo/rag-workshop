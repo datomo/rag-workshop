{
 "cells": [
  {
   "cell_type": "markdown",
   "id": "6f9a6b42-67e1-4f30-9c79-51e35a426bc6",
   "metadata": {},
   "source": [
    "## Import original FAQs"
   ]
  },
  {
   "cell_type": "code",
   "execution_count": 1,
   "id": "589b076c-cc1b-4673-9ad4-22d5f5157bbb",
   "metadata": {},
   "outputs": [],
   "source": [
    "import os\n",
    "import json\n",
    "import re\n",
    "import getpass\n",
    "import random\n",
    "from pydantic import BaseModel\n",
    "from typing import List, Optional"
   ]
  },
  {
   "cell_type": "code",
   "execution_count": 2,
   "id": "9a3adffa-eca3-4da1-8c09-f799e6f4a660",
   "metadata": {},
   "outputs": [
    {
     "name": "stdout",
     "output_type": "stream",
     "text": [
      "JSON file imported successfully.\n"
     ]
    }
   ],
   "source": [
    "filename = 'FAQs_cleaned.json'\n",
    "\n",
    "with open(filename, 'r') as file:\n",
    "    faqs_data = json.load(file)\n",
    "\n",
    "print(\"JSON file imported successfully.\")"
   ]
  },
  {
   "cell_type": "code",
   "execution_count": 3,
   "id": "a3c0778f-3108-4953-adc7-87820e72a866",
   "metadata": {},
   "outputs": [
    {
     "data": {
      "text/plain": [
       "34"
      ]
     },
     "execution_count": 3,
     "metadata": {},
     "output_type": "execute_result"
    }
   ],
   "source": [
    "len(faqs_data)"
   ]
  },
  {
   "cell_type": "markdown",
   "id": "5ae9e8e8-afe9-41f2-af12-2444ce3e984b",
   "metadata": {},
   "source": [
    "## Use real FAQs\n",
    "\n",
    "We already extracted text in format \"question\", \"answer\", \"links\". Here we will also add \"rag_answer\", \"rag_links\".\n",
    "\n",
    "\n",
    "\n",
    "## Main functionality \n",
    "\n",
    "```python\n",
    "def rag(query):\n",
    "    search_results = search(query)  \n",
    "    prompt = build_prompt(query, search_results)\n",
    "    answer = llm(prompt)\n",
    "    return answer\n",
    "\n",
    "```\n",
    "    "
   ]
  },
  {
   "cell_type": "markdown",
   "id": "cec7accf-4dd7-48a8-924d-af64eb90e07d",
   "metadata": {},
   "source": [
    "### Connect OpenAI"
   ]
  },
  {
   "cell_type": "code",
   "execution_count": 4,
   "id": "14bffc17-2f96-4455-9eb2-52276e22ce60",
   "metadata": {},
   "outputs": [
    {
     "name": "stdin",
     "output_type": "stream",
     "text": [
      "Enter your OpenAI API Key:\n",
      "\n",
      " ········\n"
     ]
    }
   ],
   "source": [
    "openai_api_key = getpass.getpass(\"Enter your OpenAI API Key:\\n\\n\")\n"
   ]
  },
  {
   "cell_type": "code",
   "execution_count": 5,
   "id": "7c700fbf-36ec-4be5-9d22-951af1a1d78c",
   "metadata": {},
   "outputs": [],
   "source": [
    "# Checks connection to OpenAI \n",
    "import openai\n",
    "from openai import OpenAI\n",
    "client = OpenAI(api_key = openai_api_key)\n",
    "try:\n",
    "  #Make your OpenAI API request here\n",
    "  response = client.chat.completions.create(\n",
    "    messages=[{\"role\": \"user\", \"content\": \"Hello world\"}],\n",
    "    model=\"gpt-4o-mini\"\n",
    "  )\n",
    "except openai.APIError as e:\n",
    "  #Handle API error here, e.g. retry or log\n",
    "  print(f\"OpenAI API returned an API Error: {e}\")\n",
    "  pass\n",
    "except openai.APIConnectionError as e:\n",
    "  #Handle connection error here\n",
    "  print(f\"Failed to connect to OpenAI API: {e}\")\n",
    "  pass\n",
    "except openai.RateLimitError as e:\n",
    "  #Handle rate limit error (we recommend using exponential backoff)\n",
    "  print(f\"OpenAI API request exceeded rate limit: {e}\")\n",
    "  pass"
   ]
  },
  {
   "cell_type": "code",
   "execution_count": 6,
   "id": "912ddca8-1884-43c0-8413-cf8075e228b6",
   "metadata": {},
   "outputs": [],
   "source": [
    "# query = 'hi'\n",
    "# generate_answer(query)"
   ]
  },
  {
   "cell_type": "code",
   "execution_count": 6,
   "id": "6a4bd941-1bb5-42a3-9407-5e6850136147",
   "metadata": {},
   "outputs": [],
   "source": [
    "def get_embedding(text):\n",
    "    \"\"\"Generate an embedding for the given text using OpenAI's API.\"\"\"\n",
    "\n",
    "    # Check for valid input\n",
    "    if not text or not isinstance(text, str):\n",
    "        return None\n",
    "\n",
    "    try:\n",
    "        # Call OpenAI API to get the embedding\n",
    "        openai.api_key = openai_api_key\n",
    "        \n",
    "        embedding = openai.embeddings.create(\n",
    "            input=text,\n",
    "            model=\"text-embedding-ada-002\").data[0].embedding\n",
    "        return embedding\n",
    "    except Exception as e:\n",
    "        print(f\"Error in get_embedding: {e}\")\n",
    "        return None\n",
    "\n",
    "#q = 'Was sind die rechtlichen Grundlagen meines Studiums?'\n",
    "#get_embedding(q)"
   ]
  },
  {
   "cell_type": "markdown",
   "id": "6bc34fe1-0378-4c17-b028-5076afb4ed88",
   "metadata": {},
   "source": [
    "### Vector Search"
   ]
  },
  {
   "cell_type": "code",
   "execution_count": 7,
   "id": "e0ba0c2e-e402-4986-81e7-c8ef772b1878",
   "metadata": {},
   "outputs": [],
   "source": [
    "from pymongo.mongo_client import MongoClient\n",
    "from pymongo.operations import SearchIndexModel"
   ]
  },
  {
   "cell_type": "code",
   "execution_count": 8,
   "id": "d330a571-9b49-4a05-bb4e-46487741f578",
   "metadata": {},
   "outputs": [
    {
     "name": "stdin",
     "output_type": "stream",
     "text": [
      "Enter your MongoDB connection string:\n",
      "\n",
      " ········\n"
     ]
    }
   ],
   "source": [
    "mongo_uri = getpass.getpass(\"Enter your MongoDB connection string:\\n\\n\")"
   ]
  },
  {
   "cell_type": "code",
   "execution_count": 9,
   "id": "29216ea1-9f11-4182-a949-8c6c2f32e325",
   "metadata": {},
   "outputs": [
    {
     "name": "stdout",
     "output_type": "stream",
     "text": [
      "Connection to MongoDB successful\n"
     ]
    }
   ],
   "source": [
    "def get_mongo_client(mongo_uri):\n",
    "    \"\"\"Establish connection to the MongoDB.\"\"\"\n",
    "\n",
    "    # gateway to interacting with a MongoDB database cluster\n",
    "    client = MongoClient(mongo_uri)\n",
    "    print(\"Connection to MongoDB successful\")\n",
    "    return client\n",
    "\n",
    "mongo_client = get_mongo_client(mongo_uri)\n",
    "\n",
    "# Pymongo client of database and collection\n",
    "db = mongo_client.get_database('chatter')\n",
    "collection = db.get_collection('embedded_content')"
   ]
  },
  {
   "cell_type": "code",
   "execution_count": 99,
   "id": "6130fa9c-1827-42e5-b44a-e2a292c0c84b",
   "metadata": {
    "scrolled": true
   },
   "outputs": [],
   "source": [
    "#collection.find_one()"
   ]
  },
  {
   "cell_type": "code",
   "execution_count": 103,
   "id": "faa84de3-16cd-40c6-970d-95e87de277e5",
   "metadata": {},
   "outputs": [],
   "source": [
    "text_embedding_field_name = \"embedding\"\n",
    "\n",
    "def vector_search(user_query, db, collection):\n",
    "    \"\"\"\n",
    "    Perform a vector search in the MongoDB collection based on the user query.\n",
    "    \"\"\"\n",
    "    query_embedding = get_embedding(user_query)\n",
    "\n",
    "    if query_embedding is None:\n",
    "        return \"Invalid query or embedding generation failed.\"\n",
    "\n",
    "    vector_search_stage = {\n",
    "        \"$vectorSearch\": {\n",
    "            \"index\": 'vector_index',\n",
    "            \"queryVector\": list(query_embedding),\n",
    "            \"path\": text_embedding_field_name,\n",
    "            \"numCandidates\": 150,\n",
    "            \"limit\": 5,\n",
    "            \"minScore\": 0.4,\n",
    "            \"similarity\": \"cosine\"\n",
    "        }\n",
    "    }\n",
    "\n",
    "    project_stage = {\n",
    "        \"$project\": {\n",
    "            \"text\": 1,\n",
    "            \"metadata\": 1,\n",
    "            \"url\": 1,\n",
    "            \"score\": {\"$meta\": \"vectorSearchScore\"}\n",
    "        }\n",
    "    }\n",
    "\n",
    "    pipeline = [vector_search_stage, project_stage]\n",
    "\n",
    "    results = collection.aggregate(pipeline)\n",
    "\n",
    "    processed_results = []\n",
    "    for doc in results:\n",
    "        if 'text' not in doc or 'metadata' not in doc or 'url' not in doc:\n",
    "            logging.warning(f\"Document missing fields: {doc}\")\n",
    "        \n",
    "        processed_results.append({\n",
    "            \"source\": doc['metadata'].get('source', doc.get('url', 'N/A')),\n",
    "            \"text\": doc.get('text', 'N/A'),\n",
    "            \"score\": doc.get('score', 0)\n",
    "        })\n",
    "\n",
    "    return processed_results"
   ]
  },
  {
   "cell_type": "code",
   "execution_count": 97,
   "id": "6364ebb2-faf5-403a-92c4-86253e0809f0",
   "metadata": {},
   "outputs": [],
   "source": [
    "# q = 'Was sind die rechtlichen Grundlagen meines Studiums?'\n",
    "# search_res = vector_search(q, db, collection)\n",
    "\n"
   ]
  },
  {
   "cell_type": "code",
   "execution_count": 100,
   "id": "20d2bf3c-15b5-4696-910e-f227a57294a3",
   "metadata": {},
   "outputs": [],
   "source": [
    "# context = ''\n",
    "\n",
    "# for i in range(len(search_res)):\n",
    "#     context += search_res[i]['text'] \n",
    "#     context += ' \\n '"
   ]
  },
  {
   "cell_type": "markdown",
   "id": "9eabd6f6-02be-401d-b62d-01404461123b",
   "metadata": {},
   "source": [
    "### Build a RAG system "
   ]
  },
  {
   "cell_type": "code",
   "execution_count": 104,
   "id": "0861abaf-8c94-4e9c-ab6e-9c6fe52a9c3f",
   "metadata": {},
   "outputs": [],
   "source": [
    "prompt_real_faqs = \"\"\"\n",
    "You are a friendly human-like chatbot. Use relevant provided context and chat history to answer the query at the end. \n",
    "Answer in full. If you don't know the answer, say that you don't know, don't try to make up an answer. \n",
    "Do not use words like context or training data when responding. You can say you do not have all the information\n",
    "but do not indicate that you are not a reliable source.\n",
    "\n",
    "Using the following information, answer the user query.\n",
    "\n",
    "query: {question}\n",
    "context: {text}\n",
    "   \n",
    "\"\"\".strip()\n",
    "\n",
    "\n",
    "def build_prompt(prompt_template , query, context):\n",
    "    \n",
    "    prompt = prompt_template.format(question = query, text = context).strip()\n",
    "    \n",
    "    return prompt"
   ]
  },
  {
   "cell_type": "code",
   "execution_count": 105,
   "id": "b9cd36f8-69e5-4275-b895-42e7455152bb",
   "metadata": {},
   "outputs": [],
   "source": [
    "def generate_answer(prompt):\n",
    "    response = client.chat.completions.create(\n",
    "        model='gpt-4o-mini',\n",
    "        messages=[{\"role\": \"user\", \"content\": prompt}],\n",
    "        temperature=0\n",
    "    )\n",
    "\n",
    "    response_content = response.choices[0].message.content\n",
    "    return response_content\n"
   ]
  },
  {
   "cell_type": "code",
   "execution_count": null,
   "id": "2f054395-a5a0-46fd-9a32-9b24e93f85af",
   "metadata": {},
   "outputs": [],
   "source": [
    "# doc = faqs_data[0]\n",
    "\n",
    "# prompt = build_prompt(prompt_real_faqs ,  doc['question'], doc['answer'])\n",
    "# response = generate_answer(prompt)\n",
    "\n",
    "# response"
   ]
  },
  {
   "cell_type": "code",
   "execution_count": 106,
   "id": "5c932d75-e382-4e26-b241-d4d6c94c1e5a",
   "metadata": {},
   "outputs": [],
   "source": [
    "def remove_duplicates(sorted_list):\n",
    "    if not sorted_list:\n",
    "        return []\n",
    "    result = [sorted_list[0]]\n",
    "    for i in range(1, len(sorted_list)):\n",
    "        if sorted_list[i] != sorted_list[i - 1]:\n",
    "            result.append(sorted_list[i])\n",
    "    return result\n",
    "\n",
    "\n",
    "def get_context(query, db, collection):\n",
    "    context = ''\n",
    "    urls = []\n",
    "    records = vector_search(query, db, collection)\n",
    "    for record in records:\n",
    "        context += record['text']\n",
    "        context += ' \\n '\n",
    "        urls.append(record['source'])\n",
    "    \n",
    "    return context, remove_duplicates(urls) \n",
    "\n",
    "#get_context( faqs_data[0]['question'], db, collection)"
   ]
  },
  {
   "cell_type": "code",
   "execution_count": 107,
   "id": "db0279a3-b835-46cc-9e6c-c325fbeff574",
   "metadata": {},
   "outputs": [],
   "source": [
    "def rag(query):\n",
    "    prompt_template = prompt_real_faqs \n",
    "    \n",
    "    search_results, links = get_context(query, db, collection)\n",
    "    prompt = build_prompt(prompt_template, query, search_results)\n",
    "    answer = generate_answer(prompt)\n",
    "    \n",
    "    return answer, links\n"
   ]
  },
  {
   "cell_type": "code",
   "execution_count": 108,
   "id": "e197f431-7fe9-4864-ae33-8afdb9749691",
   "metadata": {},
   "outputs": [],
   "source": [
    "query = faqs_data[0]['question']\n",
    "human_answer = faqs_data[0]['answer']\n",
    " \n",
    "prompt = build_prompt(prompt_real_faqs, query, human_answer)\n",
    "\n",
    "almost_real_answer = generate_answer(prompt)\n",
    "\n",
    "rag_answer, rag_links = rag(query)"
   ]
  },
  {
   "cell_type": "code",
   "execution_count": 109,
   "id": "e4ef6a81-e602-4306-9582-8f4df076bb4c",
   "metadata": {},
   "outputs": [
    {
     "name": "stdout",
     "output_type": "stream",
     "text": [
      "------------------------------------------------------------------------------\n",
      "Q:  Was sind die rechtlichen Grundlagen meines Studiums?\n",
      "------------------------------------------------------------------------------\n",
      "Human answer:  Alle generellen Fragen rund um das Studium an der Universität Basel werden in den folgenden Ordnungen geregelt: Studierendenordnung (gilt für alle Studierenden der Uni Basel):   Bachelorstudium: Ordnung der Philosophisch Naturwissenschaftlichen Fakultät der Universität Basel für das Bachelorstudium-     Masterstudium: Ordnung der Philosophisch-Naturwissenschaftlichen Fakultät der Universität Basel für das MasterstudiumDiese Ordnungen gelten für alle Studierenden,  die entweder an der Phil.-Nat. Fakultät immatrikuliert sind, oder eine Lehrveranstaltung besuchen, die von der Phil.-Nat. Fakultät angeboten wird):  \n",
      "------------------------------------------------------------------------------\n",
      "LLM processed answer: Die rechtlichen Grundlagen deines Studiums an der Universität Basel sind in verschiedenen Ordnungen festgelegt. Für alle Studierenden gilt die Studierendenordnung. Wenn du im Bachelorstudium eingeschrieben bist, ist die Ordnung der Philosophisch-Naturwissenschaftlichen Fakultät für das Bachelorstudium relevant. Für das Masterstudium gilt die Ordnung der Philosophisch-Naturwissenschaftlichen Fakultät für das Masterstudium. Diese Ordnungen betreffen alle Studierenden, die an der Philosophisch-Naturwissenschaftlichen Fakultät immatrikuliert sind oder Lehrveranstaltungen dieser Fakultät besuchen.\n",
      "------------------------------------------------------------------------------\n",
      "RAG answer: Die rechtlichen Grundlagen deines Studiums an der Universität Basel sind in den Zulassungsbestimmungen und den Ordnungen für die Bachelor- und Masterstudiengänge festgelegt. Hier sind einige wichtige Punkte:\n",
      "\n",
      "1. **Zulassung**: Die Voraussetzungen für die Zulassung zum Studium sind in der Studierendenordnung geregelt. Für Masterstudiengänge ist in der Regel ein Bachelorabschluss mit 180 Kreditpunkten erforderlich.\n",
      "\n",
      "2. **Studienbeginn**: Der Beginn des Bachelorstudiums ist nur im Herbstsemester möglich, während das Masterstudium sowohl im Herbst- als auch im Frühjahrsemester begonnen werden kann.\n",
      "\n",
      "3. **Kreditpunkte**: Für den Bachelor sind 76 Kreditpunkte erforderlich, die durch Pflicht- und Wahlveranstaltungen in verschiedenen Modulen erworben werden. Für den Master sind 35 Kreditpunkte erforderlich.\n",
      "\n",
      "4. **Leistungsüberprüfungen**: Die Überprüfung der studentischen Leistungen erfolgt durch verschiedene Arten von Prüfungen, wie Examen und lehrveranstaltungsbegleitende Leistungsüberprüfungen.\n",
      "\n",
      "5. **Anerkennung von Leistungen**: Die Anerkennung von Studien- und Prüfungsleistungen, die an anderen Hochschulen oder in anderen Studiengängen erbracht wurden, erfolgt auf Antrag und wird von der Prüfungskommission entschieden.\n",
      "\n",
      "6. **Rechtsmittel**: Entscheidungen der Universität können bei der Rekurskommission angefochten werden, und Studierende haben das Recht, innerhalb von 30 Tagen nach Bekanntgabe einer Leistungsbewertung eine Verfügung zu verlangen.\n",
      "\n",
      "Diese Punkte bilden die rechtlichen Rahmenbedingungen für dein Studium an der Universität Basel. Wenn du spezifische Fragen hast oder weitere Informationen benötigst, lass es mich wissen!\n"
     ]
    }
   ],
   "source": [
    "print('------------------------------------------------------------------------------')\n",
    "print(\"Q: \", query)\n",
    "print('------------------------------------------------------------------------------')\n",
    "print(\"Human answer: \", human_answer)\n",
    "print('------------------------------------------------------------------------------')\n",
    "print(\"LLM processed answer:\", almost_real_answer)\n",
    "print('------------------------------------------------------------------------------')\n",
    "print(\"RAG answer:\", rag_answer)"
   ]
  },
  {
   "cell_type": "code",
   "execution_count": 110,
   "id": "883cae34-cf2a-4a78-ae4f-829c4b993e8a",
   "metadata": {},
   "outputs": [
    {
     "name": "stdout",
     "output_type": "stream",
     "text": [
      "Relevant links: ['https://www.unibas.ch/de/Studium/Studierendenordnung.html', 'https://philnat.unibas.ch/de/studium/']\n",
      "Retrieved links: ['../../data/446_520BMaSFi_01.pdf', '../../data/446_710_11.pdf', '../../data/441_800_08.pdf', '../../data/446_710_00.pdf', '../../data/446_520BMaSFk_03.pdf']\n"
     ]
    }
   ],
   "source": [
    "relevant_links = faqs_data[0]['links']\n",
    "\n",
    "print(\"Relevant links:\" , relevant_links)\n",
    "print(\"Retrieved links:\" ,rag_links)\n"
   ]
  },
  {
   "cell_type": "code",
   "execution_count": 111,
   "id": "68ac5525-b7ad-43b9-abb5-e1639bf55aa5",
   "metadata": {},
   "outputs": [
    {
     "name": "stdout",
     "output_type": "stream",
     "text": [
      "Semantic similarity between Human and LLM processed answers: 0.9647\n",
      "\n",
      "Semantic similarity between LLM processed and RAG answers: 0.9207\n",
      "\n",
      "Semantic similarity between Human and RAG answers: 0.8982\n",
      "\n"
     ]
    }
   ],
   "source": [
    "import numpy as np \n",
    "\n",
    "def cosine_similarity(a, b):\n",
    "    return np.dot(a, b) / (np.linalg.norm(a) * np.linalg.norm(b))\n",
    "\n",
    "def compare_strings(str1: str, str2: str):\n",
    "    # Get embeddings for both strings\n",
    "    embedding1 = get_embedding(str1)\n",
    "    embedding2 = get_embedding(str2)\n",
    "    \n",
    "    # Calculate cosine similarity\n",
    "    similarity = cosine_similarity(embedding1, embedding2)\n",
    "    \n",
    "    return similarity\n",
    "\n",
    "\n",
    "similarity_score_1 = compare_strings(almost_real_answer, human_answer)\n",
    "similarity_score_2 = compare_strings(almost_real_answer, rag_answer)\n",
    "similarity_score_3 = compare_strings(human_answer, rag_answer)\n",
    "\n",
    "print(f\"Semantic similarity between Human and LLM processed answers: {similarity_score_1:.4f}\\n\")\n",
    "print(f\"Semantic similarity between LLM processed and RAG answers: {similarity_score_2:.4f}\\n\")\n",
    "print(f\"Semantic similarity between Human and RAG answers: {similarity_score_3:.4f}\\n\")"
   ]
  },
  {
   "cell_type": "code",
   "execution_count": 58,
   "id": "5204fa66-61c1-41e7-9a8f-53d6283f68c1",
   "metadata": {},
   "outputs": [],
   "source": [
    "def rag_recall(links, relevant_links):\n",
    "\n",
    "    \"\"\"\n",
    "    Calculate the recall metric for a Retrieval-Augmented Generation (RAG) system.\n",
    "\n",
    "    This function computes the recall by comparing the retrieved links to the relevant links.\n",
    "    Recall is defined as the ratio of correctly retrieved relevant links to the total number\n",
    "    of relevant links.\n",
    "\n",
    "    Parameters:\n",
    "    links (list): A list of retrieved links from the RAG system.\n",
    "    relevant_links (list): A list of links that are considered relevant for the given query.\n",
    "\n",
    "    Returns:\n",
    "    float: The recall score, ranging from 0.0 to 1.0.\n",
    "        - 1.0 if all relevant links are retrieved or if there are no relevant links.\n",
    "        - 0.0 if no relevant links are retrieved.\n",
    "        - Otherwise, the fraction of relevant links that were retrieved.\n",
    "\n",
    "    Examples:\n",
    "    >>> rag_recall(['1', '2', '3'], ['1', '2'])\n",
    "    1.0\n",
    "    >>> rag_recall(['1', '2', '3'], [])\n",
    "    1.0\n",
    "    >>> rag_recall(['1', '2', '3'], ['5'])\n",
    "    0.0\n",
    "    >>> rag_recall(['1', '2', '3'], ['1', '2', '3', '4'])\n",
    "    0.75\n",
    "\n",
    "    Note:\n",
    "    - The function treats links as sets, so order and duplicates are ignored.\n",
    "    - If more links are retrieved than are relevant, the maximum recall is still 1.0.\n",
    "    \"\"\"\n",
    "    \n",
    "    retrieved_links = set(links)\n",
    "    relevant_set = set(relevant_links)\n",
    "    \n",
    "    num_correctly_retrieved = len(retrieved_links.intersection(relevant_set))\n",
    "    num_relevant = len(relevant_set)\n",
    "\n",
    "    if num_correctly_retrieved >= num_relevant:\n",
    "        return 1.0\n",
    "    elif num_relevant == 0:\n",
    "        return 1.0\n",
    "    elif num_correctly_retrieved == 0:\n",
    "        return 0.0\n",
    "    else:\n",
    "        return num_correctly_retrieved/num_relevant"
   ]
  },
  {
   "cell_type": "code",
   "execution_count": 59,
   "id": "6c8a96ae-95e6-48f5-b9d0-823836f26d88",
   "metadata": {},
   "outputs": [
    {
     "data": {
      "text/plain": [
       "['https://www.unibas.ch/de/Studium/Studierendenordnung.html',\n",
       " 'https://philnat.unibas.ch/de/studium/']"
      ]
     },
     "execution_count": 59,
     "metadata": {},
     "output_type": "execute_result"
    }
   ],
   "source": [
    "relevant_links"
   ]
  },
  {
   "cell_type": "code",
   "execution_count": 60,
   "id": "2927b893-eba2-4fa4-9f4d-539a93c59069",
   "metadata": {},
   "outputs": [
    {
     "data": {
      "text/plain": [
       "['../../data/446_520BMaSFi_01.pdf',\n",
       " '../../data/446_710_11.pdf',\n",
       " '../../data/441_800_08.pdf',\n",
       " '../../data/446_710_00.pdf',\n",
       " '../../data/446_520BMaSFk_03.pdf']"
      ]
     },
     "execution_count": 60,
     "metadata": {},
     "output_type": "execute_result"
    }
   ],
   "source": [
    "rag_links\n"
   ]
  },
  {
   "cell_type": "code",
   "execution_count": 61,
   "id": "25baa3c9-713f-446c-8272-150f4a792034",
   "metadata": {},
   "outputs": [
    {
     "data": {
      "text/plain": [
       "0.0"
      ]
     },
     "execution_count": 61,
     "metadata": {},
     "output_type": "execute_result"
    }
   ],
   "source": [
    "rag_recall(rag_links, relevant_links)"
   ]
  },
  {
   "cell_type": "code",
   "execution_count": 62,
   "id": "180bf3cd-1853-4024-804e-44f00cdf9f4b",
   "metadata": {},
   "outputs": [],
   "source": [
    "# which is not always representative, because, for example, \n",
    "# 446_720_00.pdf provides the relevant information "
   ]
  },
  {
   "cell_type": "code",
   "execution_count": 63,
   "id": "c3a263a8-5185-4f41-99b2-e3730747bab4",
   "metadata": {},
   "outputs": [],
   "source": [
    "# Save results for further evaluation \n",
    "\n",
    "def get_dataset(faqs_data):\n",
    "    \n",
    "    test_dataset = []\n",
    "    for i in range(len(faqs_data)):\n",
    "    \n",
    "        query = faqs_data[i]['question'] \n",
    "        \n",
    "        rag_answer, rag_links = rag(query) \n",
    "        \n",
    "        record = {\n",
    "            'question' : query,\n",
    "            'answer' : faqs_data[i]['answer'],\n",
    "            'links' :  faqs_data[i]['links'],\n",
    "            'rag_answer' : rag_answer, \n",
    "            'rag_links' : rag_links\n",
    "        }\n",
    "    \n",
    "        test_dataset.append(record)\n",
    "        print(\"Processed record #\", i)\n",
    "\n",
    "    return test_dataset\n",
    "\n"
   ]
  },
  {
   "cell_type": "code",
   "execution_count": 130,
   "id": "2f3af160-9fda-48e6-9aab-ea3ffb986923",
   "metadata": {},
   "outputs": [
    {
     "name": "stdout",
     "output_type": "stream",
     "text": [
      "Processed record # 0\n",
      "Processed record # 1\n",
      "Processed record # 2\n",
      "Processed record # 3\n",
      "Processed record # 4\n",
      "Processed record # 5\n",
      "Processed record # 6\n",
      "Processed record # 7\n",
      "Processed record # 8\n",
      "Processed record # 9\n",
      "Processed record # 10\n",
      "Processed record # 11\n",
      "Processed record # 12\n",
      "Processed record # 13\n",
      "Processed record # 14\n",
      "Processed record # 15\n",
      "Processed record # 16\n",
      "Processed record # 17\n",
      "Processed record # 18\n",
      "Processed record # 19\n",
      "Processed record # 20\n",
      "Processed record # 21\n",
      "Processed record # 22\n",
      "Processed record # 23\n",
      "Processed record # 24\n",
      "Processed record # 25\n",
      "Processed record # 26\n",
      "Processed record # 27\n",
      "Processed record # 28\n",
      "Processed record # 29\n",
      "Processed record # 30\n",
      "Processed record # 31\n",
      "Processed record # 32\n",
      "Processed record # 33\n"
     ]
    }
   ],
   "source": [
    "test_dataset = get_dataset(faqs_data)\n",
    "#test_dataset"
   ]
  },
  {
   "cell_type": "code",
   "execution_count": 131,
   "id": "786f6bc8-a99b-46a2-a6df-ebbb25cce303",
   "metadata": {},
   "outputs": [],
   "source": [
    "\n",
    "filename = 'test_dataset.json'\n",
    "\n",
    "with open(filename, 'w') as f:\n",
    "    json.dump(test_dataset, f, indent=4)"
   ]
  },
  {
   "cell_type": "markdown",
   "id": "8d117e23-1ef8-41aa-9359-9d2baaeca1a4",
   "metadata": {},
   "source": [
    "## Use fake FAQs\n",
    "\n",
    "The second option is to generate questions based on the provided text, which gives a much larger dataset.\n",
    "\n",
    "```python\n",
    "\n",
    "prompt_evaluation = \"\"\"\n",
    "Question: {question}\n",
    "Expected Response: {expected_response}\n",
    "Actual Response: {actual_response}\n",
    "\n",
    "(Answer with 'True' or 'False') Does the Actual Response provide the necessary information for the question as the Expected Response does?\n",
    "\"\"\".strip()\n",
    "\n",
    "```"
   ]
  },
  {
   "cell_type": "code",
   "execution_count": 112,
   "id": "3884b436-6a67-4793-b2b3-2becd9c3b901",
   "metadata": {},
   "outputs": [],
   "source": [
    "prompt_fake_faqs = \"\"\"\n",
    "You emulate a student of the University of Basel.\n",
    "Formulate a question this student might ask based on the provided text. \n",
    "The question should be complete and not too short. Provide only a text of the question \n",
    "in German without any additional characters or information.\n",
    "\n",
    "Text: {text}\n",
    "\n",
    "\"\"\".strip()"
   ]
  },
  {
   "cell_type": "code",
   "execution_count": 113,
   "id": "162fdaae-9678-474b-b75b-bca3fd509c58",
   "metadata": {},
   "outputs": [],
   "source": [
    "# Step 1 - retrieve a random chunk from the database\n",
    "# Step 2 - build a prompt \n",
    "# Step 3 - save questions \n",
    "# Step 4 - get answers using the built RAG system"
   ]
  },
  {
   "cell_type": "code",
   "execution_count": 114,
   "id": "2f42b547-a6bb-4a1a-9ad6-bdfce95c09f5",
   "metadata": {},
   "outputs": [],
   "source": [
    "def get_random_record(db, collection):\n",
    "    \"\"\"\n",
    "    Retrieve a random record from the MongoDB collection.\n",
    "\n",
    "    Args:\n",
    "    db (MongoClient.database): The database object.\n",
    "    collection (MongoCollection): The MongoDB collection to search.\n",
    "\n",
    "    Returns:\n",
    "    dict: A randomly selected document from the collection, or None if the collection is empty.\n",
    "    \"\"\"\n",
    "\n",
    "    # Count the total number of documents in the collection\n",
    "    total_documents = collection.count_documents({})\n",
    "\n",
    "    if total_documents == 0:\n",
    "        return None\n",
    "\n",
    "    # Define the aggregation pipeline\n",
    "    pipeline = [\n",
    "        {\"$sample\": {\"size\": 1}},\n",
    "        {\"$project\": {\n",
    "            \"text\": 1,\n",
    "            \"metadata\": 1,\n",
    "            \"url\": 1,\n",
    "            \"_id\": 0\n",
    "        }}\n",
    "    ]\n",
    "\n",
    "    # Execute the aggregation\n",
    "    result = list(collection.aggregate(pipeline))\n",
    "\n",
    "    if result:\n",
    "        doc = result[0]\n",
    "        return {\n",
    "            \"source\": doc['metadata'].get('source', doc.get('url', 'N/A')),\n",
    "            \"text\": doc.get('text', 'N/A'),\n",
    "            \"url\": doc.get('url', 'N/A')\n",
    "        }\n",
    "    else:\n",
    "        return None\n",
    "\n",
    "    # Optional: Add explain functionality if needed\n",
    "    # explain_query_execution = db.command(\n",
    "    #     'explain', {\n",
    "    #         'aggregate': collection.name,\n",
    "    #         'pipeline': pipeline,\n",
    "    #         'cursor': {}\n",
    "    #     },\n",
    "    #     verbosity='executionStats'\n",
    "    # )\n",
    "\n",
    "    # print(f\"Explanation of query execution: {explain_query_execution}\")\n",
    "\n",
    "    # return result[0] if result else None "
   ]
  },
  {
   "cell_type": "code",
   "execution_count": 119,
   "id": "49df235c-de16-49ca-b66a-e1782d530085",
   "metadata": {},
   "outputs": [],
   "source": [
    "rec = get_random_record(db, collection)"
   ]
  },
  {
   "cell_type": "code",
   "execution_count": 126,
   "id": "3a2f20eb-cdd9-4ed2-a6a0-8969d895a9de",
   "metadata": {},
   "outputs": [],
   "source": [
    "def rag_test(db, collection):\n",
    "    prompt_template = prompt_fake_faqs \n",
    "    random_result = get_random_record(db, collection)\n",
    "\n",
    "    context = random_result['text']\n",
    "    links = [random_result['source']]\n",
    "\n",
    "\n",
    "    prompt = prompt_template.format(text = context).strip()\n",
    "    question = generate_answer(prompt)\n",
    "\n",
    "    # to get the answer without search\n",
    "    prompt_helper =  build_prompt(prompt_real_faqs, question, context)\n",
    "\n",
    "    answer = generate_answer(prompt_helper)\n",
    "    \n",
    "    return question, answer, links"
   ]
  },
  {
   "cell_type": "code",
   "execution_count": 135,
   "id": "62b50c4e-2650-4d3a-a6c8-a1a6b8f82473",
   "metadata": {},
   "outputs": [],
   "source": [
    "\n",
    "n = 45\n",
    "\n",
    "# fake_records = [] \n",
    "\n",
    "# for i in range(n):\n",
    "#     q, a, l = rag_test(db, collection)\n",
    "#     rag_answer, rag_links = rag(q) \n",
    "#     rag_links_cleaned = remove_duplicates(rag_links)\n",
    "#     fake_records.append({'question': q, 'answer':a, 'links' : l, 'rag_answer' : rag_answer, 'rag_links' : rag_links_cleaned })\n",
    "#     print(\"Processed record #\", i)\n"
   ]
  },
  {
   "cell_type": "code",
   "execution_count": null,
   "id": "7ca228e8-e575-4923-8e0f-dd31173e60ed",
   "metadata": {},
   "outputs": [],
   "source": [
    "#fake_records"
   ]
  },
  {
   "cell_type": "code",
   "execution_count": 136,
   "id": "9cac03bd-0dd2-4fda-a8e2-52140f02079d",
   "metadata": {},
   "outputs": [],
   "source": [
    "\n",
    "filename = 'fake_dataset.json'\n",
    "\n",
    "with open(filename, 'w') as f:\n",
    "    json.dump(fake_records, f, indent=4)"
   ]
  },
  {
   "cell_type": "markdown",
   "id": "59264a21-a168-4d75-afe7-beeb71512855",
   "metadata": {},
   "source": [
    "---\n",
    "* Author: Anastasiia Popova\n",
    "* Email: anastasiia.popova@stud.unibas.ch\n",
    "\n",
    "[Perplexity AI](https://www.perplexity.ai/) assisted in code writing, editing, and more effective information searches. The generated output underwent critical evaluation. The author is solely responsible for the content."
   ]
  },
  {
   "cell_type": "code",
   "execution_count": null,
   "id": "03586a8d-71db-40c3-bd07-2bc2e0954de0",
   "metadata": {},
   "outputs": [],
   "source": []
  }
 ],
 "metadata": {
  "kernelspec": {
   "display_name": "hackathon_rags",
   "language": "python",
   "name": "hackathon_rags"
  },
  "language_info": {
   "codemirror_mode": {
    "name": "ipython",
    "version": 3
   },
   "file_extension": ".py",
   "mimetype": "text/x-python",
   "name": "python",
   "nbconvert_exporter": "python",
   "pygments_lexer": "ipython3",
   "version": "3.12.5"
  }
 },
 "nbformat": 4,
 "nbformat_minor": 5
}
