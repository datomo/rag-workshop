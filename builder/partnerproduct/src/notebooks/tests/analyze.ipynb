{
 "cells": [
  {
   "cell_type": "code",
   "execution_count": 5,
   "id": "3d711089-ff51-4e28-bd35-a976b06e0f6b",
   "metadata": {},
   "outputs": [],
   "source": [
    "import pandas as pd\n",
    "import numpy as np"
   ]
  },
  {
   "cell_type": "code",
   "execution_count": 13,
   "id": "acea392a-241a-460a-8d47-149271863dd7",
   "metadata": {},
   "outputs": [
    {
     "name": "stdout",
     "output_type": "stream",
     "text": [
      "Numerical Columns Comparison:\n",
      "\n",
      "Comparing column: jaccard_similarity\n",
      "Statistic  File 1          File 2         \n",
      "----------------------------------------\n",
      "Min:       0.02            0.17           \n",
      "Max:       0.25            0.87           \n",
      "Median:    0.11            0.36           \n",
      "\n",
      "Comparing column: recall\n",
      "Statistic  File 1          File 2         \n",
      "----------------------------------------\n",
      "Min:       0.00            0.00           \n",
      "Max:       1.00            1.00           \n",
      "Median:    1.00            1.00           \n",
      "\n",
      "Comparing column: cosine_similarity\n",
      "Statistic  File 1          File 2         \n",
      "----------------------------------------\n",
      "Min:       0.75            0.95           \n",
      "Max:       0.96            1.00           \n",
      "Median:    0.91            0.98           \n",
      "\n",
      "Boolean Columns Comparison:\n",
      "\n",
      "Comparing column: unit_test\n",
      "Statistic  File 1          File 2         \n",
      "----------------------------------------\n",
      "True count: 16              45             \n",
      "False count: 18              0              \n",
      "True %:    47.06           100.00         \n"
     ]
    }
   ],
   "source": [
    "def load_and_compare_csv(file1, file2):\n",
    "    # Load CSV files\n",
    "    df1 = pd.read_csv(file1)\n",
    "    df2 = pd.read_csv(file2)\n",
    "\n",
    "    # Identify numerical and boolean columns\n",
    "    num_cols1 = df1.select_dtypes(include=[np.number]).columns\n",
    "    num_cols2 = df2.select_dtypes(include=[np.number]).columns\n",
    "    bool_cols1 = df1.select_dtypes(include=[bool]).columns\n",
    "    bool_cols2 = df2.select_dtypes(include=[bool]).columns\n",
    "\n",
    "    # Find common numerical and boolean columns\n",
    "    common_num_cols = set(num_cols1).intersection(num_cols2)\n",
    "    common_bool_cols = set(bool_cols1).intersection(bool_cols2)\n",
    "\n",
    "    # Compare statistics for common numerical columns\n",
    "    print(\"Numerical Columns Comparison:\")\n",
    "    for col in common_num_cols:\n",
    "        print(f\"\\nComparing column: {col}\")\n",
    "        print(f\"{'Statistic':<10} {'File 1':<15} {'File 2':<15}\")\n",
    "        print(\"-\" * 40)\n",
    "        print(f\"{'Min:':<10} {df1[col].min():<15.2f} {df2[col].min():<15.2f}\")\n",
    "        print(f\"{'Max:':<10} {df1[col].max():<15.2f} {df2[col].max():<15.2f}\")\n",
    "        print(f\"{'Median:':<10} {df1[col].median():<15.2f} {df2[col].median():<15.2f}\")\n",
    "\n",
    "    # Compare statistics for common boolean columns\n",
    "    print(\"\\nBoolean Columns Comparison:\")\n",
    "    for col in common_bool_cols:\n",
    "        print(f\"\\nComparing column: {col}\")\n",
    "        print(f\"{'Statistic':<10} {'File 1':<15} {'File 2':<15}\")\n",
    "        print(\"-\" * 40)\n",
    "        print(f\"{'True count:':<10} {df1[col].sum():<15d} {df2[col].sum():<15d}\")\n",
    "        print(f\"{'False count:':<10} {(~df1[col]).sum():<15d} {(~df2[col]).sum():<15d}\")\n",
    "        print(f\"{'True %:':<10} {df1[col].mean()*100:<15.2f} {df2[col].mean()*100:<15.2f}\")\n",
    "\n",
    "    # Report columns present in only one file\n",
    "    only_in_file1 = (set(num_cols1) | set(bool_cols1)) - (set(num_cols2) | set(bool_cols2))\n",
    "    only_in_file2 = (set(num_cols2) | set(bool_cols2)) - (set(num_cols1) | set(bool_cols1))\n",
    "\n",
    "    if only_in_file1:\n",
    "        print(f\"\\nColumns only in {file1}: {', '.join(only_in_file1)}\")\n",
    "    if only_in_file2:\n",
    "        print(f\"\\nColumns only in {file2}: {', '.join(only_in_file2)}\")\n",
    "\n",
    "# Usage example\n",
    "file1 = 'scored_test_dataset.csv' \n",
    "file2 = 'scored_fake_dataset.csv'\n",
    "load_and_compare_csv(file1, file2)"
   ]
  },
  {
   "cell_type": "code",
   "execution_count": 14,
   "id": "6dcc8482-05f1-4564-b09c-2f83b890485b",
   "metadata": {},
   "outputs": [
    {
     "name": "stdout",
     "output_type": "stream",
     "text": [
      "count    34.000000\n",
      "mean      0.823529\n",
      "std       0.386953\n",
      "min       0.000000\n",
      "25%       1.000000\n",
      "50%       1.000000\n",
      "75%       1.000000\n",
      "max       1.000000\n",
      "Name: recall, dtype: float64\n"
     ]
    }
   ],
   "source": [
    "df1 = pd.read_csv(file1)\n",
    "df2 = pd.read_csv(file2)\n",
    "\n",
    "print(df1['recall'].describe() )"
   ]
  },
  {
   "cell_type": "code",
   "execution_count": 15,
   "id": "26e8f7a7-464d-43b1-a354-cf04e4e29785",
   "metadata": {},
   "outputs": [
    {
     "name": "stdout",
     "output_type": "stream",
     "text": [
      "count    45.000000\n",
      "mean      0.688889\n",
      "std       0.468179\n",
      "min       0.000000\n",
      "25%       0.000000\n",
      "50%       1.000000\n",
      "75%       1.000000\n",
      "max       1.000000\n",
      "Name: recall, dtype: float64\n"
     ]
    }
   ],
   "source": [
    "print(df2['recall'].describe() )"
   ]
  },
  {
   "cell_type": "code",
   "execution_count": 16,
   "id": "db1c1fee-aa86-46b6-840c-d731c1569409",
   "metadata": {},
   "outputs": [
    {
     "data": {
      "text/plain": [
       "28.0"
      ]
     },
     "execution_count": 16,
     "metadata": {},
     "output_type": "execute_result"
    }
   ],
   "source": [
    "sum(df1['recall'])"
   ]
  },
  {
   "cell_type": "code",
   "execution_count": null,
   "id": "becd6b56-e590-4daf-8873-d2af23a9c50b",
   "metadata": {},
   "outputs": [],
   "source": []
  }
 ],
 "metadata": {
  "kernelspec": {
   "display_name": "hackathon_rags",
   "language": "python",
   "name": "hackathon_rags"
  },
  "language_info": {
   "codemirror_mode": {
    "name": "ipython",
    "version": 3
   },
   "file_extension": ".py",
   "mimetype": "text/x-python",
   "name": "python",
   "nbconvert_exporter": "python",
   "pygments_lexer": "ipython3",
   "version": "3.12.5"
  }
 },
 "nbformat": 4,
 "nbformat_minor": 5
}
