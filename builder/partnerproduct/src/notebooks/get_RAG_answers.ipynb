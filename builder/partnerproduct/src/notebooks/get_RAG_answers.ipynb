{
 "cells": [
  {
   "cell_type": "markdown",
   "id": "6f9a6b42-67e1-4f30-9c79-51e35a426bc6",
   "metadata": {},
   "source": [
    "## Import original FAQs"
   ]
  },
  {
   "cell_type": "code",
   "execution_count": 1,
   "id": "589b076c-cc1b-4673-9ad4-22d5f5157bbb",
   "metadata": {},
   "outputs": [],
   "source": [
    "import os\n",
    "import json\n",
    "import re\n",
    "import getpass\n"
   ]
  },
  {
   "cell_type": "code",
   "execution_count": 3,
   "id": "9a3adffa-eca3-4da1-8c09-f799e6f4a660",
   "metadata": {},
   "outputs": [
    {
     "name": "stdout",
     "output_type": "stream",
     "text": [
      "JSON file imported successfully.\n"
     ]
    }
   ],
   "source": [
    "filename = '../FAQs_cleaned.json'\n",
    "\n",
    "with open(filename, 'r') as file:\n",
    "    faqs_data = json.load(file)\n",
    "\n",
    "print(\"JSON file imported successfully.\")"
   ]
  },
  {
   "cell_type": "code",
   "execution_count": 4,
   "id": "a3c0778f-3108-4953-adc7-87820e72a866",
   "metadata": {},
   "outputs": [
    {
     "data": {
      "text/plain": [
       "34"
      ]
     },
     "execution_count": 4,
     "metadata": {},
     "output_type": "execute_result"
    }
   ],
   "source": [
    "len(faqs_data)"
   ]
  },
  {
   "cell_type": "markdown",
   "id": "5ae9e8e8-afe9-41f2-af12-2444ce3e984b",
   "metadata": {},
   "source": [
    "## Use real FAQs\n",
    "\n",
    "We already extracted text in format \"question\", \"answer\", \"links\". Here we will also add \"rag_answer\", \"rag_links\".\n",
    "\n",
    "\n",
    "\n",
    "## Main functionality \n",
    "\n",
    "```python\n",
    "def rag(query):\n",
    "    search_results = search(query)  \n",
    "    prompt = build_prompt(query, search_results)\n",
    "    answer = llm(prompt)\n",
    "    return answer\n",
    "\n",
    "```\n",
    "    "
   ]
  },
  {
   "cell_type": "markdown",
   "id": "cec7accf-4dd7-48a8-924d-af64eb90e07d",
   "metadata": {},
   "source": [
    "### Connect OpenAI"
   ]
  },
  {
   "cell_type": "code",
   "execution_count": 5,
   "id": "14bffc17-2f96-4455-9eb2-52276e22ce60",
   "metadata": {},
   "outputs": [
    {
     "name": "stdin",
     "output_type": "stream",
     "text": [
      "Enter your OpenAI API Key:\n",
      "\n",
      " ········\n"
     ]
    }
   ],
   "source": [
    "openai_api_key = getpass.getpass(\"Enter your OpenAI API Key:\\n\\n\")\n"
   ]
  },
  {
   "cell_type": "code",
   "execution_count": 7,
   "id": "7c700fbf-36ec-4be5-9d22-951af1a1d78c",
   "metadata": {},
   "outputs": [],
   "source": [
    "# Checks connection to OpenAI \n",
    "import openai\n",
    "from openai import OpenAI\n",
    "client = OpenAI(api_key = openai_api_key)\n",
    "try:\n",
    "  #Make your OpenAI API request here\n",
    "  response = client.chat.completions.create(\n",
    "    messages=[{\"role\": \"user\", \"content\": \"Hello world\"}],\n",
    "    model=\"gpt-4o-mini\"\n",
    "  )\n",
    "except openai.APIError as e:\n",
    "  #Handle API error here, e.g. retry or log\n",
    "  print(f\"OpenAI API returned an API Error: {e}\")\n",
    "  pass\n",
    "except openai.APIConnectionError as e:\n",
    "  #Handle connection error here\n",
    "  print(f\"Failed to connect to OpenAI API: {e}\")\n",
    "  pass\n",
    "except openai.RateLimitError as e:\n",
    "  #Handle rate limit error (we recommend using exponential backoff)\n",
    "  print(f\"OpenAI API request exceeded rate limit: {e}\")\n",
    "  pass"
   ]
  },
  {
   "cell_type": "code",
   "execution_count": 8,
   "id": "912ddca8-1884-43c0-8413-cf8075e228b6",
   "metadata": {},
   "outputs": [],
   "source": [
    "# query = 'hi'\n",
    "# generate_answer(query)"
   ]
  },
  {
   "cell_type": "code",
   "execution_count": 9,
   "id": "6a4bd941-1bb5-42a3-9407-5e6850136147",
   "metadata": {},
   "outputs": [],
   "source": [
    "def get_embedding(text):\n",
    "    \"\"\"Generate an embedding for the given text using OpenAI's API.\"\"\"\n",
    "\n",
    "    # Check for valid input\n",
    "    if not text or not isinstance(text, str):\n",
    "        return None\n",
    "\n",
    "    try:\n",
    "        # Call OpenAI API to get the embedding\n",
    "        openai.api_key = openai_api_key\n",
    "        \n",
    "        embedding = openai.embeddings.create(\n",
    "            input=text,\n",
    "            model=\"text-embedding-3-small\", dimensions=1536).data[0].embedding\n",
    "        return embedding\n",
    "    except Exception as e:\n",
    "        print(f\"Error in get_embedding: {e}\")\n",
    "        return None\n",
    "\n",
    "#q = 'Was sind die rechtlichen Grundlagen meines Studiums?'\n",
    "#get_embedding(q)"
   ]
  },
  {
   "cell_type": "markdown",
   "id": "6bc34fe1-0378-4c17-b028-5076afb4ed88",
   "metadata": {},
   "source": [
    "### Vector Search"
   ]
  },
  {
   "cell_type": "code",
   "execution_count": 10,
   "id": "e0ba0c2e-e402-4986-81e7-c8ef772b1878",
   "metadata": {},
   "outputs": [],
   "source": [
    "from pymongo.mongo_client import MongoClient\n",
    "from pymongo.operations import SearchIndexModel"
   ]
  },
  {
   "cell_type": "code",
   "execution_count": 11,
   "id": "d330a571-9b49-4a05-bb4e-46487741f578",
   "metadata": {},
   "outputs": [
    {
     "name": "stdin",
     "output_type": "stream",
     "text": [
      "Enter your MongoDB connection string:\n",
      "\n",
      " ········\n"
     ]
    }
   ],
   "source": [
    "mongo_uri = getpass.getpass(\"Enter your MongoDB connection string:\\n\\n\")"
   ]
  },
  {
   "cell_type": "code",
   "execution_count": 33,
   "id": "29216ea1-9f11-4182-a949-8c6c2f32e325",
   "metadata": {},
   "outputs": [
    {
     "name": "stdout",
     "output_type": "stream",
     "text": [
      "Connection to MongoDB successful\n"
     ]
    }
   ],
   "source": [
    "def get_mongo_client(mongo_uri):\n",
    "    \"\"\"Establish connection to the MongoDB.\"\"\"\n",
    "\n",
    "    # gateway to interacting with a MongoDB database cluster\n",
    "    client = MongoClient(mongo_uri)\n",
    "    print(\"Connection to MongoDB successful\")\n",
    "    return client\n",
    "\n",
    "mongo_client = get_mongo_client(mongo_uri)\n",
    "\n",
    "# Pymongo client of database and collection\n",
    "db = mongo_client.get_database('chatter')\n",
    "collection = db.get_collection('embedded_content')"
   ]
  },
  {
   "cell_type": "code",
   "execution_count": 13,
   "id": "88a75a07-2f69-4350-adc8-c0d7697956ac",
   "metadata": {},
   "outputs": [],
   "source": [
    "text_embedding_field_name = \"embedding\"\n",
    "\n",
    "def vector_search(user_query, db, collection):\n",
    "    \"\"\"\n",
    "    Perform a vector search in the MongoDB collection based on the user query.\n",
    "\n",
    "    Args:\n",
    "    user_query (str): The user's query string.\n",
    "    db (MongoClient.database): The database object.\n",
    "    collection (MongoCollection): The MongoDB collection to search.\n",
    "    additional_stages (list): Additional aggregation stages to include in the pipeline.\n",
    "\n",
    "    Returns:\n",
    "    list: A list of matching documents.\n",
    "\n",
    "    Notes:\n",
    "    This function is from https://learn.deeplearning.ai/courses/prompt-compression-and-query-optimization.\n",
    "    \"\"\"\n",
    "\n",
    "    # Generate embedding for the user query\n",
    "    query_embedding = get_embedding(user_query)\n",
    "\n",
    "    if query_embedding is None:\n",
    "        return \"Invalid query or embedding generation failed.\"\n",
    "\n",
    "    # Define the vector search stage\n",
    "    vector_search_stage = {\n",
    "        \"$vectorSearch\": {\n",
    "            \"index\": 'vector_index', # specifies the index to use for the search\n",
    "            \"queryVector\": query_embedding, # the vector representing the query\n",
    "            \"path\": text_embedding_field_name, # field in the documents containing the vectors to search against\n",
    "            \"numCandidates\": 150, # number of candidate matches to consider\n",
    "            \"limit\": 5 # return top 5 matches\n",
    "        }\n",
    "    }\n",
    "\n",
    "    # Add a $project stage to include the URL field\n",
    "    project_stage = {\n",
    "        \"$project\": {\n",
    "            \"url\": 1,  # Include the URL field\n",
    "            \"score\": {\"$meta\": \"vectorSearchScore\"},  # Include the search score if needed\n",
    "            # Add any other fields you want to include\n",
    "        }\n",
    "    }\n",
    "    \n",
    "    # Define the aggregate pipeline with the vector search stage and projection stage\n",
    "    pipeline = [vector_search_stage, project_stage]\n",
    "\n",
    "\n",
    "    # Execute the search\n",
    "    results = collection.aggregate(pipeline)\n",
    "\n",
    "    explain_query_execution = db.command( # sends a database command directly to the MongoDB server\n",
    "        'explain', { # return information about how MongoDB executes a query or command without actually running it\n",
    "            'aggregate': collection.name, # specifies the name of the collection on which the aggregation is performed\n",
    "            'pipeline': pipeline, # the aggregation pipeline to analyze\n",
    "            'cursor': {} # indicates that default cursor behavior should be used\n",
    "        }, \n",
    "        verbosity='executionStats') # detailed statistics about the execution of each stage of the aggregation pipeline\n",
    "\n",
    "\n",
    "    vector_search_explain = explain_query_execution['stages'][0]['$vectorSearch']\n",
    "    millis_elapsed = vector_search_explain['explain']['collectStats']['millisElapsed']\n",
    "\n",
    "    print(f\"Total time for the execution to complete on the database server: {millis_elapsed} milliseconds\")\n",
    "\n",
    "    urls = [doc['url'] for doc in results]\n",
    "\n",
    "    # print(\"Extracted URLs:\", urls)\n",
    "\n",
    "    return list(results), urls"
   ]
  },
  {
   "cell_type": "code",
   "execution_count": 21,
   "id": "6364ebb2-faf5-403a-92c4-86253e0809f0",
   "metadata": {},
   "outputs": [],
   "source": [
    "# q = 'Was sind die rechtlichen Grundlagen meines Studiums?'\n",
    "# vector_search(q, db, collection)[0]['text']"
   ]
  },
  {
   "cell_type": "markdown",
   "id": "9eabd6f6-02be-401d-b62d-01404461123b",
   "metadata": {},
   "source": [
    "### Build a RAG system "
   ]
  },
  {
   "cell_type": "code",
   "execution_count": 34,
   "id": "0861abaf-8c94-4e9c-ab6e-9c6fe52a9c3f",
   "metadata": {},
   "outputs": [],
   "source": [
    "prompt_real_faqs = \"\"\"\n",
    "You a helpful chat-bot for the student administration office answering the students' questions.\n",
    "Formulate an answer only based on a provided context. The record contains:\n",
    "\n",
    "question: {question}\n",
    "context: {text}\n",
    "\n",
    "Give the answer in German. Don't use `\\n\\n`, `\\n\\n*` and other formating in your answer. \n",
    "\n",
    "\"\"\".strip()\n",
    "\n",
    "\n",
    "def build_prompt(prompt_template , query, context):\n",
    "    \n",
    "    prompt = prompt_template.format(question = query, text = context).strip()\n",
    "    \n",
    "    return prompt"
   ]
  },
  {
   "cell_type": "code",
   "execution_count": 15,
   "id": "b9cd36f8-69e5-4275-b895-42e7455152bb",
   "metadata": {},
   "outputs": [],
   "source": [
    "def generate_answer(prompt):\n",
    "    response = client.chat.completions.create(\n",
    "        model='gpt-4o-mini',\n",
    "        messages=[{\"role\": \"user\", \"content\": prompt}],\n",
    "        temperature=0\n",
    "    )\n",
    "\n",
    "    response_content = response.choices[0].message.content\n",
    "    return response_content\n"
   ]
  },
  {
   "cell_type": "code",
   "execution_count": 16,
   "id": "2f054395-a5a0-46fd-9a32-9b24e93f85af",
   "metadata": {},
   "outputs": [
    {
     "data": {
      "text/plain": [
       "'Die rechtlichen Grundlagen Ihres Studiums an der Universität Basel sind in verschiedenen Ordnungen festgelegt. Für alle Studierenden gilt die Studierendenordnung. Darüber hinaus gibt es spezifische Ordnungen für das Bachelor- und Masterstudium, die von der Philosophisch-Naturwissenschaftlichen Fakultät der Universität Basel herausgegeben werden. Diese Ordnungen regeln die Rahmenbedingungen für alle Studierenden, die an der Fakultät immatrikuliert sind oder Lehrveranstaltungen besuchen, die von dieser Fakultät angeboten werden.'"
      ]
     },
     "execution_count": 16,
     "metadata": {},
     "output_type": "execute_result"
    }
   ],
   "source": [
    "doc = faqs_data[0]\n",
    "\n",
    "prompt = build_prompt(prompt_real_faqs ,  doc['question'], doc['answer'])\n",
    "response = generate_answer(prompt)\n",
    "\n",
    "response"
   ]
  },
  {
   "cell_type": "code",
   "execution_count": 17,
   "id": "5c932d75-e382-4e26-b241-d4d6c94c1e5a",
   "metadata": {},
   "outputs": [],
   "source": [
    "def get_context(query, db, collection):\n",
    "    context = ''\n",
    "    records, urls = vector_search(query, db, collection)\n",
    "    for record in records:\n",
    "        context += record['text']\n",
    "\n",
    "    return context, urls\n",
    "\n",
    "#get_context(q, db, collection)"
   ]
  },
  {
   "cell_type": "code",
   "execution_count": 18,
   "id": "db0279a3-b835-46cc-9e6c-c325fbeff574",
   "metadata": {},
   "outputs": [],
   "source": [
    "\n",
    "def rag(query):\n",
    "    prompt_template = prompt_real_faqs \n",
    "    \n",
    "    search_results, links = get_context(query, db, collection)\n",
    "    prompt = build_prompt(prompt_template, query, search_results)\n",
    "    answer = generate_answer(prompt)\n",
    "    return answer, links\n",
    "\n",
    "\n",
    "    "
   ]
  },
  {
   "cell_type": "code",
   "execution_count": 35,
   "id": "91dd386d-2571-4616-a1c6-e27483332ef0",
   "metadata": {},
   "outputs": [
    {
     "name": "stdout",
     "output_type": "stream",
     "text": [
      "Total time for the execution to complete on the database server: 0.106355 milliseconds\n",
      "------------------------------------------------------------------------------\n",
      "Q:  Was sind die rechtlichen Grundlagen meines Studiums?\n",
      "------------------------------------------------------------------------------\n",
      "Human answer:  Alle generellen Fragen rund um das Studium an der Universität Basel werden in den folgenden Ordnungen geregelt: Studierendenordnung (gilt für alle Studierenden der Uni Basel):   Bachelorstudium: Ordnung der Philosophisch Naturwissenschaftlichen Fakultät der Universität Basel für das Bachelorstudium-     Masterstudium: Ordnung der Philosophisch-Naturwissenschaftlichen Fakultät der Universität Basel für das MasterstudiumDiese Ordnungen gelten für alle Studierenden,  die entweder an der Phil.-Nat. Fakultät immatrikuliert sind, oder eine Lehrveranstaltung besuchen, die von der Phil.-Nat. Fakultät angeboten wird):  \n",
      "------------------------------------------------------------------------------\n",
      "LLM processed answer: Die rechtlichen Grundlagen Ihres Studiums an der Universität Basel werden durch die Studierendenordnung sowie die spezifischen Ordnungen für das Bachelor- und Masterstudium der Philosophisch-Naturwissenschaftlichen Fakultät geregelt. Diese Ordnungen gelten für alle Studierenden, die an der Fakultät immatrikuliert sind oder Lehrveranstaltungen besuchen, die von der Fakultät angeboten werden.\n",
      "------------------------------------------------------------------------------\n",
      "RAG answer: Die rechtlichen Grundlagen Ihres Studiums sind in den jeweiligen Studienordnungen, Prüfungsordnungen und den allgemeinen Bestimmungen der Hochschule festgelegt. Diese Dokumente regeln unter anderem die Zulassungsvoraussetzungen, die Studieninhalte, die Prüfungsmodalitäten sowie die Rechte und Pflichten der Studierenden. Es ist wichtig, sich mit diesen Regelungen vertraut zu machen, um ein erfolgreiches Studium zu gewährleisten.\n"
     ]
    }
   ],
   "source": [
    "query = faqs_data[0]['question']\n",
    "human_answer = faqs_data[0]['answer']\n",
    " \n",
    "prompt = build_prompt(prompt_real_faqs, query, human_answer)\n",
    "\n",
    "almost_real_answer = generate_answer(prompt)\n",
    "\n",
    "rag_answer, rag_links = rag(query) \n",
    "\n",
    "print('------------------------------------------------------------------------------')\n",
    "print(\"Q: \", query)\n",
    "print('------------------------------------------------------------------------------')\n",
    "print(\"Human answer: \", human_answer)\n",
    "print('------------------------------------------------------------------------------')\n",
    "print(\"LLM processed answer:\", almost_real_answer)\n",
    "print('------------------------------------------------------------------------------')\n",
    "print(\"RAG answer:\", rag_answer)\n"
   ]
  },
  {
   "cell_type": "code",
   "execution_count": 36,
   "id": "68ac5525-b7ad-43b9-abb5-e1639bf55aa5",
   "metadata": {},
   "outputs": [
    {
     "name": "stdout",
     "output_type": "stream",
     "text": [
      "Semantic similarity between Human and LLM processed answers: 0.8819\n",
      "\n",
      "Semantic similarity between LLM processed and RAG answers: 0.7056\n",
      "\n",
      "Semantic similarity between Human and RAG answers: 0.5962\n",
      "\n"
     ]
    }
   ],
   "source": [
    "import numpy as np \n",
    "\n",
    "def cosine_similarity(a, b):\n",
    "    return np.dot(a, b) / (np.linalg.norm(a) * np.linalg.norm(b))\n",
    "\n",
    "def compare_strings(str1: str, str2: str):\n",
    "    # Get embeddings for both strings\n",
    "    embedding1 = get_embedding(str1)\n",
    "    embedding2 = get_embedding(str2)\n",
    "    \n",
    "    # Calculate cosine similarity\n",
    "    similarity = cosine_similarity(embedding1, embedding2)\n",
    "    \n",
    "    return similarity\n",
    "\n",
    "\n",
    "similarity_score_1 = compare_strings(almost_real_answer, human_answer)\n",
    "similarity_score_2 = compare_strings(almost_real_answer, rag_answer)\n",
    "similarity_score_3 = compare_strings(human_answer, rag_answer)\n",
    "\n",
    "print(f\"Semantic similarity between Human and LLM processed answers: {similarity_score_1:.4f}\\n\")\n",
    "print(f\"Semantic similarity between LLM processed and RAG answers: {similarity_score_2:.4f}\\n\")\n",
    "print(f\"Semantic similarity between Human and RAG answers: {similarity_score_3:.4f}\\n\")"
   ]
  },
  {
   "cell_type": "code",
   "execution_count": 23,
   "id": "5204fa66-61c1-41e7-9a8f-53d6283f68c1",
   "metadata": {},
   "outputs": [],
   "source": [
    "def rag_recall(links, relevant_links):\n",
    "\n",
    "    \"\"\"\n",
    "    Calculate the recall metric for a Retrieval-Augmented Generation (RAG) system.\n",
    "\n",
    "    This function computes the recall by comparing the retrieved links to the relevant links.\n",
    "    Recall is defined as the ratio of correctly retrieved relevant links to the total number\n",
    "    of relevant links.\n",
    "\n",
    "    Parameters:\n",
    "    links (list): A list of retrieved links from the RAG system.\n",
    "    relevant_links (list): A list of links that are considered relevant for the given query.\n",
    "\n",
    "    Returns:\n",
    "    float: The recall score, ranging from 0.0 to 1.0.\n",
    "        - 1.0 if all relevant links are retrieved or if there are no relevant links.\n",
    "        - 0.0 if no relevant links are retrieved.\n",
    "        - Otherwise, the fraction of relevant links that were retrieved.\n",
    "\n",
    "    Examples:\n",
    "    >>> rag_recall(['1', '2', '3'], ['1', '2'])\n",
    "    1.0\n",
    "    >>> rag_recall(['1', '2', '3'], [])\n",
    "    1.0\n",
    "    >>> rag_recall(['1', '2', '3'], ['5'])\n",
    "    0.0\n",
    "    >>> rag_recall(['1', '2', '3'], ['1', '2', '3', '4'])\n",
    "    0.75\n",
    "\n",
    "    Note:\n",
    "    - The function treats links as sets, so order and duplicates are ignored.\n",
    "    - If more links are retrieved than are relevant, the maximum recall is still 1.0.\n",
    "    \"\"\"\n",
    "    \n",
    "    retrieved_links = set(links)\n",
    "    relevant_set = set(relevant_links)\n",
    "    \n",
    "    num_correctly_retrieved = len(retrieved_links.intersection(relevant_set))\n",
    "    num_relevant = len(relevant_set)\n",
    "\n",
    "    if num_correctly_retrieved >= num_relevant:\n",
    "        return 1.0\n",
    "    elif num_relevant == 0:\n",
    "        return 1.0\n",
    "    elif num_correctly_retrieved == 0:\n",
    "        return 0.0\n",
    "    else:\n",
    "        return num_correctly_retrieved/num_relevant"
   ]
  },
  {
   "cell_type": "code",
   "execution_count": 30,
   "id": "525ef939-63ff-4422-8f4f-51b1e1f6d427",
   "metadata": {},
   "outputs": [
    {
     "name": "stdout",
     "output_type": "stream",
     "text": [
      "Total time for the execution to complete on the database server: 0.14888 milliseconds\n"
     ]
    }
   ],
   "source": [
    "query = faqs_data[0]['question']\n",
    "human_answer = faqs_data[0]['answer']\n",
    "relevant_links = faqs_data[0]['links']\n",
    "\n",
    "rag_context, rag_links =  get_context(query, db, collection)\n"
   ]
  },
  {
   "cell_type": "code",
   "execution_count": 31,
   "id": "6c8a96ae-95e6-48f5-b9d0-823836f26d88",
   "metadata": {},
   "outputs": [
    {
     "data": {
      "text/plain": [
       "['https://www.unibas.ch/de/Studium/Studierendenordnung.html',\n",
       " 'https://philnat.unibas.ch/de/studium/']"
      ]
     },
     "execution_count": 31,
     "metadata": {},
     "output_type": "execute_result"
    }
   ],
   "source": [
    "relevant_links"
   ]
  },
  {
   "cell_type": "code",
   "execution_count": 32,
   "id": "2927b893-eba2-4fa4-9f4d-539a93c59069",
   "metadata": {},
   "outputs": [
    {
     "data": {
      "text/plain": [
       "['https://www.unibas.ch/de/Aktuell/Uni-Nova.html',\n",
       " 'https://www.unibas.ch/de/Forschung/Uni-Nova.html',\n",
       " 'https://www.unibas.ch/de/Studium/Studienangebot.html',\n",
       " 'https://www.unibas.ch/de/Studium/Studienangebot.html',\n",
       " 'https://nanoscience.unibas.ch/de/forschung/phd-programm/']"
      ]
     },
     "execution_count": 32,
     "metadata": {},
     "output_type": "execute_result"
    }
   ],
   "source": [
    "rag_links\n"
   ]
  },
  {
   "cell_type": "code",
   "execution_count": 26,
   "id": "25baa3c9-713f-446c-8272-150f4a792034",
   "metadata": {},
   "outputs": [
    {
     "data": {
      "text/plain": [
       "0.0"
      ]
     },
     "execution_count": 26,
     "metadata": {},
     "output_type": "execute_result"
    }
   ],
   "source": [
    "rag_recall(rag_links, relevant_links)"
   ]
  },
  {
   "cell_type": "code",
   "execution_count": 59,
   "id": "180bf3cd-1853-4024-804e-44f00cdf9f4b",
   "metadata": {},
   "outputs": [],
   "source": [
    "# which is not always representative, because, for example, \n",
    "# 'https://philnat.unibas.ch/de/studium/' and  'https://philnat.unibas.ch/de/studium/master/' \n",
    "# provide almost the same information"
   ]
  },
  {
   "cell_type": "code",
   "execution_count": 62,
   "id": "c3a263a8-5185-4f41-99b2-e3730747bab4",
   "metadata": {},
   "outputs": [],
   "source": [
    "# Save results for further evaluation \n",
    "\n",
    "def get_dataset(faqs_data):\n",
    "    \n",
    "    test_dataset = []\n",
    "    for i in range(len(faqs_data)):\n",
    "    \n",
    "        query = faqs_data[i]['question'] \n",
    "        \n",
    "        rag_answer, rag_links = rag(query) \n",
    "        \n",
    "        record = {\n",
    "            'question' : query,\n",
    "            'answer' : faqs_data[i]['answer'],\n",
    "            'links' :  faqs_data[i]['links'],\n",
    "            'rag_answer' : rag_answer, \n",
    "            'rag_links' : rag_links\n",
    "        }\n",
    "    \n",
    "        test_dataset.append(record)\n",
    "        print(\"Processed record #\", i)\n",
    "\n",
    "    return test_dataset\n",
    "\n"
   ]
  },
  {
   "cell_type": "code",
   "execution_count": 67,
   "id": "2f3af160-9fda-48e6-9aab-ea3ffb986923",
   "metadata": {},
   "outputs": [
    {
     "name": "stdout",
     "output_type": "stream",
     "text": [
      "Total time for the execution to complete on the database server: 0.084718 milliseconds\n",
      "Extracted URLs: ['https://philnat.unibas.ch/de/studium/master/', 'file:///../../data/446_520BMaSFh_01.pdf', 'file:///../../data/Merkblatt_Pruefungseinsicht_2021.pdf', 'https://philnat.unibas.ch/de/studium/ausserfakultaere-studienfaecher/', 'https://philnat.unibas.ch/de/studium/master/']\n",
      "Processed record # 0\n"
     ]
    },
    {
     "data": {
      "text/plain": [
       "[{'question': 'Was sind die rechtlichen Grundlagen meines Studiums?',\n",
       "  'answer': 'Alle generellen Fragen rund um das Studium an der Universität Basel werden in den folgenden Ordnungen geregelt: Studierendenordnung (gilt für alle Studierenden der Uni Basel):   Bachelorstudium: Ordnung der Philosophisch Naturwissenschaftlichen Fakultät der Universität Basel für das Bachelorstudium-\\xa0\\xa0 \\xa0 Masterstudium: Ordnung der Philosophisch-Naturwissenschaftlichen Fakultät der Universität Basel für das MasterstudiumDiese Ordnungen gelten für alle Studierenden, \\xa0die entweder an der Phil.-Nat. Fakultät immatrikuliert sind, oder eine Lehrveranstaltung besuchen, die von der Phil.-Nat. Fakultät angeboten wird):  ',\n",
       "  'links': ['https://www.unibas.ch/de/Studium/Studierendenordnung.html',\n",
       "   'https://philnat.unibas.ch/de/studium/'],\n",
       "  'rag_answer': 'Die rechtlichen Grundlagen Ihres Studiums sind in verschiedenen Gesetzen und Vorschriften festgelegt. Dazu gehören in der Regel das Hochschulgesetz des jeweiligen Bundeslandes, die Studien- und Prüfungsordnungen Ihrer Hochschule sowie die allgemeinen Studienbedingungen. Diese Dokumente regeln Aspekte wie Zulassungsvoraussetzungen, Studienablauf, Prüfungsmodalitäten und Rechte sowie Pflichten der Studierenden. Es ist empfehlenswert, sich mit diesen Regelungen vertraut zu machen, um ein besseres Verständnis für die Rahmenbedingungen Ihres Studiums zu erhalten. Bei weiteren Fragen können Sie sich gerne an das Studierendensekretariat oder die Studienberatung wenden.',\n",
       "  'rag_links': ['https://philnat.unibas.ch/de/studium/master/',\n",
       "   'file:///../../data/446_520BMaSFh_01.pdf',\n",
       "   'file:///../../data/Merkblatt_Pruefungseinsicht_2021.pdf',\n",
       "   'https://philnat.unibas.ch/de/studium/ausserfakultaere-studienfaecher/',\n",
       "   'https://philnat.unibas.ch/de/studium/master/']}]"
      ]
     },
     "execution_count": 67,
     "metadata": {},
     "output_type": "execute_result"
    }
   ],
   "source": [
    "# test_dataset = get_dataset([faqs_data[0]])\n",
    "# test_dataset"
   ]
  },
  {
   "cell_type": "code",
   "execution_count": null,
   "id": "786f6bc8-a99b-46a2-a6df-ebbb25cce303",
   "metadata": {},
   "outputs": [],
   "source": [
    "\n",
    "filename = 'test_dataset.json'\n",
    "\n",
    "with open(filename, 'w') as f:\n",
    "    json.dump(test_dataset, f, indent=4)"
   ]
  },
  {
   "cell_type": "markdown",
   "id": "8d117e23-1ef8-41aa-9359-9d2baaeca1a4",
   "metadata": {},
   "source": [
    "## Use fake FAQs\n",
    "\n",
    "The second option is to generate questions based on the provided text, which gives a much larger dataset.\n",
    "\n",
    "```python\n",
    "prompt_fake_faqs = \"\"\"\n",
    "You emulate a student of the University of Basel.\n",
    "Formulate 3 questions this student might ask based on the provided text. The record\n",
    "should contain the answers to the questions, and the questions should be complete and not too short.\n",
    "If possible, use as few words as possible from the text.\n",
    "\n",
    "Text: {text}\n",
    "\n",
    "Provide the output in parsable JSON without using code blocks:\n",
    "\n",
    "[\"question1\", \"question2\", \"question3\"]\n",
    "\"\"\".strip()\n",
    "\n",
    "```\n",
    "\n",
    "\n",
    "```python\n",
    "\n",
    "\n",
    "prompt_evaluation = \"\"\"\n",
    "Expected Response: {expected_response}\n",
    "Actual Response: {actual_response}\n",
    "---\n",
    "(Answer with 'true' or 'false') Does the actual response match the expected response? \n",
    "\"\"\"\n",
    "```"
   ]
  },
  {
   "cell_type": "code",
   "execution_count": 322,
   "id": "3884b436-6a67-4793-b2b3-2becd9c3b901",
   "metadata": {},
   "outputs": [],
   "source": [
    "prompt_fake_faqs = \"\"\"\n",
    "You emulate a student of the University of Basel.\n",
    "Formulate 3 questions this student might ask based on the provided text. The record\n",
    "should contain the answers to the questions, and the questions should be complete and not too short.\n",
    "If possible, use as few words as possible from the text.\n",
    "\n",
    "Text: {text}\n",
    "\n",
    "Provide the output in parsable JSON without using code blocks:\n",
    "\n",
    "[\"question1\", \"question2\", \"question3\"]\n",
    "\"\"\".strip()"
   ]
  },
  {
   "cell_type": "code",
   "execution_count": 70,
   "id": "da30fdce-c6b4-4ac4-bf01-42d3f459d19e",
   "metadata": {},
   "outputs": [],
   "source": [
    "\n",
    "# query = faqs_data[0]['question']\n",
    "# human_answer = faqs_data[0]['answer']\n",
    "# relevant_links = faqs_data[0]['links']\n",
    "\n",
    "# rag_context, rag_links =  get_context(query, db, collection)\n",
    "\n",
    "# d = cleaned_docs[0]\n",
    "\n",
    " \n",
    "# prompt = build_prompt(prompt_fake_faqs , d)\n",
    "# response = generate_new_dataset(prompt)\n"
   ]
  },
  {
   "cell_type": "code",
   "execution_count": 68,
   "id": "f07fc44f-947b-49fb-83db-7ec24c369b51",
   "metadata": {},
   "outputs": [],
   "source": [
    "#prompt"
   ]
  },
  {
   "cell_type": "code",
   "execution_count": 69,
   "id": "f8145fcf-c7a8-46bc-bacc-298d63b129d5",
   "metadata": {},
   "outputs": [],
   "source": [
    "#response"
   ]
  },
  {
   "cell_type": "code",
   "execution_count": null,
   "id": "2f42b547-a6bb-4a1a-9ad6-bdfce95c09f5",
   "metadata": {},
   "outputs": [],
   "source": []
  }
 ],
 "metadata": {
  "kernelspec": {
   "display_name": "hackathon_rags",
   "language": "python",
   "name": "hackathon_rags"
  },
  "language_info": {
   "codemirror_mode": {
    "name": "ipython",
    "version": 3
   },
   "file_extension": ".py",
   "mimetype": "text/x-python",
   "name": "python",
   "nbconvert_exporter": "python",
   "pygments_lexer": "ipython3",
   "version": "3.12.5"
  }
 },
 "nbformat": 4,
 "nbformat_minor": 5
}
